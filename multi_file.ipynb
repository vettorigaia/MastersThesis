{
 "cells": [
  {
   "cell_type": "code",
   "execution_count": null,
   "id": "74c6d662",
   "metadata": {},
   "outputs": [],
   "source": [
    "from NewLibraryENG import *"
   ]
  },
  {
   "cell_type": "code",
   "execution_count": null,
   "id": "f240e188",
   "metadata": {},
   "outputs": [],
   "source": [
    "import glob\n",
    "list_dir=glob.glob(\"/Users/Gaia_1/Desktop/h5files/*.h5\")"
   ]
  },
  {
   "cell_type": "code",
   "execution_count": null,
   "id": "1901f556",
   "metadata": {},
   "outputs": [],
   "source": [
    "fs = 10000 #Sampling Frequency\n",
    "all_data=[]\n",
    "all_ref=[]\n",
    "for file in tqdm(list_dir):\n",
    "    string=file\n",
    "    data=h5py.File(string,'r')\n",
    "    data_readings = data['Data']['Recording_0']['AnalogStream']['Stream_0']['ChannelData'][()]\n",
    "    info = data['Data']['Recording_0']['AnalogStream']['Stream_0']['InfoChannel'][()]\n",
    "    info_table = pd.DataFrame(info, columns = list(info.dtype.fields.keys()))\n",
    "    labels = info_table['Label']\n",
    "    readings = pd.DataFrame(data = data_readings.transpose(), columns = labels)\n",
    "    ref=readings[b'Ref']\n",
    "    len_data=int(len(readings)/3)\n",
    "    readings=readings.drop([b'Ref'],axis=1)\n",
    "    readings=readings.iloc[0:len_data, 17:23]\n",
    "    ref=ref[0:len_data]\n",
    "    all_ref.append(ref)\n",
    "    print(readings.shape)\n",
    "    all_data.append(readings)"
   ]
  },
  {
   "cell_type": "code",
   "execution_count": null,
   "id": "4d2dfdb0",
   "metadata": {},
   "outputs": [],
   "source": []
  },
  {
   "cell_type": "code",
   "execution_count": null,
   "id": "8b784f21",
   "metadata": {},
   "outputs": [],
   "source": [
    "lowcut = 300\n",
    "highcut = 3000\n",
    "fs=10000\n",
    "order=8\n",
    "b,a=butter_bandpass(lowcut,highcut,fs,order=order)\n",
    "filtered_all_data=[]\n",
    "for file in tqdm(range(len(all_data))):\n",
    "    prova=all_data[file]\n",
    "    ref=all_ref[file]\n",
    "    prova_rows = range(prova.shape[0])\n",
    "    filt_prova = pd.DataFrame(data = 0, columns=prova.columns, index=prova_rows, dtype = \"float32\")\n",
    "    filt_ref=filtfilt(b,a,ref)\n",
    "    for x in tqdm(range(prova.shape[1])):\n",
    "        filt_prova.values[:,x] = scipy.signal.filtfilt(b, a, prova.values[:,x])\n",
    "    for electrode in tqdm(prova.columns):\n",
    "        filt_prova[electrode] = filt_prova[electrode] - filt_ref\n",
    "    filtered_all_data.append(filt_prova)\n",
    "    filt_prova.shape"
   ]
  },
  {
   "cell_type": "markdown",
   "id": "9e3320c0",
   "metadata": {},
   "source": [
    "# Detection"
   ]
  },
  {
   "cell_type": "code",
   "execution_count": null,
   "id": "94070a97",
   "metadata": {
    "scrolled": true
   },
   "outputs": [],
   "source": [
    "pos_ind=[]\n",
    "neg_ind=[]\n",
    "for file in tqdm(range(len(filtered_all_data))):\n",
    "    pos_ind_file=[]\n",
    "    neg_ind_file=[]\n",
    "    prova=filtered_all_data[file]\n",
    "    for electrode in tqdm(prova.columns):\n",
    "        channel=prova[electrode]\n",
    "        pos, neg=find_all_spikes(channel)\n",
    "        pos_ind_file.append(pos)\n",
    "        neg_ind_file.append(neg)\n",
    "    pos_ind.append(pos_ind_file)\n",
    "    neg_ind.append(neg_ind_file)"
   ]
  },
  {
   "cell_type": "markdown",
   "id": "fd3502cf",
   "metadata": {},
   "source": [
    "# Cutouts"
   ]
  },
  {
   "cell_type": "code",
   "execution_count": null,
   "id": "de7644f7",
   "metadata": {
    "scrolled": true
   },
   "outputs": [],
   "source": [
    "pos_cut=[]\n",
    "neg_cut=[]\n",
    "n_pos=[]\n",
    "n_neg=[]\n",
    "for file in tqdm(range(len(filtered_all_data))):\n",
    "    pos_cut_file=[]\n",
    "    neg_cut_file=[]\n",
    "    n_pos_file=[]\n",
    "    n_neg_file=[]\n",
    "    prova=filtered_all_data[file]\n",
    "    pos_ind_file=pos_ind[file]\n",
    "    neg_ind_file=neg_ind[file]\n",
    "    for i,electrode in enumerate(tqdm(prova.columns)):\n",
    "        pos=pos_ind_file[i]\n",
    "        neg=neg_ind_file[i]\n",
    "        channel=prova[electrode]\n",
    "        pos_cut1,n_pos1, neg_cut1,n_neg1 = cut(pos,neg,channel)\n",
    "        pos_cut_file.append(pos_cut1)\n",
    "        neg_cut_file.append(neg_cut1)\n",
    "        n_pos_file.append(n_pos1)\n",
    "        n_neg_file.append(n_neg1)\n",
    "    pos_cut.append(pos_cut_file)\n",
    "    neg_cut.append(neg_cut_file)\n",
    "    n_pos.append(n_pos_file)\n",
    "    n_neg.append(n_neg_file)\n",
    "#savedp = copy.deepcopy(pos_cut)\n",
    "#savedn = copy.deepcopy(neg_cut)"
   ]
  },
  {
   "cell_type": "code",
   "execution_count": null,
   "id": "c939347d",
   "metadata": {
    "scrolled": true
   },
   "outputs": [],
   "source": [
    "for file in tqdm(range(len(filtered_all_data))):\n",
    "    pos_cut_file=pos_cut[file]\n",
    "    neg_cut_file=neg_cut[file]\n",
    "    for i in (tqdm(range(len(pos_cut_file)))):\n",
    "        pos_cut_file[i]=mask_cuts(pos_cut_file[i])\n",
    "        neg_cut_file[i]= mask_cuts(neg_cut_file[i])\n",
    "    pos_cut[file]=pos_cut_file\n",
    "    neg_cut[file]=neg_cut_file"
   ]
  },
  {
   "cell_type": "markdown",
   "id": "882845b7",
   "metadata": {},
   "source": [
    "# Clustering"
   ]
  },
  {
   "cell_type": "code",
   "execution_count": null,
   "id": "4c3a16fa",
   "metadata": {},
   "outputs": [],
   "source": []
  },
  {
   "cell_type": "code",
   "execution_count": null,
   "id": "ae330f6e",
   "metadata": {
    "scrolled": true
   },
   "outputs": [],
   "source": [
    "pos_clusters=[]\n",
    "for file in tqdm(range(len(filtered_all_data))):\n",
    "    data=filtered_all_data[file]\n",
    "    pos_cut_file=pos_cut[file]\n",
    "    n_pos_file=n_pos[file]\n",
    "    final_data_pos=[]\n",
    "    for channel in (tqdm(range(len(pos_cut)))):\n",
    "        channel_clusters=clus(pos_cut_file[channel],'kmeans',n_pos_file[channel],data)\n",
    "        final_data_pos.append(channel_clusters)\n",
    "    pos_clusters.append(final_data_pos)"
   ]
  },
  {
   "cell_type": "code",
   "execution_count": null,
   "id": "0d1e23a4",
   "metadata": {
    "scrolled": true
   },
   "outputs": [],
   "source": [
    "neg_clusters=[]\n",
    "for file in tqdm(range(len(filtered_all_data))):\n",
    "    data=filtered_all_data[file]\n",
    "    neg_cut_file=neg_cut[file]\n",
    "    n_neg_file=n_neg[file]\n",
    "    final_data_neg=[]\n",
    "    for channel in (tqdm(range(len(neg_cut_file)))):\n",
    "        channel_clusters=clus(neg_cut_file[channel],'kmeans',n_neg_file[channel],data)\n",
    "        final_data_neg.append(channel_clusters)\n",
    "    neg_clusters.append(final_data_neg)"
   ]
  },
  {
   "cell_type": "code",
   "execution_count": null,
   "id": "972f1a43",
   "metadata": {
    "scrolled": true
   },
   "outputs": [],
   "source": [
    "final_data_pos=pos_clusters[0]\n",
    "final_data_pos\n",
    "#final_data_pos[electrode]\n",
    "electrode=final_data_pos[0]\n",
    "len(electrode)\n",
    "electrode\n",
    "#neuron=electrode[0]\n",
    "#len(neuron)\n",
    "#neuron"
   ]
  },
  {
   "cell_type": "markdown",
   "id": "8d2dec2c",
   "metadata": {},
   "source": [
    "## capire come salvare i neuroni clusterizzati e usarli per point process"
   ]
  },
  {
   "cell_type": "code",
   "execution_count": null,
   "id": "8e4949e0",
   "metadata": {},
   "outputs": [],
   "source": [
    "neg_clusters[0][0]"
   ]
  },
  {
   "cell_type": "code",
   "execution_count": null,
   "id": "2f2a8247",
   "metadata": {},
   "outputs": [],
   "source": [
    "neurons = []\n",
    "for file in pos_clusters:    \n",
    "    for electrode in file:\n",
    "        neuron_clus=[]\n",
    "        neuron_elec=[]\n",
    "        for cluster in electrode:\n",
    "            for neuron in cluster:\n",
    "                neuron_clus.append(neuron)\n",
    "            neuron_elec.append(neuron_clus)\n",
    "    neurons.append(neuron_elec)\n",
    "\n",
    "len(neurons)"
   ]
  },
  {
   "cell_type": "code",
   "execution_count": null,
   "id": "9b5f6787",
   "metadata": {},
   "outputs": [],
   "source": [
    "for file in neg_clusters:\n",
    "    for electrode in file:\n",
    "        neuron_clus=[]\n",
    "        neuron_elec=[]\n",
    "        for cluster in electrode:\n",
    "            for neuron in cluster:\n",
    "                neuron_clus.append(neuron)\n",
    "            neuron_elec.append(neuron_clus)\n",
    "    neurons.append(neuron_elec)\n",
    "len(neurons)"
   ]
  },
  {
   "cell_type": "code",
   "execution_count": null,
   "id": "d0a77aae",
   "metadata": {},
   "outputs": [],
   "source": [
    "s=0\n",
    "for i in range(len(neurons)):\n",
    "    s=s+len(neurons[i])\n",
    "    #print(len(neurons[i]))\n",
    "    for j in range(len(neurons[i])):\n",
    "        #print(len(neurons[i][j]))\n",
    "        s=s+len(neurons[i][j])\n",
    "s"
   ]
  },
  {
   "cell_type": "markdown",
   "id": "98a84f5b",
   "metadata": {},
   "source": [
    "# Export (after sorting)"
   ]
  },
  {
   "cell_type": "code",
   "execution_count": null,
   "id": "f854c24c",
   "metadata": {},
   "outputs": [],
   "source": [
    "for file in list_dir:\n",
    "    name_data=file\n",
    "    save_data = 'After'+name_data+'.txt'\n",
    "    np.savetxt(r\"C:\\After_SS\\%save_data.txt\" % count,adj_neur[file], delimiter=', ', fmt='%12.8f')"
   ]
  },
  {
   "cell_type": "code",
   "execution_count": null,
   "id": "19298a7c",
   "metadata": {},
   "outputs": [],
   "source": []
  },
  {
   "cell_type": "markdown",
   "id": "9cddbc90",
   "metadata": {},
   "source": [
    "# Point Process"
   ]
  },
  {
   "cell_type": "code",
   "execution_count": null,
   "id": "e88d42c6",
   "metadata": {},
   "outputs": [],
   "source": [
    "adj_neur=[]\n",
    "counter = 0\n",
    "max_len=0\n",
    "\n",
    "for neu in neurons:\n",
    "    print('counter: ',counter,neu.shape[0])\n",
    "    if neu.shape[0]>max_len:\n",
    "        max_len=neu.shape[0]\n",
    "    counter+=1\n",
    "for neuron in neurons:\n",
    "    if neuron.shape[0]<=max_len:\n",
    "        diff = max_len-neuron.shape[0]\n",
    "        adj_neur.append(np.concatenate((neuron,np.zeros([diff]))))\n"
   ]
  },
  {
   "cell_type": "code",
   "execution_count": null,
   "id": "90d0f83f",
   "metadata": {},
   "outputs": [],
   "source": [
    "len(neurons[0][1])"
   ]
  },
  {
   "cell_type": "code",
   "execution_count": null,
   "id": "395bfda3",
   "metadata": {},
   "outputs": [],
   "source": [
    "adj_neur=[]\n",
    "counter = 0\n",
    "max_len=0\n",
    "for file in neurons:\n",
    "    for clus in file:\n",
    "        for neu in clus:\n",
    "            print('counter: ',counter,neu.shape[0])\n",
    "            if neu.shape[0]>max_len:\n",
    "                max_len=neu.shape[0]\n",
    "        counter+=1\n",
    "    for clus in file:\n",
    "        for neu in clus:\n",
    "            if neuron.shape[0]<=max_len:\n",
    "                diff = max_len-neuron.shape[0]\n",
    "                adj_neur.append(np.concatenate((neuron,np.zeros([diff]))))\n"
   ]
  },
  {
   "cell_type": "code",
   "execution_count": null,
   "id": "1863b9b0",
   "metadata": {},
   "outputs": [],
   "source": []
  },
  {
   "cell_type": "code",
   "execution_count": null,
   "id": "8eed145c",
   "metadata": {},
   "outputs": [],
   "source": []
  },
  {
   "cell_type": "code",
   "execution_count": null,
   "id": "effdd44b",
   "metadata": {},
   "outputs": [],
   "source": []
  }
 ],
 "metadata": {
  "kernelspec": {
   "display_name": "Python 3 (ipykernel)",
   "language": "python",
   "name": "python3"
  },
  "language_info": {
   "codemirror_mode": {
    "name": "ipython",
    "version": 3
   },
   "file_extension": ".py",
   "mimetype": "text/x-python",
   "name": "python",
   "nbconvert_exporter": "python",
   "pygments_lexer": "ipython3",
   "version": "3.11.4"
  }
 },
 "nbformat": 4,
 "nbformat_minor": 5
}
