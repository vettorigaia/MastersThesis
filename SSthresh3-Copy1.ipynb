{
 "cells": [
  {
   "cell_type": "markdown",
   "id": "9bfcc3c9",
   "metadata": {},
   "source": [
    "# Spike sorting with RMM"
   ]
  },
  {
   "cell_type": "code",
   "execution_count": null,
   "id": "82f515d7",
   "metadata": {},
   "outputs": [],
   "source": [
    "#provare silhouette threshold =0.2"
   ]
  },
  {
   "cell_type": "code",
   "execution_count": 1,
   "id": "2d3cff87",
   "metadata": {
    "scrolled": true
   },
   "outputs": [
    {
     "data": {
      "application/vnd.jupyter.widget-view+json": {
       "model_id": "38ee58d97db1497484cb74d31fb56089",
       "version_major": 2,
       "version_minor": 0
      },
      "text/plain": [
       "  0%|          | 0/17 [00:00<?, ?it/s]"
      ]
     },
     "metadata": {},
     "output_type": "display_data"
    },
    {
     "name": "stdout",
     "output_type": "stream",
     "text": [
      "healthy_bl_0 : target 0 stimulation 0\n",
      "File Reading...\n"
     ]
    },
    {
     "ename": "KeyboardInterrupt",
     "evalue": "",
     "output_type": "error",
     "traceback": [
      "\u001b[0;31m---------------------------------------------------------------------------\u001b[0m",
      "\u001b[0;31mKeyboardInterrupt\u001b[0m                         Traceback (most recent call last)",
      "Cell \u001b[0;32mIn[1], line 38\u001b[0m\n\u001b[1;32m     35\u001b[0m     n_lrrk2_st\u001b[38;5;241m+\u001b[39m\u001b[38;5;241m=\u001b[39m\u001b[38;5;241m1\u001b[39m\n\u001b[1;32m     37\u001b[0m \u001b[38;5;28mprint\u001b[39m(name,\u001b[38;5;124m'\u001b[39m\u001b[38;5;124m:\u001b[39m\u001b[38;5;124m'\u001b[39m,\u001b[38;5;124m'\u001b[39m\u001b[38;5;124mtarget\u001b[39m\u001b[38;5;124m'\u001b[39m,target,\u001b[38;5;124m'\u001b[39m\u001b[38;5;124mstimulation\u001b[39m\u001b[38;5;124m'\u001b[39m,stim)\n\u001b[0;32m---> 38\u001b[0m neurons,firing\u001b[38;5;241m=\u001b[39mspike_sorting(file,output_path,name)\n\u001b[1;32m     39\u001b[0m \u001b[38;5;66;03m#final_neurons.append(neurons)\u001b[39;00m\n\u001b[1;32m     40\u001b[0m final_firing\u001b[38;5;241m.\u001b[39mappend(firing)\n",
      "File \u001b[0;32m~/Desktop/tesi/LRRK2_MEALibrary.py:35\u001b[0m, in \u001b[0;36mspike_sorting\u001b[0;34m(input_path, output_path, savename)\u001b[0m\n\u001b[1;32m     33\u001b[0m \u001b[38;5;28mprint\u001b[39m(\u001b[38;5;124m'\u001b[39m\u001b[38;5;124mFile Reading...\u001b[39m\u001b[38;5;124m'\u001b[39m)\n\u001b[1;32m     34\u001b[0m data \u001b[38;5;241m=\u001b[39m h5py\u001b[38;5;241m.\u001b[39mFile(input_path,\u001b[38;5;124m'\u001b[39m\u001b[38;5;124mr\u001b[39m\u001b[38;5;124m'\u001b[39m)\n\u001b[0;32m---> 35\u001b[0m data_readings \u001b[38;5;241m=\u001b[39m data[\u001b[38;5;124m'\u001b[39m\u001b[38;5;124mData\u001b[39m\u001b[38;5;124m'\u001b[39m][\u001b[38;5;124m'\u001b[39m\u001b[38;5;124mRecording_0\u001b[39m\u001b[38;5;124m'\u001b[39m][\u001b[38;5;124m'\u001b[39m\u001b[38;5;124mAnalogStream\u001b[39m\u001b[38;5;124m'\u001b[39m][\u001b[38;5;124m'\u001b[39m\u001b[38;5;124mStream_0\u001b[39m\u001b[38;5;124m'\u001b[39m][\u001b[38;5;124m'\u001b[39m\u001b[38;5;124mChannelData\u001b[39m\u001b[38;5;124m'\u001b[39m][()]\n\u001b[1;32m     36\u001b[0m info \u001b[38;5;241m=\u001b[39m data[\u001b[38;5;124m'\u001b[39m\u001b[38;5;124mData\u001b[39m\u001b[38;5;124m'\u001b[39m][\u001b[38;5;124m'\u001b[39m\u001b[38;5;124mRecording_0\u001b[39m\u001b[38;5;124m'\u001b[39m][\u001b[38;5;124m'\u001b[39m\u001b[38;5;124mAnalogStream\u001b[39m\u001b[38;5;124m'\u001b[39m][\u001b[38;5;124m'\u001b[39m\u001b[38;5;124mStream_0\u001b[39m\u001b[38;5;124m'\u001b[39m][\u001b[38;5;124m'\u001b[39m\u001b[38;5;124mInfoChannel\u001b[39m\u001b[38;5;124m'\u001b[39m][()]\n\u001b[1;32m     37\u001b[0m info_table \u001b[38;5;241m=\u001b[39m pd\u001b[38;5;241m.\u001b[39mDataFrame(info, columns \u001b[38;5;241m=\u001b[39m \u001b[38;5;28mlist\u001b[39m(info\u001b[38;5;241m.\u001b[39mdtype\u001b[38;5;241m.\u001b[39mfields\u001b[38;5;241m.\u001b[39mkeys()))\n",
      "File \u001b[0;32mh5py/_objects.pyx:54\u001b[0m, in \u001b[0;36mh5py._objects.with_phil.wrapper\u001b[0;34m()\u001b[0m\n",
      "File \u001b[0;32mh5py/_objects.pyx:55\u001b[0m, in \u001b[0;36mh5py._objects.with_phil.wrapper\u001b[0;34m()\u001b[0m\n",
      "File \u001b[0;32m~/anaconda3/lib/python3.11/site-packages/h5py/_hl/dataset.py:758\u001b[0m, in \u001b[0;36mDataset.__getitem__\u001b[0;34m(self, args, new_dtype)\u001b[0m\n\u001b[1;32m    756\u001b[0m \u001b[38;5;28;01mif\u001b[39;00m \u001b[38;5;28mself\u001b[39m\u001b[38;5;241m.\u001b[39m_fast_read_ok \u001b[38;5;129;01mand\u001b[39;00m (new_dtype \u001b[38;5;129;01mis\u001b[39;00m \u001b[38;5;28;01mNone\u001b[39;00m):\n\u001b[1;32m    757\u001b[0m     \u001b[38;5;28;01mtry\u001b[39;00m:\n\u001b[0;32m--> 758\u001b[0m         \u001b[38;5;28;01mreturn\u001b[39;00m \u001b[38;5;28mself\u001b[39m\u001b[38;5;241m.\u001b[39m_fast_reader\u001b[38;5;241m.\u001b[39mread(args)\n\u001b[1;32m    759\u001b[0m     \u001b[38;5;28;01mexcept\u001b[39;00m \u001b[38;5;167;01mTypeError\u001b[39;00m:\n\u001b[1;32m    760\u001b[0m         \u001b[38;5;28;01mpass\u001b[39;00m  \u001b[38;5;66;03m# Fall back to Python read pathway below\u001b[39;00m\n",
      "\u001b[0;31mKeyboardInterrupt\u001b[0m: "
     ]
    }
   ],
   "source": [
    "#final_neurons=[]\n",
    "final_firing=[]\n",
    "from LRRK2_MEALibrary import *\n",
    "import glob\n",
    "#final=[]\n",
    "list_dir=glob.glob(\"/Users/Gaia_1/Desktop/allh5filestutto/*.h5\")\n",
    "output_path='/Users/Gaia_1/Desktop/Data after SS 28feb'\n",
    "n_healthy_bl=0\n",
    "n_healthy_st=0\n",
    "n_lrrk2_bl=0\n",
    "n_lrrk2_st=0\n",
    "for file in tqdm(list_dir):\n",
    "    target=1\n",
    "    stim=0\n",
    "    if 'health' in file:\n",
    "        target=0\n",
    "    if 'after' in file:\n",
    "        stim=1\n",
    "    file_name = file.split(\"/\")[-1]\n",
    "\n",
    "    if target==0 and stim==0:\n",
    "        name=f\"healthy_bl_{n_healthy_bl}\"\n",
    "        n_healthy_bl+=1\n",
    "    \n",
    "    if target==0 and stim==1:\n",
    "        name=f\"healthy_st_{n_healthy_st}\"\n",
    "        n_healthy_st+=1\n",
    "    \n",
    "    if target==1 and stim==0:\n",
    "        name=f\"lrrk2_bl_{n_lrrk2_bl}\"\n",
    "        n_lrrk2_bl+=1\n",
    "    \n",
    "    if target==1 and stim==1:\n",
    "        name=f\"lrrk2_st_{n_lrrk2_st}\"\n",
    "        n_lrrk2_st+=1\n",
    "    \n",
    "    print(name,':','target',target,'stimulation',stim)\n",
    "    neurons,firing=spike_sorting(file,output_path,name)\n",
    "    #final_neurons.append(neurons)\n",
    "    final_firing.append(firing)\n",
    "    #print(firing)"
   ]
  },
  {
   "cell_type": "code",
   "execution_count": null,
   "id": "7cc282db",
   "metadata": {},
   "outputs": [],
   "source": []
  },
  {
   "cell_type": "code",
   "execution_count": null,
   "id": "7b602018",
   "metadata": {},
   "outputs": [],
   "source": []
  },
  {
   "cell_type": "code",
   "execution_count": null,
   "id": "11ef674a",
   "metadata": {
    "scrolled": false
   },
   "outputs": [],
   "source": [
    "import matplotlib.pyplot as plt\n",
    "\n",
    "# Initialize lists to store numerical values\n",
    "healthy_values_BL = []\n",
    "healthy_values_af = []\n",
    "\n",
    "lrrk2_values_BL = []\n",
    "lrrk2_values_af = []\n",
    "\n",
    "# Iterate through the list of lists\n",
    "for firing in final_firing:\n",
    "    file_name = firing[0]\n",
    "    numerical_values = [float(arr[0]) for arr in firing[1:]]\n",
    "    \n",
    "    # Check if the file name contains 'after'\n",
    "    if 'healthy' in file_name:\n",
    "        if 'after' in file_name:\n",
    "            healthy_values_af.extend(numerical_values)\n",
    "        else:\n",
    "            healthy_values_BL.extend(numerical_values)\n",
    "    else:\n",
    "        if 'after' in file_name:\n",
    "            lrrk2_values_af.extend(numerical_values)\n",
    "        else:\n",
    "            lrrk2_values_BL.extend(numerical_values)\n",
    "print('HEALTHY BL mean = ', np.mean(healthy_values_BL))\n",
    "print('HEALTHY AFTER mean = ', np.mean(healthy_values_af))\n",
    "print('LRRK2 BL mean = ', np.mean(lrrk2_values_BL))\n",
    "print('LRRK2 AFTER mean = ', np.mean(lrrk2_values_af))\n",
    "# Create box plots for each group\n",
    "plt.figure(figsize=(6, 6))\n",
    "plt.boxplot([healthy_values_BL,healthy_values_af, lrrk2_values_BL, lrrk2_values_af], labels=['Healthy BL','Healthy after', 'LRRK2 BL','LRRK2 after'])\n",
    "plt.title('Distribution of Firing Rates')\n",
    "plt.ylabel('Firing Rate')\n",
    "#plt.savefig('firing_rates_boxplot_sm.jpg')\n",
    "plt.show()\n"
   ]
  },
  {
   "cell_type": "code",
   "execution_count": null,
   "id": "501293fb",
   "metadata": {},
   "outputs": [],
   "source": []
  },
  {
   "cell_type": "code",
   "execution_count": null,
   "id": "2e7dc232",
   "metadata": {},
   "outputs": [],
   "source": []
  },
  {
   "cell_type": "code",
   "execution_count": null,
   "id": "b81db137",
   "metadata": {},
   "outputs": [],
   "source": []
  },
  {
   "cell_type": "code",
   "execution_count": null,
   "id": "d376dfe1",
   "metadata": {},
   "outputs": [],
   "source": []
  },
  {
   "cell_type": "code",
   "execution_count": null,
   "id": "a9d25029",
   "metadata": {},
   "outputs": [],
   "source": []
  },
  {
   "cell_type": "code",
   "execution_count": null,
   "id": "3cddf3ee",
   "metadata": {},
   "outputs": [],
   "source": []
  }
 ],
 "metadata": {
  "kernelspec": {
   "display_name": "Python 3 (ipykernel)",
   "language": "python",
   "name": "python3"
  },
  "language_info": {
   "codemirror_mode": {
    "name": "ipython",
    "version": 3
   },
   "file_extension": ".py",
   "mimetype": "text/x-python",
   "name": "python",
   "nbconvert_exporter": "python",
   "pygments_lexer": "ipython3",
   "version": "3.11.4"
  }
 },
 "nbformat": 4,
 "nbformat_minor": 5
}
