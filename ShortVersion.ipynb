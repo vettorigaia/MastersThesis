{
 "cells": [
  {
   "cell_type": "code",
   "execution_count": 1,
   "id": "6410d9b9",
   "metadata": {},
   "outputs": [],
   "source": [
    "from NewLibraryENGcopia import *\n",
    "\n",
    "#POPULATION 1 (HEALTHY):\n",
    "name_data_st = '2019-01-23T16-06-32Pop1 healthy cortical .h5'\n",
    "name_data_BL = '2019-01-23T11-19-05PoP1 healthy cortical .h5'\n",
    "name_data_24 = '2019-01-24T16-00-33Pop1 24hour after.h5'\n",
    "complete_string='/Users/Gaia_1/Desktop/allh5files/healthy/healthy_baseline/'+name_data_BL\n",
    "#complete_string='/Users/Gaia_1/Desktop/allh5files/healthy/healthy_stimulation/'+name_data_st\n",
    "#complete_string='/Users/Gaia_1/Desktop/allh5files/healthy/healthy 24hrs later/'+name_data_24"
   ]
  },
  {
   "cell_type": "code",
   "execution_count": 2,
   "id": "4e4b43ca",
   "metadata": {},
   "outputs": [
    {
     "name": "stdout",
     "output_type": "stream",
     "text": [
      "data shape:  (4222000, 60)\n"
     ]
    },
    {
     "ename": "UnboundLocalError",
     "evalue": "cannot access local variable 'prova' where it is not associated with a value",
     "output_type": "error",
     "traceback": [
      "\u001b[0;31m---------------------------------------------------------------------------\u001b[0m",
      "\u001b[0;31mUnboundLocalError\u001b[0m                         Traceback (most recent call last)",
      "Cell \u001b[0;32mIn[2], line 1\u001b[0m\n\u001b[0;32m----> 1\u001b[0m neurons\u001b[38;5;241m=\u001b[39mspike_sorting(complete_string)\n",
      "File \u001b[0;32m~/Desktop/tesi/NewLibraryENGcopia.py:37\u001b[0m, in \u001b[0;36mspike_sorting\u001b[0;34m(complete_string)\u001b[0m\n\u001b[1;32m     35\u001b[0m \u001b[38;5;28mprint\u001b[39m(\u001b[38;5;124m'\u001b[39m\u001b[38;5;124mdata shape: \u001b[39m\u001b[38;5;124m'\u001b[39m,readings\u001b[38;5;241m.\u001b[39mshape)\n\u001b[1;32m     36\u001b[0m \u001b[38;5;66;03m#filtering:\u001b[39;00m\n\u001b[0;32m---> 37\u001b[0m prova_rows \u001b[38;5;241m=\u001b[39m \u001b[38;5;28mrange\u001b[39m(prova\u001b[38;5;241m.\u001b[39mshape[\u001b[38;5;241m0\u001b[39m])\n\u001b[1;32m     38\u001b[0m filt_prova \u001b[38;5;241m=\u001b[39m pd\u001b[38;5;241m.\u001b[39mDataFrame(data \u001b[38;5;241m=\u001b[39m \u001b[38;5;241m0\u001b[39m, columns\u001b[38;5;241m=\u001b[39mprova\u001b[38;5;241m.\u001b[39mcolumns, index\u001b[38;5;241m=\u001b[39mprova_rows, dtype \u001b[38;5;241m=\u001b[39m \u001b[38;5;124m\"\u001b[39m\u001b[38;5;124mfloat32\u001b[39m\u001b[38;5;124m\"\u001b[39m)\n\u001b[1;32m     39\u001b[0m lowcut \u001b[38;5;241m=\u001b[39m \u001b[38;5;241m300\u001b[39m\n",
      "\u001b[0;31mUnboundLocalError\u001b[0m: cannot access local variable 'prova' where it is not associated with a value"
     ]
    }
   ],
   "source": [
    "neurons=spike_sorting(complete_string)"
   ]
  },
  {
   "cell_type": "code",
   "execution_count": null,
   "id": "807f52dc",
   "metadata": {},
   "outputs": [],
   "source": []
  },
  {
   "cell_type": "code",
   "execution_count": null,
   "id": "20e5bbc7",
   "metadata": {},
   "outputs": [],
   "source": []
  }
 ],
 "metadata": {
  "kernelspec": {
   "display_name": "Python 3 (ipykernel)",
   "language": "python",
   "name": "python3"
  },
  "language_info": {
   "codemirror_mode": {
    "name": "ipython",
    "version": 3
   },
   "file_extension": ".py",
   "mimetype": "text/x-python",
   "name": "python",
   "nbconvert_exporter": "python",
   "pygments_lexer": "ipython3",
   "version": "3.11.4"
  }
 },
 "nbformat": 4,
 "nbformat_minor": 5
}
