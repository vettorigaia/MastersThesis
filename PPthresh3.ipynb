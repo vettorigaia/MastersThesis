{
 "cells": [
  {
   "cell_type": "markdown",
   "id": "3ac33fd7",
   "metadata": {},
   "source": [
    "# Point Process with detection threshold = 3"
   ]
  },
  {
   "cell_type": "code",
   "execution_count": null,
   "id": "50ba0553",
   "metadata": {},
   "outputs": [],
   "source": [
    "import glob\n",
    "list_dir=glob.glob(\"/Users/Gaia_1/Desktop/Data after SS thresh 3/*.txt\")\n",
    "for file in list_dir:\n",
    "    print(file)\n",
    "print(len(list_dir))"
   ]
  },
  {
   "cell_type": "code",
   "execution_count": null,
   "id": "3ef39417",
   "metadata": {
    "scrolled": true
   },
   "outputs": [],
   "source": [
    "from NewLibraryENGcopia import *\n",
    "import glob\n",
    "finaldf=[]\n",
    "output_path='/Users/Gaia_1/Desktop/Data after SS thresh 3'\n",
    "list_dir=glob.glob(output_path+\"/*\")\n",
    "\n",
    "for file in list_dir:\n",
    "    target=1\n",
    "    stim=0\n",
    "    if 'health' in file:\n",
    "        target=0\n",
    "    if 'stimulation' in file:\n",
    "        stim=1\n",
    "    print(file,'target',target,'stimulation',stim)\n",
    "    df=this_poiproc(file,target,stim)\n",
    "    finaldf.append(df)"
   ]
  },
  {
   "cell_type": "code",
   "execution_count": null,
   "id": "2993ad1b",
   "metadata": {},
   "outputs": [],
   "source": []
  },
  {
   "cell_type": "markdown",
   "id": "eb0f215d",
   "metadata": {},
   "source": [
    "# Functions"
   ]
  },
  {
   "cell_type": "code",
   "execution_count": null,
   "id": "f22ec35b",
   "metadata": {},
   "outputs": [],
   "source": [
    "def this_poiproc(file,target,stim,):\n",
    "    dataframe = pd.DataFrame()\n",
    "    counter=0\n",
    "    list_neurons = np.genfromtxt(file, delimiter=',')\n",
    "    counter=0\n",
    "    print('Original number of neurons: ',len(list_neurons))\n",
    "    for neuron in tqdm(list_neurons):\n",
    "        neuron=neuron[neuron>0*10000]\n",
    "        neuron=neuron[neuron<200*10000]\n",
    "        #print('  Neuron with ',neuron.shape[0],'spikes')\n",
    "        if neuron.shape[0]>1000:\n",
    "            \n",
    "            print('  Neuron with ',neuron.shape[0],'spikes')\n",
    "        else:\n",
    "            print('    Excluded neuron with n spikes = ',neuron.shape[0])\n",
    "            continue\n",
    "        \n",
    "        ISI_healthy = np.diff(neuron)/10000\n",
    "        try:\n",
    "            map_estimate = this_Bayesian_mixture_model(ISI_healthy)\n",
    "        except Exception as e:\n",
    "            print(f\"An error occurred: {e}\")\n",
    "            continue\n",
    "        if map_estimate!=0:\n",
    "            counter+=1\n",
    "            map_estimate['Target']=target\n",
    "            map_estimate['Stimulation']=stim\n",
    "            df = pd.DataFrame.from_dict(map_estimate,orient='index')\n",
    "            dataframe = pd.concat([dataframe,df],axis = 1)\n",
    "    print('Final number of neurons: ',counter)\n",
    "    print('Target = ',target)\n",
    "    file_name = file.split(\"/\")[-1]\n",
    "    final = dataframe.T\n",
    "    final.to_csv('Data after PP thresh 3/'+file_name)\n",
    "    return dataframe\n"
   ]
  },
  {
   "cell_type": "code",
   "execution_count": null,
   "id": "4dbc04cc",
   "metadata": {},
   "outputs": [],
   "source": [
    "def this_Bayesian_mixture_model(ISI_data):\n",
    "    import scipy.stats as st\n",
    "    with pm.Model() as model:\n",
    "        ##### WALD DISTRIBUTION (INVERSE GAUSSIAN)\n",
    "        mu1 = pm.Uniform('mu1',lower=0.015,upper=0.03)\n",
    "        lam1 = pm.Uniform('lam1',lower=0.001,upper=0.05)\n",
    "        obs1 = pm.Wald.dist(mu=mu1,lam=lam1)\n",
    "\n",
    "\n",
    "        mu2 = pm.Uniform('mu2',lower=0.05,upper=0.1)\n",
    "        sigma2 = pm.Uniform('sigma2',lower=0.01,upper=0.7)\n",
    "        obs2 = pm.TruncatedNormal.dist(mu=mu2, sigma=sigma2, lower=0.0)\n",
    "\n",
    "        mu3 = pm.Uniform('mu3',lower=0.1,upper=0.6)\n",
    "        sigma3 = pm.Uniform('sigma3',lower=0.01,upper=0.7)\n",
    "        obs3 = pm.TruncatedNormal.dist(mu=mu3, sigma=sigma3, lower=0.0)\n",
    "        \n",
    "        w = pm.Dirichlet('w', a=np.array([1., 1., 1.]))\n",
    "        like = pm.Mixture('like', w=w, comp_dists = [obs1, obs2, obs3], observed=ISI_data)\n",
    "        \n",
    "    map_estimate = pm.find_MAP(model=model)\n",
    "    d= np.linspace(0.00, 1, len(ISI_data))\n",
    "    map_estimate['w1'] = map_estimate['w'][0]\n",
    "    map_estimate['w2'] = map_estimate['w'][1]\n",
    "    map_estimate['w3'] = map_estimate['w'][2]\n",
    "    \n",
    "    mu1=map_estimate['mu1']\n",
    "    mu2=map_estimate['mu2']\n",
    "    mu3=map_estimate['mu3']\n",
    "    lam1=map_estimate['lam1']\n",
    "    sigma2=map_estimate['sigma2']\n",
    "    sigma3=map_estimate['sigma3']\n",
    "    w1=map_estimate['w1']\n",
    "    w2=map_estimate['w2']\n",
    "    w3=map_estimate['w3']       \n",
    "    \n",
    "    pdf = w1*st.invgauss.pdf(d, mu1/lam1, scale = lam1) + w2*st.norm.pdf(d, mu2, sigma2) + w3*st.norm.pdf(d, mu3, sigma3)\n",
    "    bins = np.arange(0, .5, 1e-3) \n",
    "    \n",
    "    plt.hist(ISI_data, bins, color='orange', alpha=0.7, label='Histogram',density=True)\n",
    "    plt.plot(d, pdf, color='blue', label='PDF')\n",
    "    #plt.xlim(0, 0.2)\n",
    "    plt.show()\n",
    "\n",
    "    cdf_2gauss = lambda x: w1 * st.invgauss.cdf(x,mu1/lam1, scale = lam1) + w2 * st.norm.cdf(x, mu2, sigma2) + w3*st.norm.cdf(x, mu3, sigma3)\n",
    "    ks_score=st.ks_1samp(ISI_data[ISI_data>0],  cdf_2gauss, method = 'asymp')\n",
    "    print('ks score: ',ks_score)\n",
    "    \n",
    "    del map_estimate['w_simplex__']\n",
    "    del map_estimate['mu1_interval__']\n",
    "    del map_estimate['lam1_interval__']\n",
    "    del map_estimate['mu2_interval__']\n",
    "    del map_estimate['sigma2_interval__']\n",
    "    del map_estimate['mu3_interval__']\n",
    "    del map_estimate['sigma3_interval__']\n",
    "    \n",
    "    del map_estimate['w']\n",
    "\n",
    "    print(map_estimate)\n",
    "    if ks_score[0]>0.3:\n",
    "        map_estimate=0\n",
    "    return map_estimate\n"
   ]
  }
 ],
 "metadata": {
  "kernelspec": {
   "display_name": "Python 3 (ipykernel)",
   "language": "python",
   "name": "python3"
  },
  "language_info": {
   "codemirror_mode": {
    "name": "ipython",
    "version": 3
   },
   "file_extension": ".py",
   "mimetype": "text/x-python",
   "name": "python",
   "nbconvert_exporter": "python",
   "pygments_lexer": "ipython3",
   "version": "3.11.4"
  }
 },
 "nbformat": 4,
 "nbformat_minor": 5
}
