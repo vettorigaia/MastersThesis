{
 "cells": [
  {
   "cell_type": "code",
   "execution_count": null,
   "id": "81f6c44b",
   "metadata": {},
   "outputs": [],
   "source": [
    "from LibraryENGcopia import *\n",
    "from tqdm.notebook import tqdm\n",
    "import sklearn.preprocessing as ps\n",
    "import numpy as np\n",
    "import pandas as pd\n",
    "from sklearn.preprocessing import StandardScaler\n",
    "from random import randint\n",
    "from fastdtw import fastdtw\n",
    "import copy\n",
    "name_data = '2018-11-27T10-29-42POP 2 BL .h5'\n",
    "name_data2 = '2018-11-27T12-03-02POP 2 stimulation.h5'\n",
    "name_data3='2018-11-27T10-56-39MiP5 KA stimulation.h5'\n",
    "complete_string='/Users/Gaia_1/Downloads/PoiProMEA-master/h5files/'+name_data\n",
    "complete_string2='/Users/Gaia_1/Downloads/PoiProMEA-master/h5files/'+name_data2\n",
    "complete_string3='/Users/Gaia_1/Downloads/PoiProMEA-master/h5files/'+name_data3"
   ]
  },
  {
   "cell_type": "code",
   "execution_count": null,
   "id": "bb9bb63a",
   "metadata": {},
   "outputs": [],
   "source": [
    "#data = h5py.File(complete_string,'r')\n",
    "#data = h5py.File(complete_string2,'r')\n",
    "data = h5py.File(complete_string3,'r')\n",
    "\n",
    "data_readings = data['Data']['Recording_0']['AnalogStream']['Stream_0']['ChannelData'][()]\n",
    "info = data['Data']['Recording_0']['AnalogStream']['Stream_0']['InfoChannel'][()]\n",
    "info_table = pd.DataFrame(info, columns = list(info.dtype.fields.keys()))\n",
    "labels = info_table['Label']\n",
    "readings = pd.DataFrame(data = data_readings.transpose(), columns = labels)\n",
    "fs = 10000 #Sampling Frequency\n",
    "print(readings.shape)"
   ]
  },
  {
   "cell_type": "code",
   "execution_count": null,
   "id": "332619c1",
   "metadata": {},
   "outputs": [],
   "source": [
    "inizio=0\n",
    "len_data=64000 #192 secondi\n",
    "#len_data=int(len(readings)/2)\n",
    "prova_multi=readings.iloc[inizio:len_data, :17]\n",
    "#prova=prova.drop([b'Ref'],axis=1)\n",
    "prova=prova_multi[b'46']\n",
    "ref=readings[b'Ref']\n",
    "ref=ref[inizio:len_data]\n",
    "#prova=readings.iloc[:150000, :5]\n",
    "print(prova.shape,ref.shape)"
   ]
  },
  {
   "cell_type": "code",
   "execution_count": null,
   "id": "082e3539",
   "metadata": {},
   "outputs": [],
   "source": [
    "lowcut = 300\n",
    "highcut = 3000\n",
    "fs=10000\n",
    "order=8\n",
    "b,a=butter_bandpass(lowcut,highcut,fs,order=order)\n",
    "filt_ref=filtfilt(b,a,ref)\n",
    "filt_prova=filtfilt(b,a,prova)\n",
    "f_prova = filt_prova - filt_ref\n",
    "prova=f_prova\n",
    "prova.shape\n",
    "r_prova=prova.reshape(-1, 1)\n",
    "scaler = StandardScaler()\n",
    "s_prova = scaler.fit_transform(r_prova)\n",
    "prova=s_prova\n",
    "s_prova.shape"
   ]
  },
  {
   "cell_type": "code",
   "execution_count": null,
   "id": "ef164521",
   "metadata": {},
   "outputs": [],
   "source": [
    "pos, neg=find_all_spikes(prova)"
   ]
  },
  {
   "cell_type": "markdown",
   "id": "c51cdabd",
   "metadata": {},
   "source": [
    "firing rate baseline: 90\n",
    "firing rate pop 2 stimulation: 87\n",
    "firing rate pop 5 KA stimulation: 110"
   ]
  },
  {
   "cell_type": "code",
   "execution_count": null,
   "id": "6c1ac5e0",
   "metadata": {},
   "outputs": [],
   "source": [
    "len(pos)"
   ]
  },
  {
   "cell_type": "code",
   "execution_count": null,
   "id": "994c307e",
   "metadata": {},
   "outputs": [],
   "source": [
    "pos_cut,n_pos, neg_cut,n_neg = cut(pos,neg,prova)\n",
    "savedp = copy.deepcopy(pos_cut)\n",
    "savedn = copy.deepcopy(neg_cut)"
   ]
  },
  {
   "cell_type": "code",
   "execution_count": null,
   "id": "fa945532",
   "metadata": {},
   "outputs": [],
   "source": [
    "pos_cut=mask_cuts(pos_cut)\n",
    "neg_cut= mask_cuts(neg_cut)"
   ]
  },
  {
   "cell_type": "code",
   "execution_count": null,
   "id": "c3967227",
   "metadata": {},
   "outputs": [],
   "source": [
    "x=randint(1,len(pos_cut))\n",
    "\n",
    "plt.plot(savedp[x])\n",
    "plt.plot(pos_cut[x])\n",
    "plt.show()\n",
    "plt.plot(savedn[x])\n",
    "plt.plot(neg_cut[x])\n",
    "plt.show()"
   ]
  },
  {
   "cell_type": "code",
   "execution_count": null,
   "id": "4dc2cf65",
   "metadata": {},
   "outputs": [],
   "source": [
    "final_data_pos= clus(pos_cut,'PCA','kmeans',n_pos,4,len_data)"
   ]
  },
  {
   "cell_type": "code",
   "execution_count": null,
   "id": "72cba673",
   "metadata": {},
   "outputs": [],
   "source": [
    "plt.hist(np.diff(final_data_pos[0]),bins=100, density=True, alpha=0.5, color='blue', edgecolor='black')"
   ]
  },
  {
   "cell_type": "markdown",
   "id": "c68cfc7f",
   "metadata": {},
   "source": [
    "baseline: 2 cluster (10, 9 firing rates)\n",
    "pop 2 stimulation: 2 cluster (19, 17 firing rates)"
   ]
  },
  {
   "cell_type": "code",
   "execution_count": null,
   "id": "21096a21",
   "metadata": {
    "scrolled": true
   },
   "outputs": [],
   "source": [
    "final_data_neg= clus(neg_cut,'PCA','kmeans',n_neg,5,len_data)"
   ]
  },
  {
   "cell_type": "code",
   "execution_count": null,
   "id": "296e45dc",
   "metadata": {},
   "outputs": [],
   "source": [
    "len(onecut)"
   ]
  },
  {
   "cell_type": "code",
   "execution_count": null,
   "id": "ccfc9132",
   "metadata": {},
   "outputs": [],
   "source": [
    "#manual clustering based on DTW distance:\n",
    "together=[]\n",
    "to_remove=[]\n",
    "orig=copy.deepcopy(neg_cut)\n",
    "onecut=neg_cut\n",
    "left=onecut\n",
    "#for i in range(len(onecut)):\n",
    "i=1\n",
    "while i < len(onecut):\n",
    "    to_remove.append(i)\n",
    "    for j in range(i+1,100):#len(onecut)):\n",
    "        print(i,j)\n",
    "        spike1=onecut[i]\n",
    "        spike2=onecut[j]\n",
    "        distance,path=fastdtw(spike1,spike2)\n",
    "        if distance<5.5:\n",
    "            print('y')\n",
    "            inds=(ind[i]-1,ind[j]-1)\n",
    "            together.append(inds)\n",
    "            #print(together)\n",
    "            to_remove.append(j)\n",
    "            #print(to_remove)\n",
    "            i+=1\n",
    "            k=i\n",
    "            while k<le000in(onecut):\n",
    "                print(k)\n",
    "                pre=k-1\n",
    "                inds=(ind[pre],ind[k]) \n",
    "                if inds in together:\n",
    "                    i+=1\n",
    "left=np.delete(left,to_remove)\n",
    "\n",
    "together"
   ]
  },
  {
   "cell_type": "code",
   "execution_count": null,
   "id": "c422dfda",
   "metadata": {},
   "outputs": [],
   "source": [
    "i=1\n",
    "print(i)\n",
    "#for i in range(len(onecut)):\n",
    "nex=i+1\n",
    "print(nex)\n",
    "inds=(ind[i],ind[nex])\n",
    "print(inds)\n",
    "if inds in together:\n",
    "    print(inds, 'in')\n",
    "    i+=1\n",
    "print(i)\n"
   ]
  },
  {
   "cell_type": "code",
   "execution_count": null,
   "id": "cadb4a29",
   "metadata": {},
   "outputs": [],
   "source": [
    "together"
   ]
  },
  {
   "cell_type": "code",
   "execution_count": null,
   "id": "6212ae62",
   "metadata": {},
   "outputs": [],
   "source": [
    "#let's verify the dtw similarity within the identified clusters:\n",
    "onecut=neg_cut\n",
    "ind=n_neg\n",
    "cluster=final_data_neg[4]\n",
    "\n",
    "lt=len(cluster)*len(cluster)\n",
    "pbar = tqdm(total = lt)\n",
    "saved=[]\n",
    "for k in cluster:\n",
    "    for i in range(len(onecut)):\n",
    "        if ind[i]==k:\n",
    "            for j in range(i + 1, len(onecut)):\n",
    "                if ind[j] in cluster:\n",
    "                    spike1 = onecut[i]\n",
    "                    spike2 = onecut[j]\n",
    "                    pbar.update(1)\n",
    "                    # Calculate DTW distance and alignment path\n",
    "                    distance, path = fastdtw(spike1, spike2)\n",
    "                    #if distance<20:\n",
    "                    s=(ind[i],ind[j])\n",
    "                    saved.append(s)\n",
    "                    plt.figure()\n",
    "                    plt.plot(spike1)\n",
    "                    plt.plot(spike2)\n",
    "                    plt.show()\n",
    "                    print(f\"DTW distance between spike {i} {ind[i]},{k} and spike {j} {ind[j]}: {distance}\")\n",
    "                    print(f\"Alignment path: {path}\")\n",
    "    saved"
   ]
  },
  {
   "cell_type": "markdown",
   "id": "af6dd0f0",
   "metadata": {},
   "source": [
    "baseline: 2 cluster (8,9 firing rate)\n",
    "pop 2 stimulation: 2 cluster (24, 26 firing rate)"
   ]
  },
  {
   "cell_type": "code",
   "execution_count": null,
   "id": "18362336",
   "metadata": {
    "scrolled": true
   },
   "outputs": [],
   "source": [
    "plt.hist(np.diff(final_data_neg[2]),bins=100, density=True, alpha=0.5, color='blue', edgecolor='black')"
   ]
  },
  {
   "cell_type": "code",
   "execution_count": null,
   "id": "421755aa",
   "metadata": {},
   "outputs": [],
   "source": [
    "final_data_neg[2]"
   ]
  },
  {
   "cell_type": "markdown",
   "id": "ec88f50c",
   "metadata": {},
   "source": [
    "from fastdtw import fastdtw\n",
    "i=14\n",
    "j=17\n",
    "spike1=pos_cut[i]\n",
    "spike2=pos_cut[j]\n",
    "plt.plot(spike1)\n",
    "plt.plot(spike2)\n",
    "distance, path = fastdtw(spike1, spike2)\n",
    "\n",
    "print(f\"DTW distance between spike {i+1} and spike {j+1}: {distance}\")\n",
    "print(f\"Alignment path: {path}\")"
   ]
  },
  {
   "cell_type": "code",
   "execution_count": null,
   "id": "5307b70e",
   "metadata": {},
   "outputs": [],
   "source": [
    "x=randint(1,len(pos_cut))\n",
    "print(x)\n",
    "\n",
    "plt.plot(pos_cut[x])"
   ]
  },
  {
   "cell_type": "code",
   "execution_count": null,
   "id": "1a963ffe",
   "metadata": {},
   "outputs": [],
   "source": [
    "onecut=neg_cut\n",
    "ind=n_neg\n",
    "cluster=final_data_neg[2]\n",
    "saved=[]\n",
    "\n",
    "l=8\n",
    "k=cluster[l]\n",
    "\n",
    "i+=1\n",
    "print(ind[i],k)\n",
    "if ind[i]==k:\n",
    "    print('proceed')\n",
    "\n",
    "    j=i\n",
    "    \n",
    "    spike1 = onecut[i]\n",
    "    spike2 = onecut[j]\n"
   ]
  },
  {
   "cell_type": "code",
   "execution_count": null,
   "id": "d2355ba8",
   "metadata": {
    "scrolled": true
   },
   "outputs": [],
   "source": [
    "for j in range(i + 1, len(onecut)):\n",
    "    spike1 = onecut[i]\n",
    "    spike2 = onecut[j]\n",
    "\n",
    "    distance, path = fastdtw(spike1, spike2)\n",
    "    if distance<6:\n",
    "        s=(ind[i],ind[j])\n",
    "        saved.append(s)\n",
    "        print(f\"DTW distance between spike {i} {ind[i]},{k} and spike {j} {ind[j]}: {distance}\")\n",
    "        if ind[j] in cluster:\n",
    "            print(ind[j],' cointained in cluster')\n",
    "        else:\n",
    "            plt.figure()\n",
    "            plt.plot(spike1)\n",
    "            plt.plot(spike2)\n",
    "            plt.show()\n"
   ]
  },
  {
   "cell_type": "code",
   "execution_count": null,
   "id": "1a7b1ad9",
   "metadata": {},
   "outputs": [],
   "source": [
    "#compute dtw for spikes 570 and 688 (not in same cluster)\n",
    "#688 876\n",
    "#1092 1095 1593 2304 5503 12507 125012\n",
    "#1577 1801 2009 3202 4213 5211 8226\n",
    "# 3070 11117 12665 16296 22891 24702 28775 30217\n",
    "# 3124 51485 53426 "
   ]
  },
  {
   "cell_type": "code",
   "execution_count": null,
   "id": "b76a88c8",
   "metadata": {},
   "outputs": [],
   "source": []
  },
  {
   "cell_type": "code",
   "execution_count": null,
   "id": "14d9ee26",
   "metadata": {},
   "outputs": [],
   "source": [
    "for p,m in enumerate(final_data_neg):\n",
    "    for o,n in enumerate(m):\n",
    "        if n==570:\n",
    "            print('ind', o,'value',n, 'cluster', m, 'number',p)"
   ]
  },
  {
   "cell_type": "code",
   "execution_count": null,
   "id": "868f41e2",
   "metadata": {},
   "outputs": [],
   "source": [
    "final_data_neg[4]"
   ]
  },
  {
   "cell_type": "code",
   "execution_count": null,
   "id": "01730aa2",
   "metadata": {
    "scrolled": true
   },
   "outputs": [],
   "source": [
    "onecut=neg_cut\n",
    "ind=n_neg\n",
    "cluster=final_data_neg[4]\n",
    "\n",
    "lt=len(onecut)*len(onecut)\n",
    "pbar = tqdm(total = lt)\n",
    "saved=[]\n",
    "# Iterate through pairs of spikes and apply DTW\n",
    "for k in cluster:\n",
    "    for i in range(len(onecut)):\n",
    "        if ind[i]==k:\n",
    "            for j in range(i + 1, len(onecut)):\n",
    "                spike1 = onecut[i]\n",
    "                spike2 = onecut[j]\n",
    "                pbar.update(1)\n",
    "                # Calculate DTW distance and alignment path\n",
    "                distance, path = fastdtw(spike1, spike2)\n",
    "                if distance<20:\n",
    "                    s=(ind[i],ind[j])\n",
    "                    saved.append(s)\n",
    "                    plt.figure()\n",
    "                    plt.plot(spike1)\n",
    "                    plt.plot(spike2)\n",
    "                    plt.show()\n",
    "                    print(f\"DTW distance between spike {i} {ind[i]},{k} and spike {j} {ind[j]}: {distance}\")\n",
    "                    print(f\"Alignment path: {path}\")\n",
    "saved"
   ]
  },
  {
   "cell_type": "code",
   "execution_count": null,
   "id": "7265f76d",
   "metadata": {},
   "outputs": [],
   "source": [
    "final_data_pos[0]"
   ]
  },
  {
   "cell_type": "code",
   "execution_count": null,
   "id": "c3e3a73d",
   "metadata": {},
   "outputs": [],
   "source": [
    "final_data_pos[1]"
   ]
  },
  {
   "cell_type": "code",
   "execution_count": null,
   "id": "7634a37a",
   "metadata": {},
   "outputs": [],
   "source": [
    "plt.plot(pos_cut[0])"
   ]
  },
  {
   "cell_type": "code",
   "execution_count": null,
   "id": "02cb0e93",
   "metadata": {},
   "outputs": [],
   "source": [
    "final_data_pos[0]"
   ]
  },
  {
   "cell_type": "code",
   "execution_count": null,
   "id": "4bfab885",
   "metadata": {},
   "outputs": [],
   "source": [
    "lt=len(final_data_pos[0])*len(final_data_pos[0])\n",
    "pbar = tqdm(total = lt)\n",
    "# Iterate through pairs of spikes and apply DTW\n",
    "for i in final_data_pos[0]:\n",
    "    for j in final_data_pos[0]:\n",
    "        spike1 = pos_cut[i]\n",
    "        spike2 = pos_cut[j]\n",
    "        pbar.update(1)\n",
    "        # Calculate DTW distance and alignment path\n",
    "        distance, path = fastdtw(spike1, spike2)\n",
    "        if distance<20:\n",
    "            plt.figure()\n",
    "            plt.plot(spike1)\n",
    "            plt.plot(spike2)\n",
    "            plt.show()\n",
    "            print(f\"DTW distance between spike {i+1} and spike {j+1}: {distance}\")\n",
    "            print(f\"Alignment path: {path}\")"
   ]
  },
  {
   "cell_type": "code",
   "execution_count": null,
   "id": "a7ff863c",
   "metadata": {},
   "outputs": [],
   "source": []
  },
  {
   "cell_type": "code",
   "execution_count": null,
   "id": "7cba7c7d",
   "metadata": {},
   "outputs": [],
   "source": []
  }
 ],
 "metadata": {
  "kernelspec": {
   "display_name": "Python 3 (ipykernel)",
   "language": "python",
   "name": "python3"
  },
  "language_info": {
   "codemirror_mode": {
    "name": "ipython",
    "version": 3
   },
   "file_extension": ".py",
   "mimetype": "text/x-python",
   "name": "python",
   "nbconvert_exporter": "python",
   "pygments_lexer": "ipython3",
   "version": "3.11.4"
  }
 },
 "nbformat": 4,
 "nbformat_minor": 5
}
