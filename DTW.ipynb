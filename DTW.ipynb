{
 "cells": [
  {
   "cell_type": "code",
   "execution_count": null,
   "id": "81f6c44b",
   "metadata": {},
   "outputs": [],
   "source": [
    "from LibraryENGcopia import *\n",
    "from tqdm.notebook import tqdm\n",
    "import sklearn.preprocessing as ps\n",
    "import numpy as np\n",
    "import pandas as pd\n",
    "from sklearn.preprocessing import StandardScaler\n",
    "from random import randint\n",
    "from fastdtw import fastdtw\n",
    "import copy\n",
    "import pymc as pm\n",
    "name_data = '2018-11-27T10-29-42POP 2 BL .h5'\n",
    "name_data2 = '2018-11-27T12-03-02POP 2 stimulation.h5'\n",
    "name_data3='2018-11-27T10-56-39MiP5 KA stimulation.h5'\n",
    "complete_string='/Users/Gaia_1/Downloads/PoiProMEA-master/h5files/'+name_data\n",
    "complete_string2='/Users/Gaia_1/Downloads/PoiProMEA-master/h5files/'+name_data2\n",
    "complete_string3='/Users/Gaia_1/Downloads/PoiProMEA-master/h5files/'+name_data3"
   ]
  },
  {
   "cell_type": "code",
   "execution_count": null,
   "id": "bb9bb63a",
   "metadata": {},
   "outputs": [],
   "source": [
    "#data = h5py.File(complete_string,'r')\n",
    "#data = h5py.File(complete_string2,'r')\n",
    "data = h5py.File(complete_string3,'r')\n",
    "\n",
    "data_readings = data['Data']['Recording_0']['AnalogStream']['Stream_0']['ChannelData'][()]\n",
    "info = data['Data']['Recording_0']['AnalogStream']['Stream_0']['InfoChannel'][()]\n",
    "info_table = pd.DataFrame(info, columns = list(info.dtype.fields.keys()))\n",
    "labels = info_table['Label']\n",
    "readings = pd.DataFrame(data = data_readings.transpose(), columns = labels)\n",
    "fs = 10000 #Sampling Frequency\n",
    "print(readings.shape)"
   ]
  },
  {
   "cell_type": "code",
   "execution_count": null,
   "id": "3d02c3cc",
   "metadata": {},
   "outputs": [],
   "source": [
    "readings.columns"
   ]
  },
  {
   "cell_type": "code",
   "execution_count": null,
   "id": "332619c1",
   "metadata": {},
   "outputs": [],
   "source": [
    "inizio=0\n",
    "#len_data=128000 #192 secondi\n",
    "len_data=len(readings)\n",
    "prova_multi=readings.iloc[inizio:len_data, :59]\n",
    "#prova=prova.drop([b'Ref'],axis=1)\n",
    "prova=prova_multi[b'87']\n",
    "ref=readings[b'Ref']\n",
    "ref=ref[inizio:len_data]\n",
    "#prova=readings.iloc[:150000, :5]\n",
    "print(prova.shape,ref.shape)"
   ]
  },
  {
   "cell_type": "code",
   "execution_count": null,
   "id": "373828fe",
   "metadata": {},
   "outputs": [],
   "source": []
  },
  {
   "cell_type": "code",
   "execution_count": null,
   "id": "082e3539",
   "metadata": {},
   "outputs": [],
   "source": [
    "lowcut = 300\n",
    "highcut = 3000\n",
    "fs=10000\n",
    "order=8\n",
    "b,a=butter_bandpass(lowcut,highcut,fs,order=order)\n",
    "filt_ref=filtfilt(b,a,ref)\n",
    "filt_prova=filtfilt(b,a,prova)\n",
    "f_prova = filt_prova - filt_ref\n",
    "prova=f_prova\n",
    "prova.shape\n",
    "r_prova=prova.reshape(-1, 1)\n",
    "scaler = StandardScaler()\n",
    "s_prova = scaler.fit_transform(r_prova)\n",
    "prova=s_prova\n",
    "s_prova.shape"
   ]
  },
  {
   "cell_type": "code",
   "execution_count": null,
   "id": "ef164521",
   "metadata": {},
   "outputs": [],
   "source": [
    "pos, neg=find_all_spikes(prova)"
   ]
  },
  {
   "cell_type": "markdown",
   "id": "c51cdabd",
   "metadata": {},
   "source": [
    "firing rate baseline: 90\n",
    "firing rate pop 2 stimulation: 87\n",
    "firing rate pop 5 KA stimulation: 110"
   ]
  },
  {
   "cell_type": "code",
   "execution_count": null,
   "id": "6c1ac5e0",
   "metadata": {},
   "outputs": [],
   "source": [
    "len(pos)"
   ]
  },
  {
   "cell_type": "code",
   "execution_count": null,
   "id": "994c307e",
   "metadata": {},
   "outputs": [],
   "source": [
    "pos_cut,n_pos, neg_cut,n_neg = cut(pos,neg,prova)\n",
    "savedp = copy.deepcopy(pos_cut)\n",
    "savedn = copy.deepcopy(neg_cut)"
   ]
  },
  {
   "cell_type": "code",
   "execution_count": null,
   "id": "fa945532",
   "metadata": {},
   "outputs": [],
   "source": [
    "pos_cut=mask_cuts(pos_cut)\n",
    "neg_cut= mask_cuts(neg_cut)"
   ]
  },
  {
   "cell_type": "code",
   "execution_count": null,
   "id": "c3967227",
   "metadata": {
    "scrolled": true
   },
   "outputs": [],
   "source": [
    "x=randint(1,min(len(pos_cut),len(neg_cut)))\n",
    "\n",
    "plt.plot(savedp[x])\n",
    "plt.plot(pos_cut[x])\n",
    "plt.show()\n",
    "plt.plot(savedn[x])\n",
    "plt.plot(neg_cut[x])\n",
    "plt.show()"
   ]
  },
  {
   "cell_type": "markdown",
   "id": "0ff57626",
   "metadata": {},
   "source": [
    "## DBSCAN"
   ]
  },
  {
   "cell_type": "code",
   "execution_count": null,
   "id": "16bc8a55",
   "metadata": {
    "scrolled": true
   },
   "outputs": [],
   "source": [
    "epsilon=1e-100\n",
    "min_s=5\n",
    "leafsize=120\n",
    "mcs=150\n",
    "final_data_neg=dbscan_clustering(neg_cut,n_neg,len_data,mcs,min_s,leafsize)"
   ]
  },
  {
   "cell_type": "code",
   "execution_count": null,
   "id": "9aaea559",
   "metadata": {},
   "outputs": [],
   "source": [
    "len(final_data_neg[0])"
   ]
  },
  {
   "cell_type": "code",
   "execution_count": null,
   "id": "423f4207",
   "metadata": {},
   "outputs": [],
   "source": [
    "np.shape(n_neg)"
   ]
  },
  {
   "cell_type": "code",
   "execution_count": null,
   "id": "253b9383",
   "metadata": {},
   "outputs": [],
   "source": [
    "final_data_neg[0][10633]"
   ]
  },
  {
   "cell_type": "code",
   "execution_count": null,
   "id": "e271d456",
   "metadata": {},
   "outputs": [],
   "source": [
    "k=0\n",
    "extra=[]\n",
    "for i,x in enumerate(n_neg):\n",
    "    #if x==extra_clus[0][k]:\n",
    "    if x==final_data_neg[0][k] and k<len(final_data_neg[0])-1:\n",
    "        extra.append(neg_cut[i])\n",
    "        k+=1"
   ]
  },
  {
   "cell_type": "code",
   "execution_count": null,
   "id": "456ad41e",
   "metadata": {},
   "outputs": [],
   "source": [
    "np.shape(extra)"
   ]
  },
  {
   "cell_type": "code",
   "execution_count": null,
   "id": "a86005bf",
   "metadata": {},
   "outputs": [],
   "source": [
    "extra_clus=dbscan_clustering(np.array(extra),final_data_neg[0],len_data,mcs,min_s,leafsize)"
   ]
  },
  {
   "cell_type": "code",
   "execution_count": null,
   "id": "2b188b3f",
   "metadata": {},
   "outputs": [],
   "source": [
    "final_data_pos=dbscan_clustering(pos_cut,n_pos,len_data,mcs,min_s,leafsize)"
   ]
  },
  {
   "cell_type": "code",
   "execution_count": null,
   "id": "864ec2fc",
   "metadata": {},
   "outputs": [],
   "source": [
    "unique_labels"
   ]
  },
  {
   "cell_type": "code",
   "execution_count": null,
   "id": "c1bb6f98",
   "metadata": {},
   "outputs": [],
   "source": [
    "len(final_data[0])"
   ]
  },
  {
   "cell_type": "code",
   "execution_count": null,
   "id": "363b3f5c",
   "metadata": {},
   "outputs": [],
   "source": [
    "def dbscan_clustering(cut,spike_list,len_data,mcs,min_s,leafsize):\n",
    "    from sklearn.cluster import KMeans\n",
    "    from sklearn.cluster import DBSCAN, HDBSCAN\n",
    "    from sklearn.preprocessing import StandardScaler\n",
    "    from sklearn.decomposition import PCA\n",
    "    from sklearn.decomposition import FastICA\n",
    "    from sklearn.metrics import silhouette_score\n",
    "    from scipy.stats import kurtosis\n",
    "    import skfuzzy as fuzz\n",
    "    import numpy as np\n",
    "    import math\n",
    "\n",
    "    scale = StandardScaler()\n",
    "    estratti_norm = scale.fit_transform(cut)\n",
    "    print('Total spikes: ', estratti_norm.shape[0])\n",
    "    n_comp=10\n",
    "    pca = PCA(n_components=n_comp)\n",
    "    transformed = pca.fit_transform(estratti_norm)\n",
    "    print('transformed')\n",
    "    #transformed=cut\n",
    "\n",
    "    #dbscan = DBSCAN(eps=epsilon, min_samples=min_s, leaf_size=leafsize)\n",
    "    dbscan = HDBSCAN(min_cluster_size=mcs, min_samples=min_s, leaf_size=leafsize)\n",
    "    labels = dbscan.fit_predict(transformed)\n",
    "\n",
    "\n",
    "    final_data=[]\n",
    "    unique_labels = np.unique(labels)\n",
    "\n",
    "    if len(unique_labels) == 1:\n",
    "        print(\"DBSCAN assigned only one cluster.\")\n",
    "    else:\n",
    "        silhouette_avg = silhouette_score(transformed, labels)\n",
    "        num_clusters = len(np.unique(labels[labels != -1]))\n",
    "        print(\"For\", num_clusters,\"clusters, the silhouette score is:\", silhouette_avg)\n",
    "\n",
    "    fig = plt.figure(figsize=(8, 10))\n",
    "\n",
    "    # Iterate over unique cluster labels\n",
    "    for i, cluster_label in enumerate(unique_labels):\n",
    "        # Extract data points for the current cluster\n",
    "        cluster_data = cut[labels == cluster_label]\n",
    "        #final_data.append(spike_list[labels == cluster_label].tolist())\n",
    "\n",
    "        # Plot the individual cluster data\n",
    "        quad = math.ceil(len(unique_labels))\n",
    "        plt.subplot(quad, 1, i + 1)\n",
    "        plt.plot(cluster_data.transpose(), alpha=0.5)  # Use alpha for transparency\n",
    "        #print(cluster_data)\n",
    "        plt.title(f'Cluster {cluster_label} index {i}')\n",
    "        plt.xlabel('Time [ms]')\n",
    "        plt.ylabel('Signal Amplitude')\n",
    "\n",
    "        # Plot the average waveform\n",
    "        mean_wave = np.mean(cluster_data, axis=0)\n",
    "        std_wave = np.std(cluster_data, axis=0)\n",
    "        plt.plot(mean_wave, color='black', linewidth=2, label='Avg. Waveform')\n",
    "        plt.legend()\n",
    "\n",
    "    # Adjust layout to prevent overlapping\n",
    "    #plt.tight_layout()\n",
    "    plt.subplots_adjust(hspace=0.5)\n",
    "    plt.show()\n",
    "    spike_list=np.array(spike_list)\n",
    "    for i in unique_labels:\n",
    "        ul=spike_list[labels==i]\n",
    "        final_data.append(ul)\n",
    "        plt.subplot(quad, 1, i + 2)\n",
    "        plt.hist(np.diff(ul), bins=100, density=True, alpha=0.5, color='blue', edgecolor='black')\n",
    "        plt.title(f'ISI: Cluster {i} numerosity: {len(final_data[i+1])}, \\n firing rate: {len(final_data[i+1])*10000/len_data}')\n",
    "    plt.subplots_adjust(hspace=1)\n",
    "    plt.show()\n",
    "    return final_data\n"
   ]
  },
  {
   "cell_type": "code",
   "execution_count": null,
   "id": "8a62d001",
   "metadata": {},
   "outputs": [],
   "source": [
    "cut=extra\n",
    "spike_list=final_data_neg[0]\n",
    "from sklearn.cluster import KMeans\n",
    "from sklearn.cluster import DBSCAN, HDBSCAN\n",
    "from sklearn.preprocessing import StandardScaler\n",
    "from sklearn.decomposition import PCA\n",
    "from sklearn.decomposition import FastICA\n",
    "from sklearn.metrics import silhouette_score\n",
    "from scipy.stats import kurtosis\n",
    "import skfuzzy as fuzz\n",
    "import numpy as np\n",
    "import math\n",
    "\n",
    "scale = StandardScaler()\n",
    "estratti_norm = scale.fit_transform(cut)\n",
    "print('Total spikes: ', estratti_norm.shape[0])\n",
    "n_comp=10\n",
    "pca = PCA(n_components=n_comp)\n",
    "transformed = pca.fit_transform(estratti_norm)\n",
    "print('transformed')\n",
    "#transformed=cut\n",
    "\n",
    "#dbscan = DBSCAN(eps=epsilon, min_samples=min_s, leaf_size=leafsize)\n",
    "dbscan = HDBSCAN(min_cluster_size=mcs, min_samples=min_s, leaf_size=leafsize)\n",
    "labels = dbscan.fit_predict(transformed)\n",
    "\n",
    "\n",
    "final_data=[]\n",
    "unique_labels = np.unique(labels)\n",
    "\n",
    "if len(unique_labels) == 1:\n",
    "    print(\"DBSCAN assigned only one cluster.\")\n",
    "else:\n",
    "    silhouette_avg = silhouette_score(transformed, labels)\n",
    "    num_clusters = len(np.unique(labels[labels != -1]))\n",
    "    print(\"For\", num_clusters,\"clusters, the silhouette score is:\", silhouette_avg)\n",
    "\n",
    "cut = np.array(cut)\n",
    "fig = plt.figure(figsize=(8, 10))\n",
    "\n",
    "# Iterate over unique cluster labels\n",
    "for i, cluster_label in enumerate(unique_labels):\n",
    "    # Extract data points for the current cluster\n",
    "    cluster_data = cut[labels == cluster_label]\n",
    "\n",
    "    # Plot the individual cluster data\n",
    "    quad = math.ceil(len(unique_labels) / 2)\n",
    "    plt.subplot(quad+2, quad, i + 1)\n",
    "    plt.plot(cluster_data.transpose(), alpha=0.5)  # Use alpha for transparency\n",
    "    #print(cluster_data)\n",
    "    plt.title(f'Cluster {cluster_label} index {i}')\n",
    "    plt.xlabel('Time [ms]')\n",
    "    plt.ylabel('Signal Amplitude')\n",
    "\n",
    "    # Plot the average waveform\n",
    "    mean_wave = np.mean(cluster_data, axis=0)\n",
    "    std_wave = np.std(cluster_data, axis=0)\n",
    "    plt.plot(mean_wave, color='black', linewidth=2, label='Avg. Waveform')\n",
    "    plt.legend()\n",
    "\n",
    "# Adjust layout to prevent overlapping\n",
    "#plt.tight_layout()\n",
    "plt.subplots_adjust(hspace=0.5)\n",
    "plt.show()\n",
    "spike_list=np.array(spike_list)\n",
    "for i in unique_labels:\n",
    "    ul=spike_list[labels==i]\n",
    "    final_data.append(ul)\n",
    "    plt.subplot(quad+2, quad, i + 2)\n",
    "    plt.hist(np.diff(ul), bins=100, density=True, alpha=0.5, color='blue', edgecolor='black')\n",
    "    plt.title(f'ISI: Cluster {i} numerosity: {len(final_data[i+1])}, \\n firing rate: {len(final_data[i+1])*10000/len_data}')\n",
    "plt.subplots_adjust(hspace=1)\n",
    "plt.show()\n",
    "final_data\n"
   ]
  },
  {
   "cell_type": "code",
   "execution_count": null,
   "id": "539874c4",
   "metadata": {},
   "outputs": [],
   "source": [
    "cluster_label"
   ]
  },
  {
   "cell_type": "markdown",
   "id": "66883dea",
   "metadata": {},
   "source": [
    "## Clustering"
   ]
  },
  {
   "cell_type": "code",
   "execution_count": null,
   "id": "4dc2cf65",
   "metadata": {
    "scrolled": true
   },
   "outputs": [],
   "source": [
    "final_data_pos= clus(pos_cut,'fuzzy',n_pos,3,len_data)"
   ]
  },
  {
   "cell_type": "markdown",
   "id": "c68cfc7f",
   "metadata": {},
   "source": [
    "baseline: 2 cluster (10, 9 firing rates)\n",
    "pop 2 stimulation: 2 cluster (19, 17 firing rates)"
   ]
  },
  {
   "cell_type": "code",
   "execution_count": null,
   "id": "21096a21",
   "metadata": {
    "scrolled": true
   },
   "outputs": [],
   "source": [
    "final_data_neg= clus(neg_cut,'fuzzy',n_neg,2,len_data)"
   ]
  },
  {
   "cell_type": "code",
   "execution_count": null,
   "id": "4938270f",
   "metadata": {},
   "outputs": [],
   "source": [
    "neurons = []\n",
    "#for electrode in cluster:\n",
    "for neuron in final_data_pos:\n",
    "    neurons.append(neuron)\n",
    "for neuron in final_data_neg:\n",
    "    neurons.append(neuron)\n",
    "neurons"
   ]
  },
  {
   "cell_type": "code",
   "execution_count": null,
   "id": "516129b4",
   "metadata": {},
   "outputs": [],
   "source": [
    "data_healthy=neurons[2]\n",
    "ISI_healthy = np.diff(data_healthy)/10000"
   ]
  },
  {
   "cell_type": "code",
   "execution_count": null,
   "id": "d4766555",
   "metadata": {},
   "outputs": [],
   "source": []
  },
  {
   "cell_type": "markdown",
   "id": "a67bc8e2",
   "metadata": {},
   "source": [
    "## INVERSE"
   ]
  },
  {
   "cell_type": "code",
   "execution_count": null,
   "id": "73ff516f",
   "metadata": {},
   "outputs": [],
   "source": [
    "plt.figure(figsize=(20,12))\n",
    "plt.plot(data_healthy[:-1]/10000,ISI_healthy)"
   ]
  },
  {
   "cell_type": "code",
   "execution_count": null,
   "id": "6352be2a",
   "metadata": {},
   "outputs": [],
   "source": [
    "min(ISI_healthy)"
   ]
  },
  {
   "cell_type": "code",
   "execution_count": null,
   "id": "22db876f",
   "metadata": {},
   "outputs": [],
   "source": [
    "bins = np.arange(0, .5, 0.001)           # Define 1 ms bins for histogram,\n",
    "counts, _ = np.histogram(ISI_healthy, bins)  # ... compute histogram of the ISIs,\n",
    "prob = counts / len(ISI_healthy)             # ... convert to probability,\n",
    "plt.figure()                 # ... create figure and axes objects that we can reuse later,\n",
    "plt.stem(bins[:-1], prob)                 # ... and plot the probabilities,                # ... with fixed x-limits,\n",
    "plt.xlabel('ISI [s]')                        # ... and axes labeled.\n",
    "plt.ylabel('Probability')\n",
    "plt.show()"
   ]
  },
  {
   "cell_type": "code",
   "execution_count": null,
   "id": "72c729c1",
   "metadata": {},
   "outputs": [],
   "source": []
  },
  {
   "cell_type": "code",
   "execution_count": null,
   "id": "daddc08d",
   "metadata": {},
   "outputs": [],
   "source": [
    "with pm.Model() as model:\n",
    "    mu1 = pm.Uniform('mu1',lower=0.01,upper=0.1)\n",
    "    lam1 = pm.Uniform('lam1',lower=0.01,upper=0.04)\n",
    "    obs1 = pm.Wald('like',mu=mu1,lam=lam1,observed=ISI_healthy)\n",
    "\n",
    "    '''\n",
    "    BoundedNormal = pm.Bound(pm.Normal, lower=0.0)\n",
    "    mu1 = pm.Uniform('mu1',lower=0.01,upper=0.1)\n",
    "    lam1 = pm.Uniform('lam1',lower=0.01,upper=0.04)\n",
    "    obs1 = pm.Wald('like',mu=mu1,lam=lam1,observed=ISI_healthy)\n",
    "    '''\n",
    "    \n",
    "    step = pm.NUTS(target_accept=0.9)\n",
    "    trace = pm.sample(step=step,draws=1000,chains=1,tune=1000,cores=4)"
   ]
  },
  {
   "cell_type": "code",
   "execution_count": null,
   "id": "46762a9e",
   "metadata": {},
   "outputs": [],
   "source": [
    "map_estimate = pm.find_MAP(model=model)\n",
    "\n",
    "map_estimate"
   ]
  },
  {
   "cell_type": "markdown",
   "id": "cfa5d403",
   "metadata": {},
   "source": [
    "ig_waic = pm.waic(trace, model)\n",
    "\n",
    "ig_waic"
   ]
  },
  {
   "cell_type": "code",
   "execution_count": null,
   "id": "9107f789",
   "metadata": {},
   "outputs": [],
   "source": [
    "with model:\n",
    "    ppc_trace = pm.sample_posterior_predictive(trace,model=model)\n",
    "\n",
    "bins = np.arange(0, .5, 1e-3) \n",
    "plt.figure (figsize=(14,10))\n",
    "\n",
    "hist = np.histogram(ppc_trace['posterior_predictive']['like'].values,bins=bins)\n",
    "#plt.axis([0,0.3,0,160])\n",
    "a= plt.hist(ISI_healthy,bins)\n",
    "plt.plot(hist[1][:-1],hist[0]/1000,linewidth=3);"
   ]
  },
  {
   "cell_type": "code",
   "execution_count": null,
   "id": "38cb1de8",
   "metadata": {},
   "outputs": [],
   "source": [
    "lista_samples=[]\n",
    "for i in list(ppc_trace['posterior_predictive']['like'].values):\n",
    "    lista_samples.extend(i)"
   ]
  },
  {
   "cell_type": "code",
   "execution_count": null,
   "id": "fbb1ef2e",
   "metadata": {},
   "outputs": [],
   "source": []
  },
  {
   "cell_type": "code",
   "execution_count": null,
   "id": "399b8bd4",
   "metadata": {},
   "outputs": [],
   "source": [
    "counts, _ = np.histogram(ISI_healthy, bins) \n",
    "prob_emp = counts / np.sum(counts)\n",
    "counts, _ = np.histogram(lista_samples, bins) \n",
    "prob_model = counts / np.sum(counts)\n",
    "\n",
    "Femp = np.cumsum(prob_emp)           \n",
    "Fmodel = np.cumsum(prob_model)          \n",
    "plt.figure()\n",
    "plt.plot(bins[:-1], Femp)                \n",
    "plt.plot(bins[:-1], Fmodel, 'r')       \n",
    "#plt.xlim([0, 0.2])                  \n",
    "plt.xlabel('Time [s]')\n",
    "plt.ylabel('CDF')\n",
    "plt.legend(['Empirical','Model'])\n",
    "plt.show()"
   ]
  },
  {
   "cell_type": "code",
   "execution_count": null,
   "id": "15081eae",
   "metadata": {},
   "outputs": [],
   "source": []
  },
  {
   "cell_type": "code",
   "execution_count": null,
   "id": "0b7f8b1d",
   "metadata": {},
   "outputs": [],
   "source": [
    "plt.figure()\n",
    "Nlow = len(ISI_healthy)  \n",
    "# Plot the confidence bounds\n",
    "plt.plot([0, 1], [x + 1.36 / np.sqrt(Nlow) for x in [0, 1]], 'r:')\n",
    "plt.plot([0, 1], [x - 1.36 / np.sqrt(Nlow) for x in [0, 1]], 'r:')\n",
    "plt.plot(Femp, Fmodel)\n",
    "plt.axis([0, 1, 0, 1])         \n",
    "plt.xlabel('Model CDF')\n",
    "plt.ylabel('Empirical CDF')\n",
    "plt.show()"
   ]
  },
  {
   "cell_type": "markdown",
   "id": "a803100b",
   "metadata": {},
   "source": [
    "## MIXTURE"
   ]
  },
  {
   "cell_type": "code",
   "execution_count": null,
   "id": "56454020",
   "metadata": {},
   "outputs": [],
   "source": [
    "ISI_data=ISI_healthy\n",
    "with pm.Model() as model:\n",
    "    ##### WALD DISTRIBUTION (INVERSE GAUSSIAN)\n",
    "    mu1 = pm.Uniform('mu1',lower=0.01,upper=0.1)\n",
    "    lam1 = pm.Uniform('lam1',lower=0.01,upper=0.04)\n",
    "    obs1 = pm.Wald.dist(mu=mu1,lam=lam1)\n",
    "\n",
    "\n",
    "    mu2 = pm.Uniform('mu2',lower=0,upper=0.2)\n",
    "    sigma2 = pm.Uniform('sigma2',lower=0.0001,upper=0.5)\n",
    "    obs2 = pm.TruncatedNormal.dist(mu=mu2, sigma=sigma2, lower=0.0)\n",
    "\n",
    "    mu3 = pm.Uniform('mu3',lower=0.1,upper=0.6)\n",
    "    sigma3 = pm.Uniform('sigma3',lower=0.0001,upper=0.5)\n",
    "    obs3 = pm.TruncatedNormal.dist(mu=mu3, sigma=sigma3, lower=0.0)\n",
    "\n",
    "\n",
    "    w = pm.Dirichlet('w', a=np.array([1., .4, .4]))\n",
    "\n",
    "    like = pm.Mixture('like', w=w, comp_dists = [obs1, obs2, obs3], observed=ISI_data)\n",
    "    map_estimate = pm.find_MAP(model=model)\n",
    "    \n",
    "    step = pm.NUTS(target_accept=0.9)\n",
    "    trace = pm.sample(step=step,draws=1000,chains=1,tune=1000,cores=4)\n"
   ]
  },
  {
   "cell_type": "code",
   "execution_count": null,
   "id": "00ceea20",
   "metadata": {},
   "outputs": [],
   "source": [
    "with model:\n",
    "    ppc_trace = pm.sample_posterior_predictive(trace,model=model)\n",
    "\n",
    "bins = np.arange(0, .5, 1e-3) \n",
    "plt.figure (figsize=(14,10))\n",
    "\n",
    "hist = np.histogram(ppc_trace['posterior_predictive']['like'].values,bins=bins)\n",
    "#plt.axis([0,0.3,0,160])\n",
    "a= plt.hist(ISI_healthy,bins)\n",
    "plt.plot(hist[1][:-1],hist[0]/1000,linewidth=3);"
   ]
  },
  {
   "cell_type": "code",
   "execution_count": null,
   "id": "38f06bc8",
   "metadata": {},
   "outputs": [],
   "source": [
    "lista_samples=[]\n",
    "for i in list(ppc_trace['posterior_predictive']['like'].values):\n",
    "    lista_samples.extend(i)"
   ]
  },
  {
   "cell_type": "code",
   "execution_count": null,
   "id": "c62296fb",
   "metadata": {},
   "outputs": [],
   "source": [
    "counts, _ = np.histogram(ISI_healthy, bins) \n",
    "prob_emp = counts / np.sum(counts)\n",
    "counts, _ = np.histogram(lista_samples, bins) \n",
    "prob_model = counts / np.sum(counts)\n",
    "\n",
    "Femp = np.cumsum(prob_emp)           \n",
    "Fmodel = np.cumsum(prob_model)          \n",
    "plt.figure()\n",
    "plt.plot(bins[:-1], Femp)                \n",
    "plt.plot(bins[:-1], Fmodel, 'r')       \n",
    "#plt.xlim([0, 0.2])                  \n",
    "plt.xlabel('Time [s]')\n",
    "plt.ylabel('CDF')\n",
    "plt.legend(['Empirical','Model'])\n",
    "plt.show()"
   ]
  },
  {
   "cell_type": "code",
   "execution_count": null,
   "id": "06539937",
   "metadata": {},
   "outputs": [],
   "source": [
    "plt.figure()\n",
    "Nlow = len(ISI_healthy)  \n",
    "# Plot the confidence bounds\n",
    "plt.plot([0, 1], [x + 1.36 / np.sqrt(Nlow) for x in [0, 1]], 'r:')\n",
    "plt.plot([0, 1], [x - 1.36 / np.sqrt(Nlow) for x in [0, 1]], 'r:')\n",
    "plt.plot(Femp, Fmodel)\n",
    "plt.axis([0, 1, 0, 1])         \n",
    "plt.xlabel('Model CDF')\n",
    "plt.ylabel('Empirical CDF')\n",
    "plt.show()"
   ]
  },
  {
   "cell_type": "code",
   "execution_count": null,
   "id": "e37e91c7",
   "metadata": {},
   "outputs": [],
   "source": []
  },
  {
   "cell_type": "code",
   "execution_count": null,
   "id": "9592e131",
   "metadata": {},
   "outputs": [],
   "source": []
  },
  {
   "cell_type": "code",
   "execution_count": null,
   "id": "42b4a0c3",
   "metadata": {},
   "outputs": [],
   "source": []
  },
  {
   "cell_type": "code",
   "execution_count": null,
   "id": "a0c77c28",
   "metadata": {},
   "outputs": [],
   "source": []
  },
  {
   "cell_type": "code",
   "execution_count": null,
   "id": "6e4c6d74",
   "metadata": {},
   "outputs": [],
   "source": []
  },
  {
   "cell_type": "code",
   "execution_count": null,
   "id": "57c95f14",
   "metadata": {},
   "outputs": [],
   "source": []
  },
  {
   "cell_type": "code",
   "execution_count": null,
   "id": "1699292c",
   "metadata": {},
   "outputs": [],
   "source": []
  },
  {
   "cell_type": "code",
   "execution_count": null,
   "id": "d642fd2a",
   "metadata": {},
   "outputs": [],
   "source": []
  },
  {
   "cell_type": "code",
   "execution_count": null,
   "id": "fbc11aa5",
   "metadata": {},
   "outputs": [],
   "source": []
  },
  {
   "cell_type": "code",
   "execution_count": null,
   "id": "e87858cf",
   "metadata": {},
   "outputs": [],
   "source": []
  },
  {
   "cell_type": "code",
   "execution_count": null,
   "id": "296e45dc",
   "metadata": {},
   "outputs": [],
   "source": [
    "len(onecut)"
   ]
  },
  {
   "cell_type": "code",
   "execution_count": null,
   "id": "ccfc9132",
   "metadata": {},
   "outputs": [],
   "source": [
    "#manual clustering based on DTW distance:\n",
    "together=[]\n",
    "to_remove=[]\n",
    "orig=copy.deepcopy(neg_cut)\n",
    "onecut=neg_cut\n",
    "left=onecut\n",
    "#for i in range(len(onecut)):\n",
    "i=1\n",
    "while i < len(onecut):\n",
    "    to_remove.append(i)\n",
    "    for j in range(i+1,100):#len(onecut)):\n",
    "        print(i,j)\n",
    "        spike1=onecut[i]\n",
    "        spike2=onecut[j]\n",
    "        distance,path=fastdtw(spike1,spike2)\n",
    "        if distance<5.5:\n",
    "            print('y')\n",
    "            inds=(ind[i]-1,ind[j]-1)\n",
    "            together.append(inds)\n",
    "            #print(together)\n",
    "            to_remove.append(j)\n",
    "            #print(to_remove)\n",
    "            i+=1\n",
    "            k=i\n",
    "            while k<le000in(onecut):\n",
    "                print(k)\n",
    "                pre=k-1\n",
    "                inds=(ind[pre],ind[k]) \n",
    "                if inds in together:\n",
    "                    i+=1\n",
    "left=np.delete(left,to_remove)\n",
    "\n",
    "together"
   ]
  },
  {
   "cell_type": "code",
   "execution_count": null,
   "id": "c422dfda",
   "metadata": {},
   "outputs": [],
   "source": [
    "i=1\n",
    "print(i)\n",
    "#for i in range(len(onecut)):\n",
    "nex=i+1\n",
    "print(nex)\n",
    "inds=(ind[i],ind[nex])\n",
    "print(inds)\n",
    "if inds in together:\n",
    "    print(inds, 'in')\n",
    "    i+=1\n",
    "print(i)\n"
   ]
  },
  {
   "cell_type": "code",
   "execution_count": null,
   "id": "cadb4a29",
   "metadata": {},
   "outputs": [],
   "source": [
    "together"
   ]
  },
  {
   "cell_type": "code",
   "execution_count": null,
   "id": "abf1cc63",
   "metadata": {},
   "outputs": [],
   "source": [
    "type(onecut)"
   ]
  },
  {
   "cell_type": "code",
   "execution_count": null,
   "id": "6212ae62",
   "metadata": {},
   "outputs": [],
   "source": [
    "#let's verify the dtw similarity within the identified clusters:\n",
    "onecut=neg_cut\n",
    "ind=n_neg\n",
    "cluster=final_data_neg[0]\n",
    "\n",
    "lt=len(cluster) * (len(cluster) - 1) // 2\n",
    "pbar = tqdm(total = lt)\n",
    "saved=[]\n",
    "notsaved=[]\n",
    "dists=[]\n",
    "for k in cluster:\n",
    "    for i in range(len(onecut)):\n",
    "        if ind[i]==k:\n",
    "            for j in range(i + 1, len(onecut)):\n",
    "                if ind[j] in cluster:\n",
    "                    spike1 = onecut[i]\n",
    "                    spike2 = onecut[j]\n",
    "                    pbar.update(1)\n",
    "                    # Calculate DTW distance and alignment path\n",
    "                    distance, path = fastdtw(spike1, spike2)\n",
    "                    #if distance<20:\n",
    "                    s=(ind[i],ind[j])\n",
    "                    #saved.append(s)\n",
    "                    #plt.figure()\n",
    "                    #plt.plot(spike1)\n",
    "                    #plt.plot(spike2)\n",
    "                    #plt.show()\n",
    "                    if distance>15:\n",
    "                        #print(f\"DTW distance between spike {i} {ind[i]},{k} and spike {j} {ind[j]}: {distance}\")\n",
    "                        notsaved.append(onecut[i])\n",
    "                    else:\n",
    "                        saved.append(onecut[i])\n",
    "\n",
    "# Convert the 'saved' list to a numpy array if needed\n",
    "notsaved = np.array(notsaved)\n",
    "saved = np.array(saved)\n",
    "mean=np.mean(dists)\n",
    "print(mean)\n",
    "saved"
   ]
  },
  {
   "cell_type": "code",
   "execution_count": null,
   "id": "71fd06b9",
   "metadata": {},
   "outputs": [],
   "source": [
    "plt.plot(notsaved.transpose())"
   ]
  },
  {
   "cell_type": "code",
   "execution_count": null,
   "id": "3120704f",
   "metadata": {},
   "outputs": [],
   "source": [
    "plt.plot(saved.transpose())"
   ]
  },
  {
   "cell_type": "markdown",
   "id": "af6dd0f0",
   "metadata": {},
   "source": [
    "baseline: 2 cluster (8,9 firing rate)\n",
    "pop 2 stimulation: 2 cluster (24, 26 firing rate)"
   ]
  },
  {
   "cell_type": "code",
   "execution_count": null,
   "id": "18362336",
   "metadata": {
    "scrolled": true
   },
   "outputs": [],
   "source": [
    "plt.hist(np.diff(final_data_neg[2]),bins=100, density=True, alpha=0.5, color='blue', edgecolor='black')"
   ]
  },
  {
   "cell_type": "code",
   "execution_count": null,
   "id": "421755aa",
   "metadata": {},
   "outputs": [],
   "source": [
    "final_data_neg[2]"
   ]
  },
  {
   "cell_type": "markdown",
   "id": "ec88f50c",
   "metadata": {},
   "source": [
    "from fastdtw import fastdtw\n",
    "i=14\n",
    "j=17\n",
    "spike1=pos_cut[i]\n",
    "spike2=pos_cut[j]\n",
    "plt.plot(spike1)\n",
    "plt.plot(spike2)\n",
    "distance, path = fastdtw(spike1, spike2)\n",
    "\n",
    "print(f\"DTW distance between spike {i+1} and spike {j+1}: {distance}\")\n",
    "print(f\"Alignment path: {path}\")"
   ]
  },
  {
   "cell_type": "code",
   "execution_count": null,
   "id": "5307b70e",
   "metadata": {},
   "outputs": [],
   "source": [
    "x=randint(1,len(pos_cut))\n",
    "print(x)\n",
    "\n",
    "plt.plot(pos_cut[x])"
   ]
  },
  {
   "cell_type": "code",
   "execution_count": null,
   "id": "1a963ffe",
   "metadata": {},
   "outputs": [],
   "source": [
    "onecut=neg_cut\n",
    "ind=n_neg\n",
    "cluster=final_data_neg[2]\n",
    "saved=[]\n",
    "\n",
    "l=8\n",
    "k=cluster[l]\n",
    "\n",
    "i+=1\n",
    "print(ind[i],k)\n",
    "if ind[i]==k:\n",
    "    print('proceed')\n",
    "\n",
    "    j=i\n",
    "    \n",
    "    spike1 = onecut[i]\n",
    "    spike2 = onecut[j]\n"
   ]
  },
  {
   "cell_type": "code",
   "execution_count": null,
   "id": "d2355ba8",
   "metadata": {
    "scrolled": true
   },
   "outputs": [],
   "source": [
    "for j in range(i + 1, len(onecut)):\n",
    "    spike1 = onecut[i]\n",
    "    spike2 = onecut[j]\n",
    "\n",
    "    distance, path = fastdtw(spike1, spike2)\n",
    "    if distance<6:\n",
    "        s=(ind[i],ind[j])\n",
    "        saved.append(s)\n",
    "        print(f\"DTW distance between spike {i} {ind[i]},{k} and spike {j} {ind[j]}: {distance}\")\n",
    "        if ind[j] in cluster:\n",
    "            print(ind[j],' cointained in cluster')\n",
    "        else:\n",
    "            plt.figure()\n",
    "            plt.plot(spike1)\n",
    "            plt.plot(spike2)\n",
    "            plt.show()\n"
   ]
  },
  {
   "cell_type": "code",
   "execution_count": null,
   "id": "1a7b1ad9",
   "metadata": {},
   "outputs": [],
   "source": [
    "#compute dtw for spikes 570 and 688 (not in same cluster)\n",
    "#688 876\n",
    "#1092 1095 1593 2304 5503 12507 125012\n",
    "#1577 1801 2009 3202 4213 5211 8226\n",
    "# 3070 11117 12665 16296 22891 24702 28775 30217\n",
    "# 3124 51485 53426 "
   ]
  },
  {
   "cell_type": "code",
   "execution_count": null,
   "id": "b76a88c8",
   "metadata": {},
   "outputs": [],
   "source": []
  },
  {
   "cell_type": "code",
   "execution_count": null,
   "id": "14d9ee26",
   "metadata": {},
   "outputs": [],
   "source": [
    "for p,m in enumerate(final_data_neg):\n",
    "    for o,n in enumerate(m):\n",
    "        if n==570:\n",
    "            print('ind', o,'value',n, 'cluster', m, 'number',p)"
   ]
  },
  {
   "cell_type": "code",
   "execution_count": null,
   "id": "868f41e2",
   "metadata": {},
   "outputs": [],
   "source": [
    "final_data_neg[4]"
   ]
  },
  {
   "cell_type": "code",
   "execution_count": null,
   "id": "01730aa2",
   "metadata": {
    "scrolled": true
   },
   "outputs": [],
   "source": [
    "onecut=neg_cut\n",
    "ind=n_neg\n",
    "cluster=final_data_neg[4]\n",
    "\n",
    "lt=len(onecut)*len(onecut)\n",
    "pbar = tqdm(total = lt)\n",
    "saved=[]\n",
    "# Iterate through pairs of spikes and apply DTW\n",
    "for k in cluster:\n",
    "    for i in range(len(onecut)):\n",
    "        if ind[i]==k:\n",
    "            for j in range(i + 1, len(onecut)):\n",
    "                spike1 = onecut[i]\n",
    "                spike2 = onecut[j]\n",
    "                pbar.update(1)\n",
    "                # Calculate DTW distance and alignment path\n",
    "                distance, path = fastdtw(spike1, spike2)\n",
    "                if distance<20:\n",
    "                    s=(ind[i],ind[j])\n",
    "                    saved.append(s)\n",
    "                    plt.figure()\n",
    "                    plt.plot(spike1)\n",
    "                    plt.plot(spike2)\n",
    "                    plt.show()\n",
    "                    print(f\"DTW distance between spike {i} {ind[i]},{k} and spike {j} {ind[j]}: {distance}\")\n",
    "                    print(f\"Alignment path: {path}\")\n",
    "saved"
   ]
  },
  {
   "cell_type": "code",
   "execution_count": null,
   "id": "7265f76d",
   "metadata": {},
   "outputs": [],
   "source": [
    "final_data_pos[0]"
   ]
  },
  {
   "cell_type": "code",
   "execution_count": null,
   "id": "c3e3a73d",
   "metadata": {},
   "outputs": [],
   "source": [
    "final_data_pos[1]"
   ]
  },
  {
   "cell_type": "code",
   "execution_count": null,
   "id": "7634a37a",
   "metadata": {},
   "outputs": [],
   "source": [
    "plt.plot(pos_cut[0])"
   ]
  },
  {
   "cell_type": "code",
   "execution_count": null,
   "id": "02cb0e93",
   "metadata": {},
   "outputs": [],
   "source": [
    "final_data_pos[0]"
   ]
  },
  {
   "cell_type": "code",
   "execution_count": null,
   "id": "4bfab885",
   "metadata": {},
   "outputs": [],
   "source": [
    "lt=len(final_data_pos[0])*len(final_data_pos[0])\n",
    "pbar = tqdm(total = lt)\n",
    "# Iterate through pairs of spikes and apply DTW\n",
    "for i in final_data_pos[0]:\n",
    "    for j in final_data_pos[0]:\n",
    "        spike1 = pos_cut[i]\n",
    "        spike2 = pos_cut[j]\n",
    "        pbar.update(1)\n",
    "        # Calculate DTW distance and alignment path\n",
    "        distance, path = fastdtw(spike1, spike2)\n",
    "        if distance<20:\n",
    "            plt.figure()\n",
    "            plt.plot(spike1)\n",
    "            plt.plot(spike2)\n",
    "            plt.show()\n",
    "            print(f\"DTW distance between spike {i+1} and spike {j+1}: {distance}\")\n",
    "            print(f\"Alignment path: {path}\")"
   ]
  },
  {
   "cell_type": "code",
   "execution_count": null,
   "id": "a7ff863c",
   "metadata": {},
   "outputs": [],
   "source": []
  },
  {
   "cell_type": "code",
   "execution_count": null,
   "id": "7cba7c7d",
   "metadata": {},
   "outputs": [],
   "source": []
  }
 ],
 "metadata": {
  "kernelspec": {
   "display_name": "Python 3 (ipykernel)",
   "language": "python",
   "name": "python3"
  },
  "language_info": {
   "codemirror_mode": {
    "name": "ipython",
    "version": 3
   },
   "file_extension": ".py",
   "mimetype": "text/x-python",
   "name": "python",
   "nbconvert_exporter": "python",
   "pygments_lexer": "ipython3",
   "version": "3.11.4"
  }
 },
 "nbformat": 4,
 "nbformat_minor": 5
}
