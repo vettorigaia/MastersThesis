{
 "cells": [
  {
   "cell_type": "markdown",
   "id": "24c01321",
   "metadata": {},
   "source": [
    "# Spike Sorting"
   ]
  },
  {
   "cell_type": "code",
   "execution_count": null,
   "id": "52550a20",
   "metadata": {},
   "outputs": [],
   "source": [
    "import glob\n",
    "list_dir=glob.glob(\"/Users/Gaia_1/Desktop/allh5filestutto/*.h5\")\n",
    "for file in list_dir:\n",
    "    print(file)\n",
    "print(len(list_dir))"
   ]
  },
  {
   "cell_type": "code",
   "execution_count": null,
   "id": "2c83bb76",
   "metadata": {
    "scrolled": true
   },
   "outputs": [],
   "source": [
    "final_neurons=[]\n",
    "final_firing=[]\n",
    "from NewLibraryENGcopia import *\n",
    "import glob\n",
    "#final=[]\n",
    "list_dir=glob.glob(\"/Users/Gaia_1/Desktop/allh5filestutto/*.h5\")\n",
    "output_path='/Users/Gaia_1/Desktop/tesi/Data after SS new'\n",
    "for file in tqdm(list_dir):\n",
    "    target=1\n",
    "    stim=0\n",
    "    if 'health' in file:\n",
    "        target=0\n",
    "    if 'after' in file:\n",
    "        stim=1\n",
    "    file_name = file.split(\"/\")[-1]\n",
    "    print(file_name,':','target',target,'stimulation',stim)\n",
    "    neurons,firing=spike_sorting(file,output_path)\n",
    "    final_neurons.append(neurons)\n",
    "    final_firing.append(firing)\n",
    "    print(firing)"
   ]
  },
  {
   "cell_type": "code",
   "execution_count": null,
   "id": "8a356822",
   "metadata": {},
   "outputs": [],
   "source": [
    "save_afer=[]\n",
    "save_BL=[]\n",
    "mean_valueBL=np.zeros(len(final_firing))\n",
    "mean_valueafter=np.zeros(len(final_firing))\n",
    "i=0\n",
    "j=0\n",
    "for f in final_firing:\n",
    "    if 'after' in f[0]:\n",
    "        numerical_values = [float(arr[0]) for arr in f[1:]]\n",
    "        mean_value = sum(numerical_values) / len(numerical_values)\n",
    "        mean_valueafter[j]=mean_value\n",
    "        j+=1\n",
    "        print(\"Mean after24hrs:\", mean_value)\n",
    "        save_after.append(numerical_values)\n",
    "    else:\n",
    "        numerical_values = [float(arr[0]) for arr in f[1:]]\n",
    "        mean_value = sum(numerical_values) / len(numerical_values)\n",
    "        mean_valueBL[i]=mean_value\n",
    "        i+=1\n",
    "        plt.show()\n",
    "        print(\"Mean BL:\", mean_value)\n",
    "        save_BL.append(numerical_values)\n",
    "print(np.mean(mean_valueBL))\n",
    "print(np.mean(mean_valueafter))\n",
    "plt.boxplot(save_BL)\n",
    "plt.show()\n",
    "plt.boxplot(save_after)\n",
    "plt.show()"
   ]
  },
  {
   "cell_type": "code",
   "execution_count": null,
   "id": "89ebba9f",
   "metadata": {},
   "outputs": [],
   "source": []
  },
  {
   "cell_type": "code",
   "execution_count": null,
   "id": "721a7c96",
   "metadata": {},
   "outputs": [],
   "source": []
  }
 ],
 "metadata": {
  "kernelspec": {
   "display_name": "Python 3 (ipykernel)",
   "language": "python",
   "name": "python3"
  },
  "language_info": {
   "codemirror_mode": {
    "name": "ipython",
    "version": 3
   },
   "file_extension": ".py",
   "mimetype": "text/x-python",
   "name": "python",
   "nbconvert_exporter": "python",
   "pygments_lexer": "ipython3",
   "version": "3.11.4"
  }
 },
 "nbformat": 4,
 "nbformat_minor": 5
}
