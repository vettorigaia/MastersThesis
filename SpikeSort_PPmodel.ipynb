{
 "cells": [
  {
   "cell_type": "markdown",
   "id": "22b31b77",
   "metadata": {},
   "source": [
    "# Spike Sorting"
   ]
  },
  {
   "cell_type": "code",
   "execution_count": null,
   "id": "fe832e71",
   "metadata": {},
   "outputs": [],
   "source": [
    "from LRRK2_fast import *\n",
    "import glob\n",
    "data=[]\n",
    "list_dir=glob.glob(\"/Users/Gaia_1/Desktop/h5files/*.h5\")\n",
    "output_path='/Users/Gaia_1/Desktop/tesi/Data after SS'\n",
    "n_healthy_bl=0\n",
    "n_healthy_st=0\n",
    "n_lrrk2_bl=0\n",
    "n_lrrk2_st=0\n",
    "for file in tqdm(list_dir):\n",
    "    target=1\n",
    "    stim=0\n",
    "    if 'health' in file:\n",
    "        target=0\n",
    "    if 'after' in file:\n",
    "        stim=1\n",
    "    file_name = file.split(\"/\")[-1]\n",
    "\n",
    "    if target==0 and stim==0:\n",
    "        name=f\"healthy_bl_{n_healthy_bl}\"\n",
    "        n_healthy_bl+=1\n",
    "    \n",
    "    if target==0 and stim==1:\n",
    "        name=f\"healthy_st_{n_healthy_st}\"\n",
    "        n_healthy_st+=1\n",
    "    \n",
    "    if target==1 and stim==0:\n",
    "        name=f\"lrrk2_bl_{n_lrrk2_bl}\"\n",
    "        n_lrrk2_bl+=1\n",
    "    \n",
    "    if target==1 and stim==1:\n",
    "        name=f\"lrrk2_st_{n_lrrk2_st}\"\n",
    "        n_lrrk2_st+=1\n",
    "    \n",
    "    print(name,':','target',target,'stimulation',stim)\n",
    "    neurons,firing=spike_sorting(file,output_path,name)"
   ]
  },
  {
   "cell_type": "markdown",
   "id": "740940ed",
   "metadata": {},
   "source": [
    "# Point Process Modeling"
   ]
  },
  {
   "cell_type": "code",
   "execution_count": null,
   "id": "4df871e4",
   "metadata": {
    "scrolled": true
   },
   "outputs": [],
   "source": [
    "from LRRK2_MEALibrary import *\n",
    "import glob\n",
    "input_folder='/Users/Gaia_1/Desktop/tesi/Data after SS'\n",
    "output_path='/Users/Gaia_1/Desktop/tesi/Data after PP'\n",
    "list_dir=glob.glob(input_folder+\"/*.txt\")\n",
    "\n",
    "for input_path in tqdm(list_dir):\n",
    "    df=poiproc(input_path,output_path)\n",
    "    "
   ]
  },
  {
   "cell_type": "code",
   "execution_count": null,
   "id": "7a4b159c",
   "metadata": {},
   "outputs": [],
   "source": []
  }
 ],
 "metadata": {
  "kernelspec": {
   "display_name": "Python 3 (ipykernel)",
   "language": "python",
   "name": "python3"
  },
  "language_info": {
   "codemirror_mode": {
    "name": "ipython",
    "version": 3
   },
   "file_extension": ".py",
   "mimetype": "text/x-python",
   "name": "python",
   "nbconvert_exporter": "python",
   "pygments_lexer": "ipython3",
   "version": "3.11.4"
  }
 },
 "nbformat": 4,
 "nbformat_minor": 5
}
