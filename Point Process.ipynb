{
 "cells": [
  {
   "cell_type": "markdown",
   "metadata": {},
   "source": [
    "# Point Process"
   ]
  },
  {
   "cell_type": "code",
   "execution_count": 2,
   "metadata": {},
   "outputs": [
    {
     "name": "stdout",
     "output_type": "stream",
     "text": [
      "Running on PyMC3 v5.9.2\n"
     ]
    },
    {
     "name": "stderr",
     "output_type": "stream",
     "text": [
      "/var/folders/d6/n7zzsskd0jv11v_qxbdvkkf40000gn/T/ipykernel_20946/3338226896.py:11: MatplotlibDeprecationWarning: The seaborn styles shipped by Matplotlib are deprecated since 3.6, as they no longer correspond to the styles shipped by seaborn. However, they will remain available as 'seaborn-v0_8-<style>'. Alternatively, directly use the seaborn API instead.\n",
      "  plt.style.use('seaborn-darkgrid')\n"
     ]
    }
   ],
   "source": [
    "import pandas as pd\n",
    "import numpy as np\n",
    "#import theano\n",
    "import pymc as pm\n",
    "from scipy.stats import ks_2samp\n",
    "import seaborn as sns\n",
    "import matplotlib.pyplot as plt\n",
    "import glob\n",
    "\n",
    "sns.set_context('notebook')\n",
    "plt.style.use('seaborn-darkgrid')\n",
    "print('Running on PyMC3 v{}'.format(pm.__version__))\n",
    "#theano.config.gcc.cxxflags = \"-Wno-c++11-narrowing\"\n",
    "import warnings"
   ]
  },
  {
   "cell_type": "markdown",
   "metadata": {},
   "source": [
    "## Dirichlet Mixture Model"
   ]
  },
  {
   "cell_type": "code",
   "execution_count": 12,
   "metadata": {},
   "outputs": [],
   "source": [
    "def Bayesian_mixture_model_old(ISI_data):\n",
    "    \n",
    "    with pm.Model() as model:\n",
    "        \n",
    "        BoundedNormal = pm.Bound(pm.Normal, lower=0.0)\n",
    "        mu1 = pm.Uniform('mu1',lower=0.01,upper=0.1)\n",
    "        lam1 = pm.Uniform('lam1',lower=0.01,upper=0.04)\n",
    "        obs1 = pm.Wald.dist(mu=mu1,lam=lam1)\n",
    "\n",
    "\n",
    "        mu2 = pm.Uniform('mu2',lower=0,upper=0.2)\n",
    "        sigma = pm.Uniform('sigma',lower=0.0001,upper=0.5)\n",
    "        obs2 = pm.Bound(pm.Normal, lower=0.0).dist(mu=mu2,sigma=sigma)\n",
    "\n",
    "        mu3 = pm.Uniform('mu3',lower=0.1,upper=0.6)\n",
    "        sigma3 = pm.Uniform('sigma3',lower=0.0001,upper=0.5)\n",
    "        obs3 = pm.Bound(pm.Normal, lower=0.0).dist(mu=mu3,sigma=sigma3)\n",
    "\n",
    "\n",
    "        w = pm.Dirichlet('w', a=np.array([1., .4, .4]))\n",
    "\n",
    "        like = pm.Mixture('like', w=w, comp_dists = [obs1, obs2, obs3], observed=ISI_data)\n",
    "\n",
    "\n",
    "        #step = pm.Metropolis(target_accept=0.9)\n",
    "        #trace = pm.sample(step=step,draws=500,tune=100,progressbar=False,random_seed=10,cores=6)\n",
    "     \n",
    "\n",
    "    map_estimate = pm.find_MAP(model=model)\n",
    "    del map_estimate['w_stickbreaking__']\n",
    "    del map_estimate['mu1_interval__']\n",
    "    del map_estimate['lam1_interval__']\n",
    "    del map_estimate['mu2_interval__']\n",
    "    del map_estimate['sigma_interval__']\n",
    "    del map_estimate['mu3_interval__']\n",
    "    del map_estimate['sigma3_interval__']\n",
    "    \n",
    "    map_estimate['w1'] = map_estimate['w'][0]\n",
    "    map_estimate['w2'] = map_estimate['w'][1]\n",
    "    map_estimate['w3'] = map_estimate['w'][2]\n",
    "    \n",
    "    del map_estimate['w']\n",
    "    \n",
    "    map_estimate['n_spikes'] = ISI_data.shape[0]\n",
    "    \n",
    "    \n",
    "    #with model:\n",
    "    #    ppc_trace = pm.sample_posterior_predictive(trace, 50,model=model,progressbar=False,random_seed=10)\n",
    "    \n",
    "    #lista_samples=[]\n",
    "    #for i in list(ppc_trace['like']):\n",
    "    #    lista_samples.extend(i)\n",
    "    \n",
    "    \n",
    "    #print('P_value: ',ks_2samp(lista_samples,ISI_data,mode = 'asymp').pvalue)\n",
    "    \n",
    "    return map_estimate"
   ]
  },
  {
   "cell_type": "code",
   "execution_count": 13,
   "metadata": {},
   "outputs": [],
   "source": [
    "def Bayesian_mixture_model(ISI_data):\n",
    "    with pm.Model() as model:\n",
    "        ##### WALD DISTRIBUTION (INVERSE GAUSSIAN)\n",
    "        mu1 = pm.Uniform('mu1',lower=0.01,upper=0.1)\n",
    "        lam1 = pm.Uniform('lam1',lower=0.01,upper=0.04)\n",
    "        obs1 = pm.Wald.dist(mu=mu1,lam=lam1)\n",
    "\n",
    "\n",
    "        mu2 = pm.Uniform('mu2',lower=0,upper=0.2)\n",
    "        sigma2 = pm.Uniform('sigma2',lower=0.0001,upper=0.5)\n",
    "        obs2 = pm.TruncatedNormal.dist(mu=mu2, sigma=sigma2, lower=0.0)\n",
    "\n",
    "        mu3 = pm.Uniform('mu3',lower=0.1,upper=0.6)\n",
    "        sigma3 = pm.Uniform('sigma3',lower=0.0001,upper=0.5)\n",
    "        obs3 = pm.TruncatedNormal.dist(mu=mu3, sigma=sigma3, lower=0.0)\n",
    "\n",
    "\n",
    "        w = pm.Dirichlet('w', a=np.array([1., .4, .4]))\n",
    "        #w = pm.Dirichlet('w', a=np.array([1., .4]))\n",
    "\n",
    "        like = pm.Mixture('like', w=w, comp_dists = [obs1, obs2, obs3], observed=ISI_data)\n",
    "        #like = pm.Mixture('like', w=w, comp_dists = [obs1, obs2], observed=ISI_data)\n",
    "\n",
    "        step = pm.NUTS(target_accept=0.9)\n",
    "        trace = pm.sample(step=step,draws=1000,chains=1,tune=1000,cores=4)\n",
    "        \n",
    "        #ppc_trace = pm.sample_posterior_predictive(trace,model=model)\n",
    "        \n",
    "    map_estimate = pm.find_MAP(model=model)\n",
    "    \n",
    "    del map_estimate['w_simplex__']\n",
    "    del map_estimate['mu1_interval__']\n",
    "    del map_estimate['lam1_interval__']\n",
    "    del map_estimate['mu2_interval__']\n",
    "    del map_estimate['sigma2_interval__']\n",
    "    del map_estimate['mu3_interval__']\n",
    "    del map_estimate['sigma3_interval__']\n",
    "    \n",
    "    map_estimate['w1'] = map_estimate['w'][0]\n",
    "    map_estimate['w2'] = map_estimate['w'][1]\n",
    "    map_estimate['w3'] = map_estimate['w'][2]\n",
    "\n",
    "    del map_estimate['w']\n",
    "\n",
    "\n",
    "    return map_estimate#, ppc_trace\n"
   ]
  },
  {
   "cell_type": "markdown",
   "metadata": {},
   "source": [
    "## Inverse Gaussian"
   ]
  },
  {
   "cell_type": "code",
   "execution_count": 4,
   "metadata": {},
   "outputs": [],
   "source": [
    "def Inverse_Gaussian_model(ISI_data):    \n",
    "    \n",
    "    with pm.Model() as model:\n",
    "        BoundedNormal = pm.Bound(pm.Normal, lower=0.0)\n",
    "        mu1 = pm.Uniform('mu1',lower=0.01,upper=0.1)\n",
    "        lam1 = pm.Uniform('lam1',lower=0.01,upper=0.04)\n",
    "        obs1 = pm.Wald('like',mu=mu1,lam=lam1,observed=ISI_healthy)\n",
    "\n",
    "\n",
    "        step = pm.NUTS(target_accept=0.9)\n",
    "        trace = pm.sample(step=step,draws=1000,tune=1000,cores=6)\n",
    "\n",
    "        map_estimate = pm.find_MAP(model=model)\n",
    "        \n",
    "    \n",
    "    del map_estimate['mu1_interval__']\n",
    "    del map_estimate['lam1_interval__']\n",
    "    \n",
    "    \n",
    "    \n",
    "    \n",
    "    map_estimate['n_spikes'] = ISI_data.shape[0]\n",
    "    \n",
    "    \n",
    "    with model:\n",
    "        ppc_trace = pm.sample_posterior_predictive(trace, 200,model=model)\n",
    "    \n",
    "    lista_samples=[]\n",
    "    for i in list(ppc_trace['like']):\n",
    "        lista_samples.extend(i)\n",
    "    \n",
    "    \n",
    "    print('P_value: ',ks_2samp(lista_samples,ISI_data,mode = 'asymp').pvalue)\n",
    "    \n",
    "    return map_estimate"
   ]
  },
  {
   "cell_type": "markdown",
   "metadata": {},
   "source": [
    "## Import all neural net"
   ]
  },
  {
   "cell_type": "code",
   "execution_count": 14,
   "metadata": {},
   "outputs": [],
   "source": [
    "list_dir=glob.glob(\"Data after SS/*.txt\")"
   ]
  },
  {
   "cell_type": "code",
   "execution_count": 15,
   "metadata": {},
   "outputs": [
    {
     "name": "stdout",
     "output_type": "stream",
     "text": [
      "Data after SS/After2019-01-23T15-49-43MEA2 healthy cortical .h5.txt.txt ok\n",
      "Data after SS/After2019-01-23T16-06-32Pop1 healthy cortical .h5.txt.txt ok\n",
      "Data after SS/After2018-11-27T10-56-39MiP5 KA stimulation.h5.txt.txt ok\n",
      "Data after SS/After2018-11-27T10-29-42POP 2 BL .h5.txt.txt ok\n",
      "Data after SS/After2019-01-23T11-05-52MIP3 health cortical .h5.txt.txt ok\n",
      "Data after SS/After2018-11-27T11-24-28MiP3 stimulation.h5.txt.txt ok\n",
      "Data after SS/After2018-11-27T10-40-53POP 3 BL .h5.txt.txt ok\n",
      "Data after SS/After2019-01-23T16-22-47Pop3 healthy cortical .h5.txt.txt ok\n",
      "Data after SS/After2018-11-27T12-03-02POP 2 stimulation.h5.txt.txt ok\n"
     ]
    }
   ],
   "source": [
    "list_dir_ok = []\n",
    "for net in list_dir:\n",
    "    #if 'After' not in net:\n",
    "    print(net,'ok')\n",
    "    list_dir_ok.append(net)"
   ]
  },
  {
   "cell_type": "code",
   "execution_count": 16,
   "metadata": {},
   "outputs": [
    {
     "name": "stdout",
     "output_type": "stream",
     "text": [
      "H Data after SS/After2019-01-23T15-49-43MEA2 healthy cortical .h5.txt.txt 91\n",
      "H Data after SS/After2019-01-23T16-06-32Pop1 healthy cortical .h5.txt.txt 83\n",
      "L Data after SS/After2018-11-27T10-56-39MiP5 KA stimulation.h5.txt.txt 121\n",
      "L Data after SS/After2018-11-27T10-29-42POP 2 BL .h5.txt.txt 94\n",
      "H Data after SS/After2019-01-23T11-05-52MIP3 health cortical .h5.txt.txt 91\n",
      "L Data after SS/After2018-11-27T11-24-28MiP3 stimulation.h5.txt.txt 106\n",
      "L Data after SS/After2018-11-27T10-40-53POP 3 BL .h5.txt.txt 97\n",
      "H Data after SS/After2019-01-23T16-22-47Pop3 healthy cortical .h5.txt.txt 96\n",
      "L Data after SS/After2018-11-27T12-03-02POP 2 stimulation.h5.txt.txt 80\n",
      "Total healthy neurons:  361 \n",
      "\n",
      "Total lrrk2 neurons:  498 \n",
      "\n"
     ]
    }
   ],
   "source": [
    "n_neurons_healthy = 0\n",
    "n_neurons_lrrk2 = 0\n",
    "for net in list_dir_ok:\n",
    "    list_neurons = np.genfromtxt(net, delimiter=',')\n",
    "    if 'health' in net:\n",
    "            print('H',net,list_neurons.shape[0])\n",
    "            n_neurons_healthy = n_neurons_healthy+list_neurons.shape[0]\n",
    "            \n",
    "    elif 'Healthy' in net:\n",
    "            print('H',net,list_neurons.shape[0])\n",
    "            n_neurons_healthy = n_neurons_healthy+list_neurons.shape[0]\n",
    "    else:\n",
    "            print('L',net,list_neurons.shape[0])\n",
    "            n_neurons_lrrk2 = n_neurons_lrrk2+list_neurons.shape[0]\n",
    "print('Total healthy neurons: ',n_neurons_healthy,'\\n')\n",
    "print('Total lrrk2 neurons: ',n_neurons_lrrk2,'\\n')\n"
   ]
  },
  {
   "cell_type": "markdown",
   "metadata": {},
   "source": [
    "## Run the model on baseline in the interval 100-300s"
   ]
  },
  {
   "cell_type": "code",
   "execution_count": 22,
   "metadata": {
    "scrolled": true
   },
   "outputs": [
    {
     "name": "stdout",
     "output_type": "stream",
     "text": [
      "1 )  Data after SS/After2019-01-23T15-49-43MEA2 healthy cortical .h5.txt.txt\n",
      "Original number of neurons:  91\n",
      "  Neuron with  323 spikes\n",
      "    Excluded neuron with n spikes =  323\n",
      "  Neuron with  319 spikes\n",
      "    Excluded neuron with n spikes =  319\n",
      "  Neuron with  323 spikes\n",
      "    Excluded neuron with n spikes =  323\n",
      "  Neuron with  440 spikes\n",
      "    Excluded neuron with n spikes =  440\n",
      "  Neuron with  295 spikes\n",
      "    Excluded neuron with n spikes =  295\n",
      "  Neuron with  344 spikes\n",
      "    Excluded neuron with n spikes =  344\n",
      "  Neuron with  481 spikes\n",
      "    Excluded neuron with n spikes =  481\n",
      "  Neuron with  571 spikes\n",
      "    Excluded neuron with n spikes =  571\n",
      "  Neuron with  370 spikes\n",
      "    Excluded neuron with n spikes =  370\n",
      "  Neuron with  419 spikes\n",
      "    Excluded neuron with n spikes =  419\n",
      "  Neuron with  294 spikes\n",
      "    Excluded neuron with n spikes =  294\n",
      "  Neuron with  176 spikes\n",
      "    Excluded neuron with n spikes =  176\n",
      "  Neuron with  427 spikes\n",
      "    Excluded neuron with n spikes =  427\n",
      "  Neuron with  423 spikes\n",
      "    Excluded neuron with n spikes =  423\n",
      "  Neuron with  355 spikes\n",
      "    Excluded neuron with n spikes =  355\n",
      "  Neuron with  275 spikes\n",
      "    Excluded neuron with n spikes =  275\n",
      "  Neuron with  318 spikes\n",
      "    Excluded neuron with n spikes =  318\n",
      "  Neuron with  466 spikes\n",
      "    Excluded neuron with n spikes =  466\n",
      "  Neuron with  353 spikes\n",
      "    Excluded neuron with n spikes =  353\n",
      "  Neuron with  493 spikes\n",
      "    Excluded neuron with n spikes =  493\n",
      "  Neuron with  469 spikes\n",
      "    Excluded neuron with n spikes =  469\n",
      "  Neuron with  392 spikes\n",
      "    Excluded neuron with n spikes =  392\n",
      "  Neuron with  298 spikes\n",
      "    Excluded neuron with n spikes =  298\n",
      "  Neuron with  340 spikes\n",
      "    Excluded neuron with n spikes =  340\n",
      "  Neuron with  395 spikes\n",
      "    Excluded neuron with n spikes =  395\n",
      "  Neuron with  375 spikes\n",
      "    Excluded neuron with n spikes =  375\n",
      "  Neuron with  396 spikes\n",
      "    Excluded neuron with n spikes =  396\n",
      "  Neuron with  385 spikes\n",
      "    Excluded neuron with n spikes =  385\n",
      "  Neuron with  379 spikes\n",
      "    Excluded neuron with n spikes =  379\n",
      "  Neuron with  243 spikes\n",
      "    Excluded neuron with n spikes =  243\n",
      "  Neuron with  266 spikes\n",
      "    Excluded neuron with n spikes =  266\n",
      "  Neuron with  325 spikes\n",
      "    Excluded neuron with n spikes =  325\n",
      "  Neuron with  327 spikes\n",
      "    Excluded neuron with n spikes =  327\n",
      "  Neuron with  300 spikes\n",
      "    Excluded neuron with n spikes =  300\n",
      "  Neuron with  536 spikes\n",
      "    Excluded neuron with n spikes =  536\n",
      "  Neuron with  416 spikes\n",
      "    Excluded neuron with n spikes =  416\n",
      "  Neuron with  686 spikes\n",
      "    Excluded neuron with n spikes =  686\n",
      "  Neuron with  358 spikes\n",
      "    Excluded neuron with n spikes =  358\n",
      "  Neuron with  321 spikes\n",
      "    Excluded neuron with n spikes =  321\n",
      "  Neuron with  606 spikes\n",
      "    Excluded neuron with n spikes =  606\n",
      "  Neuron with  428 spikes\n",
      "    Excluded neuron with n spikes =  428\n",
      "  Neuron with  439 spikes\n",
      "    Excluded neuron with n spikes =  439\n",
      "  Neuron with  425 spikes\n",
      "    Excluded neuron with n spikes =  425\n",
      "  Neuron with  631 spikes\n",
      "    Excluded neuron with n spikes =  631\n",
      "  Neuron with  412 spikes\n",
      "    Excluded neuron with n spikes =  412\n",
      "  Neuron with  616 spikes\n",
      "    Excluded neuron with n spikes =  616\n",
      "  Neuron with  346 spikes\n",
      "    Excluded neuron with n spikes =  346\n",
      "  Neuron with  519 spikes\n",
      "    Excluded neuron with n spikes =  519\n",
      "  Neuron with  260 spikes\n",
      "    Excluded neuron with n spikes =  260\n",
      "  Neuron with  425 spikes\n",
      "    Excluded neuron with n spikes =  425\n",
      "  Neuron with  631 spikes\n",
      "    Excluded neuron with n spikes =  631\n",
      "  Neuron with  412 spikes\n",
      "    Excluded neuron with n spikes =  412\n",
      "  Neuron with  616 spikes\n",
      "    Excluded neuron with n spikes =  616\n",
      "  Neuron with  346 spikes\n",
      "    Excluded neuron with n spikes =  346\n",
      "  Neuron with  519 spikes\n",
      "    Excluded neuron with n spikes =  519\n",
      "  Neuron with  260 spikes\n",
      "    Excluded neuron with n spikes =  260\n",
      "  Neuron with  425 spikes\n",
      "    Excluded neuron with n spikes =  425\n",
      "  Neuron with  631 spikes\n",
      "    Excluded neuron with n spikes =  631\n",
      "  Neuron with  412 spikes\n",
      "    Excluded neuron with n spikes =  412\n",
      "  Neuron with  616 spikes\n",
      "    Excluded neuron with n spikes =  616\n",
      "  Neuron with  346 spikes\n",
      "    Excluded neuron with n spikes =  346\n",
      "  Neuron with  519 spikes\n",
      "    Excluded neuron with n spikes =  519\n",
      "  Neuron with  260 spikes\n",
      "    Excluded neuron with n spikes =  260\n",
      "  Neuron with  425 spikes\n",
      "    Excluded neuron with n spikes =  425\n",
      "  Neuron with  631 spikes\n",
      "    Excluded neuron with n spikes =  631\n",
      "  Neuron with  412 spikes\n",
      "    Excluded neuron with n spikes =  412\n",
      "  Neuron with  616 spikes\n",
      "    Excluded neuron with n spikes =  616\n",
      "  Neuron with  346 spikes\n",
      "    Excluded neuron with n spikes =  346\n",
      "  Neuron with  519 spikes\n",
      "    Excluded neuron with n spikes =  519\n",
      "  Neuron with  260 spikes\n",
      "    Excluded neuron with n spikes =  260\n",
      "  Neuron with  425 spikes\n",
      "    Excluded neuron with n spikes =  425\n",
      "  Neuron with  631 spikes\n",
      "    Excluded neuron with n spikes =  631\n",
      "  Neuron with  412 spikes\n",
      "    Excluded neuron with n spikes =  412\n",
      "  Neuron with  616 spikes\n",
      "    Excluded neuron with n spikes =  616\n",
      "  Neuron with  346 spikes\n",
      "    Excluded neuron with n spikes =  346\n",
      "  Neuron with  519 spikes\n",
      "    Excluded neuron with n spikes =  519\n",
      "  Neuron with  260 spikes\n",
      "    Excluded neuron with n spikes =  260\n",
      "  Neuron with  425 spikes\n",
      "    Excluded neuron with n spikes =  425\n",
      "  Neuron with  631 spikes\n",
      "    Excluded neuron with n spikes =  631\n",
      "  Neuron with  412 spikes\n",
      "    Excluded neuron with n spikes =  412\n",
      "  Neuron with  616 spikes\n",
      "    Excluded neuron with n spikes =  616\n",
      "  Neuron with  346 spikes\n",
      "    Excluded neuron with n spikes =  346\n",
      "  Neuron with  519 spikes\n",
      "    Excluded neuron with n spikes =  519\n",
      "  Neuron with  260 spikes\n",
      "    Excluded neuron with n spikes =  260\n",
      "  Neuron with  425 spikes\n",
      "    Excluded neuron with n spikes =  425\n",
      "  Neuron with  631 spikes\n",
      "    Excluded neuron with n spikes =  631\n",
      "  Neuron with  412 spikes\n",
      "    Excluded neuron with n spikes =  412\n",
      "  Neuron with  616 spikes\n",
      "    Excluded neuron with n spikes =  616\n",
      "  Neuron with  346 spikes\n",
      "    Excluded neuron with n spikes =  346\n",
      "  Neuron with  519 spikes\n",
      "    Excluded neuron with n spikes =  519\n",
      "  Neuron with  260 spikes\n",
      "    Excluded neuron with n spikes =  260\n",
      "Final number of neurons:  0\n",
      "Target =  0\n",
      "2 )  Data after SS/After2019-01-23T16-06-32Pop1 healthy cortical .h5.txt.txt\n",
      "Original number of neurons:  83\n",
      "  Neuron with  459 spikes\n",
      "    Excluded neuron with n spikes =  459\n",
      "  Neuron with  484 spikes\n",
      "    Excluded neuron with n spikes =  484\n",
      "  Neuron with  447 spikes\n",
      "    Excluded neuron with n spikes =  447\n",
      "  Neuron with  575 spikes\n",
      "    Excluded neuron with n spikes =  575\n",
      "  Neuron with  269 spikes\n",
      "    Excluded neuron with n spikes =  269\n",
      "  Neuron with  296 spikes\n",
      "    Excluded neuron with n spikes =  296\n",
      "  Neuron with  454 spikes\n",
      "    Excluded neuron with n spikes =  454\n",
      "  Neuron with  453 spikes\n",
      "    Excluded neuron with n spikes =  453\n",
      "  Neuron with  663 spikes\n",
      "    Excluded neuron with n spikes =  663\n",
      "  Neuron with  517 spikes\n",
      "    Excluded neuron with n spikes =  517\n",
      "  Neuron with  261 spikes\n",
      "    Excluded neuron with n spikes =  261\n",
      "  Neuron with  555 spikes\n",
      "    Excluded neuron with n spikes =  555\n",
      "  Neuron with  314 spikes\n",
      "    Excluded neuron with n spikes =  314\n",
      "  Neuron with  314 spikes\n",
      "    Excluded neuron with n spikes =  314\n",
      "  Neuron with  494 spikes\n",
      "    Excluded neuron with n spikes =  494\n",
      "  Neuron with  392 spikes\n",
      "    Excluded neuron with n spikes =  392\n",
      "  Neuron with  352 spikes\n",
      "    Excluded neuron with n spikes =  352\n",
      "  Neuron with  369 spikes\n",
      "    Excluded neuron with n spikes =  369\n",
      "  Neuron with  371 spikes\n",
      "    Excluded neuron with n spikes =  371\n",
      "  Neuron with  424 spikes\n",
      "    Excluded neuron with n spikes =  424\n",
      "  Neuron with  486 spikes\n",
      "    Excluded neuron with n spikes =  486\n",
      "  Neuron with  546 spikes\n",
      "    Excluded neuron with n spikes =  546\n",
      "  Neuron with  548 spikes\n",
      "    Excluded neuron with n spikes =  548\n",
      "  Neuron with  707 spikes\n",
      "    Excluded neuron with n spikes =  707\n",
      "  Neuron with  326 spikes\n",
      "    Excluded neuron with n spikes =  326\n",
      "  Neuron with  701 spikes\n",
      "    Excluded neuron with n spikes =  701\n",
      "  Neuron with  2148 spikes\n"
     ]
    },
    {
     "name": "stderr",
     "output_type": "stream",
     "text": [
      "Sequential sampling (1 chains in 1 job)\n",
      "NUTS: [mu1, lam1, mu2, sigma2, mu3, sigma3, w]\n"
     ]
    },
    {
     "data": {
      "text/html": [
       "\n",
       "<style>\n",
       "    /* Turns off some styling */\n",
       "    progress {\n",
       "        /* gets rid of default border in Firefox and Opera. */\n",
       "        border: none;\n",
       "        /* Needs to be in here for Safari polyfill so background images work as expected. */\n",
       "        background-size: auto;\n",
       "    }\n",
       "    progress:not([value]), progress:not([value])::-webkit-progress-bar {\n",
       "        background: repeating-linear-gradient(45deg, #7e7e7e, #7e7e7e 10px, #5c5c5c 10px, #5c5c5c 20px);\n",
       "    }\n",
       "    .progress-bar-interrupted, .progress-bar-interrupted::-webkit-progress-bar {\n",
       "        background: #F44336;\n",
       "    }\n",
       "</style>\n"
      ],
      "text/plain": [
       "<IPython.core.display.HTML object>"
      ]
     },
     "metadata": {},
     "output_type": "display_data"
    },
    {
     "data": {
      "text/html": [
       "\n",
       "    <div>\n",
       "      <progress value='2000' class='' max='2000' style='width:300px; height:20px; vertical-align: middle;'></progress>\n",
       "      100.00% [2000/2000 01:34&lt;00:00 Sampling chain 0, 1 divergences]\n",
       "    </div>\n",
       "    "
      ],
      "text/plain": [
       "<IPython.core.display.HTML object>"
      ]
     },
     "metadata": {},
     "output_type": "display_data"
    },
    {
     "name": "stderr",
     "output_type": "stream",
     "text": [
      "Sampling 1 chain for 1_000 tune and 1_000 draw iterations (1_000 + 1_000 draws total) took 95 seconds.\n",
      "Only one chain was sampled, this makes it impossible to run some convergence checks\n"
     ]
    },
    {
     "data": {
      "text/html": [
       "\n",
       "<style>\n",
       "    /* Turns off some styling */\n",
       "    progress {\n",
       "        /* gets rid of default border in Firefox and Opera. */\n",
       "        border: none;\n",
       "        /* Needs to be in here for Safari polyfill so background images work as expected. */\n",
       "        background-size: auto;\n",
       "    }\n",
       "    progress:not([value]), progress:not([value])::-webkit-progress-bar {\n",
       "        background: repeating-linear-gradient(45deg, #7e7e7e, #7e7e7e 10px, #5c5c5c 10px, #5c5c5c 20px);\n",
       "    }\n",
       "    .progress-bar-interrupted, .progress-bar-interrupted::-webkit-progress-bar {\n",
       "        background: #F44336;\n",
       "    }\n",
       "</style>\n"
      ],
      "text/plain": [
       "<IPython.core.display.HTML object>"
      ]
     },
     "metadata": {},
     "output_type": "display_data"
    },
    {
     "data": {
      "text/html": [
       "\n",
       "    <div>\n",
       "      <progress value='33' class='' max='33' style='width:300px; height:20px; vertical-align: middle;'></progress>\n",
       "      100.00% [33/33 00:00&lt;00:00 logp = 3,060.3, ||grad|| = 126.2]\n",
       "    </div>\n",
       "    "
      ],
      "text/plain": [
       "<IPython.core.display.HTML object>"
      ]
     },
     "metadata": {},
     "output_type": "display_data"
    },
    {
     "name": "stdout",
     "output_type": "stream",
     "text": [
      "\n",
      "target healthy\n",
      "  Neuron with  308 spikes\n",
      "    Excluded neuron with n spikes =  308\n",
      "  Neuron with  239 spikes\n",
      "    Excluded neuron with n spikes =  239\n",
      "  Neuron with  304 spikes\n",
      "    Excluded neuron with n spikes =  304\n",
      "  Neuron with  461 spikes\n",
      "    Excluded neuron with n spikes =  461\n",
      "  Neuron with  438 spikes\n",
      "    Excluded neuron with n spikes =  438\n",
      "  Neuron with  392 spikes\n",
      "    Excluded neuron with n spikes =  392\n",
      "  Neuron with  584 spikes\n",
      "    Excluded neuron with n spikes =  584\n",
      "  Neuron with  458 spikes\n",
      "    Excluded neuron with n spikes =  458\n",
      "  Neuron with  308 spikes\n",
      "    Excluded neuron with n spikes =  308\n",
      "  Neuron with  239 spikes\n",
      "    Excluded neuron with n spikes =  239\n",
      "  Neuron with  304 spikes\n",
      "    Excluded neuron with n spikes =  304\n",
      "  Neuron with  461 spikes\n",
      "    Excluded neuron with n spikes =  461\n",
      "  Neuron with  438 spikes\n",
      "    Excluded neuron with n spikes =  438\n",
      "  Neuron with  392 spikes\n",
      "    Excluded neuron with n spikes =  392\n",
      "  Neuron with  584 spikes\n",
      "    Excluded neuron with n spikes =  584\n",
      "  Neuron with  458 spikes\n",
      "    Excluded neuron with n spikes =  458\n",
      "  Neuron with  308 spikes\n",
      "    Excluded neuron with n spikes =  308\n",
      "  Neuron with  239 spikes\n",
      "    Excluded neuron with n spikes =  239\n",
      "  Neuron with  304 spikes\n",
      "    Excluded neuron with n spikes =  304\n",
      "  Neuron with  461 spikes\n",
      "    Excluded neuron with n spikes =  461\n",
      "  Neuron with  438 spikes\n",
      "    Excluded neuron with n spikes =  438\n",
      "  Neuron with  392 spikes\n",
      "    Excluded neuron with n spikes =  392\n",
      "  Neuron with  584 spikes\n",
      "    Excluded neuron with n spikes =  584\n",
      "  Neuron with  458 spikes\n",
      "    Excluded neuron with n spikes =  458\n",
      "  Neuron with  308 spikes\n",
      "    Excluded neuron with n spikes =  308\n",
      "  Neuron with  239 spikes\n",
      "    Excluded neuron with n spikes =  239\n",
      "  Neuron with  304 spikes\n",
      "    Excluded neuron with n spikes =  304\n",
      "  Neuron with  461 spikes\n",
      "    Excluded neuron with n spikes =  461\n",
      "  Neuron with  438 spikes\n",
      "    Excluded neuron with n spikes =  438\n",
      "  Neuron with  392 spikes\n",
      "    Excluded neuron with n spikes =  392\n",
      "  Neuron with  584 spikes\n",
      "    Excluded neuron with n spikes =  584\n",
      "  Neuron with  458 spikes\n",
      "    Excluded neuron with n spikes =  458\n",
      "  Neuron with  308 spikes\n",
      "    Excluded neuron with n spikes =  308\n",
      "  Neuron with  239 spikes\n",
      "    Excluded neuron with n spikes =  239\n",
      "  Neuron with  304 spikes\n",
      "    Excluded neuron with n spikes =  304\n",
      "  Neuron with  461 spikes\n",
      "    Excluded neuron with n spikes =  461\n",
      "  Neuron with  438 spikes\n",
      "    Excluded neuron with n spikes =  438\n",
      "  Neuron with  392 spikes\n",
      "    Excluded neuron with n spikes =  392\n",
      "  Neuron with  584 spikes\n",
      "    Excluded neuron with n spikes =  584\n",
      "  Neuron with  458 spikes\n",
      "    Excluded neuron with n spikes =  458\n",
      "  Neuron with  308 spikes\n",
      "    Excluded neuron with n spikes =  308\n",
      "  Neuron with  239 spikes\n",
      "    Excluded neuron with n spikes =  239\n",
      "  Neuron with  304 spikes\n",
      "    Excluded neuron with n spikes =  304\n",
      "  Neuron with  461 spikes\n",
      "    Excluded neuron with n spikes =  461\n",
      "  Neuron with  438 spikes\n",
      "    Excluded neuron with n spikes =  438\n",
      "  Neuron with  392 spikes\n",
      "    Excluded neuron with n spikes =  392\n",
      "  Neuron with  584 spikes\n",
      "    Excluded neuron with n spikes =  584\n",
      "  Neuron with  458 spikes\n",
      "    Excluded neuron with n spikes =  458\n",
      "  Neuron with  308 spikes\n",
      "    Excluded neuron with n spikes =  308\n",
      "  Neuron with  239 spikes\n",
      "    Excluded neuron with n spikes =  239\n",
      "  Neuron with  304 spikes\n",
      "    Excluded neuron with n spikes =  304\n",
      "  Neuron with  461 spikes\n",
      "    Excluded neuron with n spikes =  461\n",
      "  Neuron with  438 spikes\n",
      "    Excluded neuron with n spikes =  438\n",
      "  Neuron with  392 spikes\n",
      "    Excluded neuron with n spikes =  392\n",
      "  Neuron with  584 spikes\n",
      "    Excluded neuron with n spikes =  584\n",
      "  Neuron with  458 spikes\n",
      "    Excluded neuron with n spikes =  458\n",
      "Final number of neurons:  1\n",
      "Target =  0\n",
      "3 )  Data after SS/After2018-11-27T10-56-39MiP5 KA stimulation.h5.txt.txt\n",
      "Original number of neurons:  121\n",
      "  Neuron with  359 spikes\n",
      "    Excluded neuron with n spikes =  359\n",
      "  Neuron with  751 spikes\n",
      "    Excluded neuron with n spikes =  751\n",
      "  Neuron with  362 spikes\n",
      "    Excluded neuron with n spikes =  362\n",
      "  Neuron with  411 spikes\n",
      "    Excluded neuron with n spikes =  411\n",
      "  Neuron with  605 spikes\n",
      "    Excluded neuron with n spikes =  605\n",
      "  Neuron with  521 spikes\n",
      "    Excluded neuron with n spikes =  521\n",
      "  Neuron with  376 spikes\n",
      "    Excluded neuron with n spikes =  376\n",
      "  Neuron with  417 spikes\n",
      "    Excluded neuron with n spikes =  417\n",
      "  Neuron with  287 spikes\n",
      "    Excluded neuron with n spikes =  287\n",
      "  Neuron with  353 spikes\n",
      "    Excluded neuron with n spikes =  353\n",
      "  Neuron with  440 spikes\n",
      "    Excluded neuron with n spikes =  440\n",
      "  Neuron with  379 spikes\n",
      "    Excluded neuron with n spikes =  379\n",
      "  Neuron with  337 spikes\n",
      "    Excluded neuron with n spikes =  337\n",
      "  Neuron with  221 spikes\n",
      "    Excluded neuron with n spikes =  221\n",
      "  Neuron with  276 spikes\n",
      "    Excluded neuron with n spikes =  276\n",
      "  Neuron with  418 spikes\n",
      "    Excluded neuron with n spikes =  418\n",
      "  Neuron with  182 spikes\n",
      "    Excluded neuron with n spikes =  182\n",
      "  Neuron with  410 spikes\n",
      "    Excluded neuron with n spikes =  410\n",
      "  Neuron with  383 spikes\n",
      "    Excluded neuron with n spikes =  383\n",
      "  Neuron with  350 spikes\n",
      "    Excluded neuron with n spikes =  350\n",
      "  Neuron with  238 spikes\n",
      "    Excluded neuron with n spikes =  238\n",
      "  Neuron with  401 spikes\n",
      "    Excluded neuron with n spikes =  401\n",
      "  Neuron with  373 spikes\n",
      "    Excluded neuron with n spikes =  373\n",
      "  Neuron with  296 spikes\n",
      "    Excluded neuron with n spikes =  296\n",
      "  Neuron with  208 spikes\n",
      "    Excluded neuron with n spikes =  208\n",
      "  Neuron with  181 spikes\n",
      "    Excluded neuron with n spikes =  181\n",
      "  Neuron with  161 spikes\n",
      "    Excluded neuron with n spikes =  161\n",
      "  Neuron with  258 spikes\n",
      "    Excluded neuron with n spikes =  258\n",
      "  Neuron with  292 spikes\n",
      "    Excluded neuron with n spikes =  292\n",
      "  Neuron with  289 spikes\n",
      "    Excluded neuron with n spikes =  289\n",
      "  Neuron with  409 spikes\n",
      "    Excluded neuron with n spikes =  409\n",
      "  Neuron with  258 spikes\n",
      "    Excluded neuron with n spikes =  258\n",
      "  Neuron with  235 spikes\n",
      "    Excluded neuron with n spikes =  235\n",
      "  Neuron with  257 spikes\n",
      "    Excluded neuron with n spikes =  257\n",
      "  Neuron with  456 spikes\n",
      "    Excluded neuron with n spikes =  456\n",
      "  Neuron with  462 spikes\n",
      "    Excluded neuron with n spikes =  462\n",
      "  Neuron with  489 spikes\n",
      "    Excluded neuron with n spikes =  489\n",
      "  Neuron with  293 spikes\n",
      "    Excluded neuron with n spikes =  293\n",
      "  Neuron with  1243 spikes\n"
     ]
    },
    {
     "name": "stderr",
     "output_type": "stream",
     "text": [
      "Sequential sampling (1 chains in 1 job)\n",
      "NUTS: [mu1, lam1, mu2, sigma2, mu3, sigma3, w]\n"
     ]
    },
    {
     "data": {
      "text/html": [
       "\n",
       "<style>\n",
       "    /* Turns off some styling */\n",
       "    progress {\n",
       "        /* gets rid of default border in Firefox and Opera. */\n",
       "        border: none;\n",
       "        /* Needs to be in here for Safari polyfill so background images work as expected. */\n",
       "        background-size: auto;\n",
       "    }\n",
       "    progress:not([value]), progress:not([value])::-webkit-progress-bar {\n",
       "        background: repeating-linear-gradient(45deg, #7e7e7e, #7e7e7e 10px, #5c5c5c 10px, #5c5c5c 20px);\n",
       "    }\n",
       "    .progress-bar-interrupted, .progress-bar-interrupted::-webkit-progress-bar {\n",
       "        background: #F44336;\n",
       "    }\n",
       "</style>\n"
      ],
      "text/plain": [
       "<IPython.core.display.HTML object>"
      ]
     },
     "metadata": {},
     "output_type": "display_data"
    },
    {
     "data": {
      "text/html": [
       "\n",
       "    <div>\n",
       "      <progress value='2000' class='' max='2000' style='width:300px; height:20px; vertical-align: middle;'></progress>\n",
       "      100.00% [2000/2000 01:06&lt;00:00 Sampling chain 0, 0 divergences]\n",
       "    </div>\n",
       "    "
      ],
      "text/plain": [
       "<IPython.core.display.HTML object>"
      ]
     },
     "metadata": {},
     "output_type": "display_data"
    },
    {
     "name": "stderr",
     "output_type": "stream",
     "text": [
      "Sampling 1 chain for 1_000 tune and 1_000 draw iterations (1_000 + 1_000 draws total) took 66 seconds.\n",
      "Only one chain was sampled, this makes it impossible to run some convergence checks\n"
     ]
    },
    {
     "data": {
      "text/html": [
       "\n",
       "<style>\n",
       "    /* Turns off some styling */\n",
       "    progress {\n",
       "        /* gets rid of default border in Firefox and Opera. */\n",
       "        border: none;\n",
       "        /* Needs to be in here for Safari polyfill so background images work as expected. */\n",
       "        background-size: auto;\n",
       "    }\n",
       "    progress:not([value]), progress:not([value])::-webkit-progress-bar {\n",
       "        background: repeating-linear-gradient(45deg, #7e7e7e, #7e7e7e 10px, #5c5c5c 10px, #5c5c5c 20px);\n",
       "    }\n",
       "    .progress-bar-interrupted, .progress-bar-interrupted::-webkit-progress-bar {\n",
       "        background: #F44336;\n",
       "    }\n",
       "</style>\n"
      ],
      "text/plain": [
       "<IPython.core.display.HTML object>"
      ]
     },
     "metadata": {},
     "output_type": "display_data"
    },
    {
     "data": {
      "text/html": [
       "\n",
       "    <div>\n",
       "      <progress value='46' class='' max='46' style='width:300px; height:20px; vertical-align: middle;'></progress>\n",
       "      100.00% [46/46 00:00&lt;00:00 logp = 1,045.2, ||grad|| = 0.063024]\n",
       "    </div>\n",
       "    "
      ],
      "text/plain": [
       "<IPython.core.display.HTML object>"
      ]
     },
     "metadata": {},
     "output_type": "display_data"
    },
    {
     "name": "stdout",
     "output_type": "stream",
     "text": [
      "\n",
      "  Neuron with  1279 spikes\n"
     ]
    },
    {
     "name": "stderr",
     "output_type": "stream",
     "text": [
      "Sequential sampling (1 chains in 1 job)\n",
      "NUTS: [mu1, lam1, mu2, sigma2, mu3, sigma3, w]\n"
     ]
    },
    {
     "data": {
      "text/html": [
       "\n",
       "<style>\n",
       "    /* Turns off some styling */\n",
       "    progress {\n",
       "        /* gets rid of default border in Firefox and Opera. */\n",
       "        border: none;\n",
       "        /* Needs to be in here for Safari polyfill so background images work as expected. */\n",
       "        background-size: auto;\n",
       "    }\n",
       "    progress:not([value]), progress:not([value])::-webkit-progress-bar {\n",
       "        background: repeating-linear-gradient(45deg, #7e7e7e, #7e7e7e 10px, #5c5c5c 10px, #5c5c5c 20px);\n",
       "    }\n",
       "    .progress-bar-interrupted, .progress-bar-interrupted::-webkit-progress-bar {\n",
       "        background: #F44336;\n",
       "    }\n",
       "</style>\n"
      ],
      "text/plain": [
       "<IPython.core.display.HTML object>"
      ]
     },
     "metadata": {},
     "output_type": "display_data"
    },
    {
     "data": {
      "text/html": [
       "\n",
       "    <div>\n",
       "      <progress value='2000' class='' max='2000' style='width:300px; height:20px; vertical-align: middle;'></progress>\n",
       "      100.00% [2000/2000 01:04&lt;00:00 Sampling chain 0, 0 divergences]\n",
       "    </div>\n",
       "    "
      ],
      "text/plain": [
       "<IPython.core.display.HTML object>"
      ]
     },
     "metadata": {},
     "output_type": "display_data"
    },
    {
     "name": "stderr",
     "output_type": "stream",
     "text": [
      "Sampling 1 chain for 1_000 tune and 1_000 draw iterations (1_000 + 1_000 draws total) took 65 seconds.\n",
      "Only one chain was sampled, this makes it impossible to run some convergence checks\n"
     ]
    },
    {
     "data": {
      "text/html": [
       "\n",
       "<style>\n",
       "    /* Turns off some styling */\n",
       "    progress {\n",
       "        /* gets rid of default border in Firefox and Opera. */\n",
       "        border: none;\n",
       "        /* Needs to be in here for Safari polyfill so background images work as expected. */\n",
       "        background-size: auto;\n",
       "    }\n",
       "    progress:not([value]), progress:not([value])::-webkit-progress-bar {\n",
       "        background: repeating-linear-gradient(45deg, #7e7e7e, #7e7e7e 10px, #5c5c5c 10px, #5c5c5c 20px);\n",
       "    }\n",
       "    .progress-bar-interrupted, .progress-bar-interrupted::-webkit-progress-bar {\n",
       "        background: #F44336;\n",
       "    }\n",
       "</style>\n"
      ],
      "text/plain": [
       "<IPython.core.display.HTML object>"
      ]
     },
     "metadata": {},
     "output_type": "display_data"
    },
    {
     "data": {
      "text/html": [
       "\n",
       "    <div>\n",
       "      <progress value='107' class='' max='107' style='width:300px; height:20px; vertical-align: middle;'></progress>\n",
       "      100.00% [107/107 00:00&lt;00:00 logp = 1,113.4, ||grad|| = 0.019468]\n",
       "    </div>\n",
       "    "
      ],
      "text/plain": [
       "<IPython.core.display.HTML object>"
      ]
     },
     "metadata": {},
     "output_type": "display_data"
    },
    {
     "name": "stdout",
     "output_type": "stream",
     "text": [
      "\n",
      "  Neuron with  1068 spikes\n"
     ]
    },
    {
     "name": "stderr",
     "output_type": "stream",
     "text": [
      "Sequential sampling (1 chains in 1 job)\n",
      "NUTS: [mu1, lam1, mu2, sigma2, mu3, sigma3, w]\n"
     ]
    },
    {
     "data": {
      "text/html": [
       "\n",
       "<style>\n",
       "    /* Turns off some styling */\n",
       "    progress {\n",
       "        /* gets rid of default border in Firefox and Opera. */\n",
       "        border: none;\n",
       "        /* Needs to be in here for Safari polyfill so background images work as expected. */\n",
       "        background-size: auto;\n",
       "    }\n",
       "    progress:not([value]), progress:not([value])::-webkit-progress-bar {\n",
       "        background: repeating-linear-gradient(45deg, #7e7e7e, #7e7e7e 10px, #5c5c5c 10px, #5c5c5c 20px);\n",
       "    }\n",
       "    .progress-bar-interrupted, .progress-bar-interrupted::-webkit-progress-bar {\n",
       "        background: #F44336;\n",
       "    }\n",
       "</style>\n"
      ],
      "text/plain": [
       "<IPython.core.display.HTML object>"
      ]
     },
     "metadata": {},
     "output_type": "display_data"
    },
    {
     "data": {
      "text/html": [
       "\n",
       "    <div>\n",
       "      <progress value='2000' class='' max='2000' style='width:300px; height:20px; vertical-align: middle;'></progress>\n",
       "      100.00% [2000/2000 01:04&lt;00:00 Sampling chain 0, 0 divergences]\n",
       "    </div>\n",
       "    "
      ],
      "text/plain": [
       "<IPython.core.display.HTML object>"
      ]
     },
     "metadata": {},
     "output_type": "display_data"
    },
    {
     "name": "stderr",
     "output_type": "stream",
     "text": [
      "Sampling 1 chain for 1_000 tune and 1_000 draw iterations (1_000 + 1_000 draws total) took 65 seconds.\n",
      "Only one chain was sampled, this makes it impossible to run some convergence checks\n"
     ]
    },
    {
     "data": {
      "text/html": [
       "\n",
       "<style>\n",
       "    /* Turns off some styling */\n",
       "    progress {\n",
       "        /* gets rid of default border in Firefox and Opera. */\n",
       "        border: none;\n",
       "        /* Needs to be in here for Safari polyfill so background images work as expected. */\n",
       "        background-size: auto;\n",
       "    }\n",
       "    progress:not([value]), progress:not([value])::-webkit-progress-bar {\n",
       "        background: repeating-linear-gradient(45deg, #7e7e7e, #7e7e7e 10px, #5c5c5c 10px, #5c5c5c 20px);\n",
       "    }\n",
       "    .progress-bar-interrupted, .progress-bar-interrupted::-webkit-progress-bar {\n",
       "        background: #F44336;\n",
       "    }\n",
       "</style>\n"
      ],
      "text/plain": [
       "<IPython.core.display.HTML object>"
      ]
     },
     "metadata": {},
     "output_type": "display_data"
    },
    {
     "data": {
      "text/html": [
       "\n",
       "    <div>\n",
       "      <progress value='52' class='' max='52' style='width:300px; height:20px; vertical-align: middle;'></progress>\n",
       "      100.00% [52/52 00:00&lt;00:00 logp = 728.16, ||grad|| = 0.003978]\n",
       "    </div>\n",
       "    "
      ],
      "text/plain": [
       "<IPython.core.display.HTML object>"
      ]
     },
     "metadata": {},
     "output_type": "display_data"
    },
    {
     "name": "stdout",
     "output_type": "stream",
     "text": [
      "\n",
      "  Neuron with  1089 spikes\n"
     ]
    },
    {
     "name": "stderr",
     "output_type": "stream",
     "text": [
      "Sequential sampling (1 chains in 1 job)\n",
      "NUTS: [mu1, lam1, mu2, sigma2, mu3, sigma3, w]\n"
     ]
    },
    {
     "data": {
      "text/html": [
       "\n",
       "<style>\n",
       "    /* Turns off some styling */\n",
       "    progress {\n",
       "        /* gets rid of default border in Firefox and Opera. */\n",
       "        border: none;\n",
       "        /* Needs to be in here for Safari polyfill so background images work as expected. */\n",
       "        background-size: auto;\n",
       "    }\n",
       "    progress:not([value]), progress:not([value])::-webkit-progress-bar {\n",
       "        background: repeating-linear-gradient(45deg, #7e7e7e, #7e7e7e 10px, #5c5c5c 10px, #5c5c5c 20px);\n",
       "    }\n",
       "    .progress-bar-interrupted, .progress-bar-interrupted::-webkit-progress-bar {\n",
       "        background: #F44336;\n",
       "    }\n",
       "</style>\n"
      ],
      "text/plain": [
       "<IPython.core.display.HTML object>"
      ]
     },
     "metadata": {},
     "output_type": "display_data"
    },
    {
     "data": {
      "text/html": [
       "\n",
       "    <div>\n",
       "      <progress value='2000' class='' max='2000' style='width:300px; height:20px; vertical-align: middle;'></progress>\n",
       "      100.00% [2000/2000 01:00&lt;00:00 Sampling chain 0, 0 divergences]\n",
       "    </div>\n",
       "    "
      ],
      "text/plain": [
       "<IPython.core.display.HTML object>"
      ]
     },
     "metadata": {},
     "output_type": "display_data"
    },
    {
     "name": "stderr",
     "output_type": "stream",
     "text": [
      "Sampling 1 chain for 1_000 tune and 1_000 draw iterations (1_000 + 1_000 draws total) took 60 seconds.\n",
      "Only one chain was sampled, this makes it impossible to run some convergence checks\n"
     ]
    },
    {
     "data": {
      "text/html": [
       "\n",
       "<style>\n",
       "    /* Turns off some styling */\n",
       "    progress {\n",
       "        /* gets rid of default border in Firefox and Opera. */\n",
       "        border: none;\n",
       "        /* Needs to be in here for Safari polyfill so background images work as expected. */\n",
       "        background-size: auto;\n",
       "    }\n",
       "    progress:not([value]), progress:not([value])::-webkit-progress-bar {\n",
       "        background: repeating-linear-gradient(45deg, #7e7e7e, #7e7e7e 10px, #5c5c5c 10px, #5c5c5c 20px);\n",
       "    }\n",
       "    .progress-bar-interrupted, .progress-bar-interrupted::-webkit-progress-bar {\n",
       "        background: #F44336;\n",
       "    }\n",
       "</style>\n"
      ],
      "text/plain": [
       "<IPython.core.display.HTML object>"
      ]
     },
     "metadata": {},
     "output_type": "display_data"
    },
    {
     "data": {
      "text/html": [
       "\n",
       "    <div>\n",
       "      <progress value='46' class='' max='46' style='width:300px; height:20px; vertical-align: middle;'></progress>\n",
       "      100.00% [46/46 00:00&lt;00:00 logp = 765.18, ||grad|| = 0.035135]\n",
       "    </div>\n",
       "    "
      ],
      "text/plain": [
       "<IPython.core.display.HTML object>"
      ]
     },
     "metadata": {},
     "output_type": "display_data"
    },
    {
     "name": "stdout",
     "output_type": "stream",
     "text": [
      "\n",
      "  Neuron with  1578 spikes\n"
     ]
    },
    {
     "name": "stderr",
     "output_type": "stream",
     "text": [
      "Sequential sampling (1 chains in 1 job)\n",
      "NUTS: [mu1, lam1, mu2, sigma2, mu3, sigma3, w]\n"
     ]
    },
    {
     "data": {
      "text/html": [
       "\n",
       "<style>\n",
       "    /* Turns off some styling */\n",
       "    progress {\n",
       "        /* gets rid of default border in Firefox and Opera. */\n",
       "        border: none;\n",
       "        /* Needs to be in here for Safari polyfill so background images work as expected. */\n",
       "        background-size: auto;\n",
       "    }\n",
       "    progress:not([value]), progress:not([value])::-webkit-progress-bar {\n",
       "        background: repeating-linear-gradient(45deg, #7e7e7e, #7e7e7e 10px, #5c5c5c 10px, #5c5c5c 20px);\n",
       "    }\n",
       "    .progress-bar-interrupted, .progress-bar-interrupted::-webkit-progress-bar {\n",
       "        background: #F44336;\n",
       "    }\n",
       "</style>\n"
      ],
      "text/plain": [
       "<IPython.core.display.HTML object>"
      ]
     },
     "metadata": {},
     "output_type": "display_data"
    },
    {
     "data": {
      "text/html": [
       "\n",
       "    <div>\n",
       "      <progress value='2000' class='' max='2000' style='width:300px; height:20px; vertical-align: middle;'></progress>\n",
       "      100.00% [2000/2000 01:13&lt;00:00 Sampling chain 0, 0 divergences]\n",
       "    </div>\n",
       "    "
      ],
      "text/plain": [
       "<IPython.core.display.HTML object>"
      ]
     },
     "metadata": {},
     "output_type": "display_data"
    },
    {
     "name": "stderr",
     "output_type": "stream",
     "text": [
      "Sampling 1 chain for 1_000 tune and 1_000 draw iterations (1_000 + 1_000 draws total) took 73 seconds.\n",
      "Only one chain was sampled, this makes it impossible to run some convergence checks\n"
     ]
    },
    {
     "data": {
      "text/html": [
       "\n",
       "<style>\n",
       "    /* Turns off some styling */\n",
       "    progress {\n",
       "        /* gets rid of default border in Firefox and Opera. */\n",
       "        border: none;\n",
       "        /* Needs to be in here for Safari polyfill so background images work as expected. */\n",
       "        background-size: auto;\n",
       "    }\n",
       "    progress:not([value]), progress:not([value])::-webkit-progress-bar {\n",
       "        background: repeating-linear-gradient(45deg, #7e7e7e, #7e7e7e 10px, #5c5c5c 10px, #5c5c5c 20px);\n",
       "    }\n",
       "    .progress-bar-interrupted, .progress-bar-interrupted::-webkit-progress-bar {\n",
       "        background: #F44336;\n",
       "    }\n",
       "</style>\n"
      ],
      "text/plain": [
       "<IPython.core.display.HTML object>"
      ]
     },
     "metadata": {},
     "output_type": "display_data"
    },
    {
     "data": {
      "text/html": [
       "\n",
       "    <div>\n",
       "      <progress value='77' class='' max='77' style='width:300px; height:20px; vertical-align: middle;'></progress>\n",
       "      100.00% [77/77 00:00&lt;00:00 logp = 1,695.9, ||grad|| = 0.041229]\n",
       "    </div>\n",
       "    "
      ],
      "text/plain": [
       "<IPython.core.display.HTML object>"
      ]
     },
     "metadata": {},
     "output_type": "display_data"
    },
    {
     "name": "stdout",
     "output_type": "stream",
     "text": [
      "\n",
      "  Neuron with  804 spikes\n"
     ]
    },
    {
     "name": "stderr",
     "output_type": "stream",
     "text": [
      "Sequential sampling (1 chains in 1 job)\n",
      "NUTS: [mu1, lam1, mu2, sigma2, mu3, sigma3, w]\n"
     ]
    },
    {
     "data": {
      "text/html": [
       "\n",
       "<style>\n",
       "    /* Turns off some styling */\n",
       "    progress {\n",
       "        /* gets rid of default border in Firefox and Opera. */\n",
       "        border: none;\n",
       "        /* Needs to be in here for Safari polyfill so background images work as expected. */\n",
       "        background-size: auto;\n",
       "    }\n",
       "    progress:not([value]), progress:not([value])::-webkit-progress-bar {\n",
       "        background: repeating-linear-gradient(45deg, #7e7e7e, #7e7e7e 10px, #5c5c5c 10px, #5c5c5c 20px);\n",
       "    }\n",
       "    .progress-bar-interrupted, .progress-bar-interrupted::-webkit-progress-bar {\n",
       "        background: #F44336;\n",
       "    }\n",
       "</style>\n"
      ],
      "text/plain": [
       "<IPython.core.display.HTML object>"
      ]
     },
     "metadata": {},
     "output_type": "display_data"
    },
    {
     "data": {
      "text/html": [
       "\n",
       "    <div>\n",
       "      <progress value='2000' class='' max='2000' style='width:300px; height:20px; vertical-align: middle;'></progress>\n",
       "      100.00% [2000/2000 01:11&lt;00:00 Sampling chain 0, 0 divergences]\n",
       "    </div>\n",
       "    "
      ],
      "text/plain": [
       "<IPython.core.display.HTML object>"
      ]
     },
     "metadata": {},
     "output_type": "display_data"
    },
    {
     "name": "stderr",
     "output_type": "stream",
     "text": [
      "Sampling 1 chain for 1_000 tune and 1_000 draw iterations (1_000 + 1_000 draws total) took 72 seconds.\n",
      "Only one chain was sampled, this makes it impossible to run some convergence checks\n"
     ]
    },
    {
     "data": {
      "text/html": [
       "\n",
       "<style>\n",
       "    /* Turns off some styling */\n",
       "    progress {\n",
       "        /* gets rid of default border in Firefox and Opera. */\n",
       "        border: none;\n",
       "        /* Needs to be in here for Safari polyfill so background images work as expected. */\n",
       "        background-size: auto;\n",
       "    }\n",
       "    progress:not([value]), progress:not([value])::-webkit-progress-bar {\n",
       "        background: repeating-linear-gradient(45deg, #7e7e7e, #7e7e7e 10px, #5c5c5c 10px, #5c5c5c 20px);\n",
       "    }\n",
       "    .progress-bar-interrupted, .progress-bar-interrupted::-webkit-progress-bar {\n",
       "        background: #F44336;\n",
       "    }\n",
       "</style>\n"
      ],
      "text/plain": [
       "<IPython.core.display.HTML object>"
      ]
     },
     "metadata": {},
     "output_type": "display_data"
    },
    {
     "data": {
      "text/html": [
       "\n",
       "    <div>\n",
       "      <progress value='64' class='' max='64' style='width:300px; height:20px; vertical-align: middle;'></progress>\n",
       "      100.00% [64/64 00:00&lt;00:00 logp = 322.62, ||grad|| = 0.014371]\n",
       "    </div>\n",
       "    "
      ],
      "text/plain": [
       "<IPython.core.display.HTML object>"
      ]
     },
     "metadata": {},
     "output_type": "display_data"
    },
    {
     "name": "stdout",
     "output_type": "stream",
     "text": [
      "\n",
      "  Neuron with  405 spikes\n",
      "    Excluded neuron with n spikes =  405\n",
      "  Neuron with  310 spikes\n",
      "    Excluded neuron with n spikes =  310\n",
      "  Neuron with  266 spikes\n",
      "    Excluded neuron with n spikes =  266\n",
      "  Neuron with  346 spikes\n",
      "    Excluded neuron with n spikes =  346\n",
      "  Neuron with  321 spikes\n",
      "    Excluded neuron with n spikes =  321\n",
      "  Neuron with  336 spikes\n",
      "    Excluded neuron with n spikes =  336\n",
      "  Neuron with  227 spikes\n",
      "    Excluded neuron with n spikes =  227\n",
      "  Neuron with  231 spikes\n",
      "    Excluded neuron with n spikes =  231\n",
      "  Neuron with  254 spikes\n",
      "    Excluded neuron with n spikes =  254\n",
      "  Neuron with  402 spikes\n",
      "    Excluded neuron with n spikes =  402\n",
      "  Neuron with  270 spikes\n",
      "    Excluded neuron with n spikes =  270\n",
      "  Neuron with  405 spikes\n",
      "    Excluded neuron with n spikes =  405\n",
      "  Neuron with  310 spikes\n",
      "    Excluded neuron with n spikes =  310\n",
      "  Neuron with  266 spikes\n",
      "    Excluded neuron with n spikes =  266\n",
      "  Neuron with  346 spikes\n",
      "    Excluded neuron with n spikes =  346\n",
      "  Neuron with  321 spikes\n",
      "    Excluded neuron with n spikes =  321\n",
      "  Neuron with  336 spikes\n",
      "    Excluded neuron with n spikes =  336\n",
      "  Neuron with  227 spikes\n",
      "    Excluded neuron with n spikes =  227\n",
      "  Neuron with  231 spikes\n",
      "    Excluded neuron with n spikes =  231\n",
      "  Neuron with  254 spikes\n",
      "    Excluded neuron with n spikes =  254\n",
      "  Neuron with  402 spikes\n",
      "    Excluded neuron with n spikes =  402\n",
      "  Neuron with  270 spikes\n",
      "    Excluded neuron with n spikes =  270\n",
      "  Neuron with  405 spikes\n",
      "    Excluded neuron with n spikes =  405\n",
      "  Neuron with  310 spikes\n",
      "    Excluded neuron with n spikes =  310\n",
      "  Neuron with  266 spikes\n",
      "    Excluded neuron with n spikes =  266\n",
      "  Neuron with  346 spikes\n",
      "    Excluded neuron with n spikes =  346\n",
      "  Neuron with  321 spikes\n",
      "    Excluded neuron with n spikes =  321\n",
      "  Neuron with  336 spikes\n",
      "    Excluded neuron with n spikes =  336\n",
      "  Neuron with  227 spikes\n",
      "    Excluded neuron with n spikes =  227\n",
      "  Neuron with  231 spikes\n",
      "    Excluded neuron with n spikes =  231\n",
      "  Neuron with  254 spikes\n",
      "    Excluded neuron with n spikes =  254\n",
      "  Neuron with  402 spikes\n",
      "    Excluded neuron with n spikes =  402\n",
      "  Neuron with  270 spikes\n",
      "    Excluded neuron with n spikes =  270\n",
      "  Neuron with  405 spikes\n",
      "    Excluded neuron with n spikes =  405\n",
      "  Neuron with  310 spikes\n",
      "    Excluded neuron with n spikes =  310\n",
      "  Neuron with  266 spikes\n",
      "    Excluded neuron with n spikes =  266\n",
      "  Neuron with  346 spikes\n",
      "    Excluded neuron with n spikes =  346\n",
      "  Neuron with  321 spikes\n",
      "    Excluded neuron with n spikes =  321\n",
      "  Neuron with  336 spikes\n",
      "    Excluded neuron with n spikes =  336\n",
      "  Neuron with  227 spikes\n",
      "    Excluded neuron with n spikes =  227\n",
      "  Neuron with  231 spikes\n",
      "    Excluded neuron with n spikes =  231\n",
      "  Neuron with  254 spikes\n",
      "    Excluded neuron with n spikes =  254\n",
      "  Neuron with  402 spikes\n",
      "    Excluded neuron with n spikes =  402\n",
      "  Neuron with  270 spikes\n",
      "    Excluded neuron with n spikes =  270\n",
      "  Neuron with  405 spikes\n",
      "    Excluded neuron with n spikes =  405\n",
      "  Neuron with  310 spikes\n",
      "    Excluded neuron with n spikes =  310\n",
      "  Neuron with  266 spikes\n",
      "    Excluded neuron with n spikes =  266\n",
      "  Neuron with  346 spikes\n",
      "    Excluded neuron with n spikes =  346\n",
      "  Neuron with  321 spikes\n",
      "    Excluded neuron with n spikes =  321\n",
      "  Neuron with  336 spikes\n",
      "    Excluded neuron with n spikes =  336\n",
      "  Neuron with  227 spikes\n",
      "    Excluded neuron with n spikes =  227\n",
      "  Neuron with  231 spikes\n",
      "    Excluded neuron with n spikes =  231\n",
      "  Neuron with  254 spikes\n",
      "    Excluded neuron with n spikes =  254\n",
      "  Neuron with  402 spikes\n",
      "    Excluded neuron with n spikes =  402\n",
      "  Neuron with  270 spikes\n",
      "    Excluded neuron with n spikes =  270\n",
      "  Neuron with  405 spikes\n",
      "    Excluded neuron with n spikes =  405\n",
      "  Neuron with  310 spikes\n",
      "    Excluded neuron with n spikes =  310\n",
      "  Neuron with  266 spikes\n",
      "    Excluded neuron with n spikes =  266\n",
      "  Neuron with  346 spikes\n",
      "    Excluded neuron with n spikes =  346\n",
      "  Neuron with  321 spikes\n",
      "    Excluded neuron with n spikes =  321\n",
      "  Neuron with  336 spikes\n",
      "    Excluded neuron with n spikes =  336\n",
      "  Neuron with  227 spikes\n",
      "    Excluded neuron with n spikes =  227\n",
      "  Neuron with  231 spikes\n",
      "    Excluded neuron with n spikes =  231\n",
      "  Neuron with  254 spikes\n",
      "    Excluded neuron with n spikes =  254\n",
      "  Neuron with  402 spikes\n",
      "    Excluded neuron with n spikes =  402\n",
      "  Neuron with  270 spikes\n",
      "    Excluded neuron with n spikes =  270\n",
      "  Neuron with  405 spikes\n",
      "    Excluded neuron with n spikes =  405\n",
      "  Neuron with  310 spikes\n",
      "    Excluded neuron with n spikes =  310\n",
      "  Neuron with  266 spikes\n",
      "    Excluded neuron with n spikes =  266\n",
      "  Neuron with  346 spikes\n",
      "    Excluded neuron with n spikes =  346\n",
      "  Neuron with  321 spikes\n",
      "    Excluded neuron with n spikes =  321\n",
      "  Neuron with  336 spikes\n",
      "    Excluded neuron with n spikes =  336\n",
      "  Neuron with  227 spikes\n",
      "    Excluded neuron with n spikes =  227\n",
      "  Neuron with  231 spikes\n",
      "    Excluded neuron with n spikes =  231\n",
      "  Neuron with  254 spikes\n",
      "    Excluded neuron with n spikes =  254\n",
      "  Neuron with  402 spikes\n",
      "    Excluded neuron with n spikes =  402\n",
      "  Neuron with  270 spikes\n",
      "    Excluded neuron with n spikes =  270\n",
      "Final number of neurons:  6\n",
      "Target =  0\n",
      "4 )  Data after SS/After2018-11-27T10-29-42POP 2 BL .h5.txt.txt\n",
      "Original number of neurons:  94\n",
      "  Neuron with  474 spikes\n",
      "    Excluded neuron with n spikes =  474\n",
      "  Neuron with  534 spikes\n",
      "    Excluded neuron with n spikes =  534\n",
      "  Neuron with  571 spikes\n",
      "    Excluded neuron with n spikes =  571\n",
      "  Neuron with  650 spikes\n",
      "    Excluded neuron with n spikes =  650\n",
      "  Neuron with  464 spikes\n",
      "    Excluded neuron with n spikes =  464\n",
      "  Neuron with  438 spikes\n",
      "    Excluded neuron with n spikes =  438\n",
      "  Neuron with  379 spikes\n",
      "    Excluded neuron with n spikes =  379\n",
      "  Neuron with  435 spikes\n",
      "    Excluded neuron with n spikes =  435\n",
      "  Neuron with  400 spikes\n",
      "    Excluded neuron with n spikes =  400\n",
      "  Neuron with  341 spikes\n",
      "    Excluded neuron with n spikes =  341\n",
      "  Neuron with  303 spikes\n",
      "    Excluded neuron with n spikes =  303\n",
      "  Neuron with  372 spikes\n",
      "    Excluded neuron with n spikes =  372\n",
      "  Neuron with  343 spikes\n",
      "    Excluded neuron with n spikes =  343\n",
      "  Neuron with  410 spikes\n",
      "    Excluded neuron with n spikes =  410\n",
      "  Neuron with  344 spikes\n",
      "    Excluded neuron with n spikes =  344\n",
      "  Neuron with  485 spikes\n",
      "    Excluded neuron with n spikes =  485\n",
      "  Neuron with  466 spikes\n",
      "    Excluded neuron with n spikes =  466\n",
      "  Neuron with  416 spikes\n",
      "    Excluded neuron with n spikes =  416\n",
      "  Neuron with  354 spikes\n",
      "    Excluded neuron with n spikes =  354\n",
      "  Neuron with  389 spikes\n",
      "    Excluded neuron with n spikes =  389\n",
      "  Neuron with  222 spikes\n",
      "    Excluded neuron with n spikes =  222\n",
      "  Neuron with  239 spikes\n",
      "    Excluded neuron with n spikes =  239\n",
      "  Neuron with  264 spikes\n",
      "    Excluded neuron with n spikes =  264\n",
      "  Neuron with  314 spikes\n",
      "    Excluded neuron with n spikes =  314\n",
      "  Neuron with  340 spikes\n",
      "    Excluded neuron with n spikes =  340\n",
      "  Neuron with  399 spikes\n",
      "    Excluded neuron with n spikes =  399\n",
      "  Neuron with  284 spikes\n",
      "    Excluded neuron with n spikes =  284\n",
      "  Neuron with  338 spikes\n",
      "    Excluded neuron with n spikes =  338\n",
      "  Neuron with  287 spikes\n",
      "    Excluded neuron with n spikes =  287\n",
      "  Neuron with  249 spikes\n",
      "    Excluded neuron with n spikes =  249\n",
      "  Neuron with  430 spikes\n",
      "    Excluded neuron with n spikes =  430\n",
      "  Neuron with  315 spikes\n",
      "    Excluded neuron with n spikes =  315\n",
      "  Neuron with  460 spikes\n",
      "    Excluded neuron with n spikes =  460\n",
      "  Neuron with  434 spikes\n",
      "    Excluded neuron with n spikes =  434\n",
      "  Neuron with  415 spikes\n",
      "    Excluded neuron with n spikes =  415\n",
      "  Neuron with  414 spikes\n",
      "    Excluded neuron with n spikes =  414\n",
      "  Neuron with  509 spikes\n",
      "    Excluded neuron with n spikes =  509\n",
      "  Neuron with  465 spikes\n",
      "    Excluded neuron with n spikes =  465\n",
      "  Neuron with  364 spikes\n",
      "    Excluded neuron with n spikes =  364\n",
      "  Neuron with  356 spikes\n",
      "    Excluded neuron with n spikes =  356\n",
      "  Neuron with  389 spikes\n",
      "    Excluded neuron with n spikes =  389\n",
      "  Neuron with  329 spikes\n",
      "    Excluded neuron with n spikes =  329\n",
      "  Neuron with  338 spikes\n",
      "    Excluded neuron with n spikes =  338\n",
      "  Neuron with  335 spikes\n",
      "    Excluded neuron with n spikes =  335\n",
      "  Neuron with  355 spikes\n",
      "    Excluded neuron with n spikes =  355\n",
      "  Neuron with  377 spikes\n",
      "    Excluded neuron with n spikes =  377\n",
      "  Neuron with  364 spikes\n",
      "    Excluded neuron with n spikes =  364\n",
      "  Neuron with  356 spikes\n",
      "    Excluded neuron with n spikes =  356\n",
      "  Neuron with  389 spikes\n",
      "    Excluded neuron with n spikes =  389\n",
      "  Neuron with  329 spikes\n",
      "    Excluded neuron with n spikes =  329\n",
      "  Neuron with  338 spikes\n",
      "    Excluded neuron with n spikes =  338\n",
      "  Neuron with  335 spikes\n",
      "    Excluded neuron with n spikes =  335\n",
      "  Neuron with  355 spikes\n",
      "    Excluded neuron with n spikes =  355\n",
      "  Neuron with  377 spikes\n",
      "    Excluded neuron with n spikes =  377\n",
      "  Neuron with  364 spikes\n",
      "    Excluded neuron with n spikes =  364\n",
      "  Neuron with  356 spikes\n",
      "    Excluded neuron with n spikes =  356\n",
      "  Neuron with  389 spikes\n",
      "    Excluded neuron with n spikes =  389\n",
      "  Neuron with  329 spikes\n",
      "    Excluded neuron with n spikes =  329\n",
      "  Neuron with  338 spikes\n",
      "    Excluded neuron with n spikes =  338\n",
      "  Neuron with  335 spikes\n",
      "    Excluded neuron with n spikes =  335\n",
      "  Neuron with  355 spikes\n",
      "    Excluded neuron with n spikes =  355\n",
      "  Neuron with  377 spikes\n",
      "    Excluded neuron with n spikes =  377\n",
      "  Neuron with  364 spikes\n",
      "    Excluded neuron with n spikes =  364\n",
      "  Neuron with  356 spikes\n",
      "    Excluded neuron with n spikes =  356\n",
      "  Neuron with  389 spikes\n",
      "    Excluded neuron with n spikes =  389\n",
      "  Neuron with  329 spikes\n",
      "    Excluded neuron with n spikes =  329\n",
      "  Neuron with  338 spikes\n",
      "    Excluded neuron with n spikes =  338\n",
      "  Neuron with  335 spikes\n",
      "    Excluded neuron with n spikes =  335\n",
      "  Neuron with  355 spikes\n",
      "    Excluded neuron with n spikes =  355\n",
      "  Neuron with  377 spikes\n",
      "    Excluded neuron with n spikes =  377\n",
      "  Neuron with  364 spikes\n",
      "    Excluded neuron with n spikes =  364\n",
      "  Neuron with  356 spikes\n",
      "    Excluded neuron with n spikes =  356\n",
      "  Neuron with  389 spikes\n",
      "    Excluded neuron with n spikes =  389\n",
      "  Neuron with  329 spikes\n",
      "    Excluded neuron with n spikes =  329\n",
      "  Neuron with  338 spikes\n",
      "    Excluded neuron with n spikes =  338\n",
      "  Neuron with  335 spikes\n",
      "    Excluded neuron with n spikes =  335\n",
      "  Neuron with  355 spikes\n",
      "    Excluded neuron with n spikes =  355\n",
      "  Neuron with  377 spikes\n",
      "    Excluded neuron with n spikes =  377\n",
      "  Neuron with  364 spikes\n",
      "    Excluded neuron with n spikes =  364\n",
      "  Neuron with  356 spikes\n",
      "    Excluded neuron with n spikes =  356\n",
      "  Neuron with  389 spikes\n",
      "    Excluded neuron with n spikes =  389\n",
      "  Neuron with  329 spikes\n",
      "    Excluded neuron with n spikes =  329\n",
      "  Neuron with  338 spikes\n",
      "    Excluded neuron with n spikes =  338\n",
      "  Neuron with  335 spikes\n",
      "    Excluded neuron with n spikes =  335\n",
      "  Neuron with  355 spikes\n",
      "    Excluded neuron with n spikes =  355\n",
      "  Neuron with  377 spikes\n",
      "    Excluded neuron with n spikes =  377\n",
      "  Neuron with  364 spikes\n",
      "    Excluded neuron with n spikes =  364\n",
      "  Neuron with  356 spikes\n",
      "    Excluded neuron with n spikes =  356\n",
      "  Neuron with  389 spikes\n",
      "    Excluded neuron with n spikes =  389\n",
      "  Neuron with  329 spikes\n",
      "    Excluded neuron with n spikes =  329\n",
      "  Neuron with  338 spikes\n",
      "    Excluded neuron with n spikes =  338\n",
      "  Neuron with  335 spikes\n",
      "    Excluded neuron with n spikes =  335\n",
      "  Neuron with  355 spikes\n",
      "    Excluded neuron with n spikes =  355\n",
      "  Neuron with  377 spikes\n",
      "    Excluded neuron with n spikes =  377\n",
      "Final number of neurons:  0\n",
      "Target =  0\n",
      "5 )  Data after SS/After2019-01-23T11-05-52MIP3 health cortical .h5.txt.txt\n"
     ]
    },
    {
     "name": "stdout",
     "output_type": "stream",
     "text": [
      "Original number of neurons:  91\n",
      "  Neuron with  641 spikes\n",
      "    Excluded neuron with n spikes =  641\n",
      "  Neuron with  1135 spikes\n"
     ]
    },
    {
     "name": "stderr",
     "output_type": "stream",
     "text": [
      "Sequential sampling (1 chains in 1 job)\n",
      "NUTS: [mu1, lam1, mu2, sigma2, mu3, sigma3, w]\n"
     ]
    },
    {
     "data": {
      "text/html": [
       "\n",
       "<style>\n",
       "    /* Turns off some styling */\n",
       "    progress {\n",
       "        /* gets rid of default border in Firefox and Opera. */\n",
       "        border: none;\n",
       "        /* Needs to be in here for Safari polyfill so background images work as expected. */\n",
       "        background-size: auto;\n",
       "    }\n",
       "    progress:not([value]), progress:not([value])::-webkit-progress-bar {\n",
       "        background: repeating-linear-gradient(45deg, #7e7e7e, #7e7e7e 10px, #5c5c5c 10px, #5c5c5c 20px);\n",
       "    }\n",
       "    .progress-bar-interrupted, .progress-bar-interrupted::-webkit-progress-bar {\n",
       "        background: #F44336;\n",
       "    }\n",
       "</style>\n"
      ],
      "text/plain": [
       "<IPython.core.display.HTML object>"
      ]
     },
     "metadata": {},
     "output_type": "display_data"
    },
    {
     "data": {
      "text/html": [
       "\n",
       "    <div>\n",
       "      <progress value='2000' class='' max='2000' style='width:300px; height:20px; vertical-align: middle;'></progress>\n",
       "      100.00% [2000/2000 00:56&lt;00:00 Sampling chain 0, 0 divergences]\n",
       "    </div>\n",
       "    "
      ],
      "text/plain": [
       "<IPython.core.display.HTML object>"
      ]
     },
     "metadata": {},
     "output_type": "display_data"
    },
    {
     "name": "stderr",
     "output_type": "stream",
     "text": [
      "Sampling 1 chain for 1_000 tune and 1_000 draw iterations (1_000 + 1_000 draws total) took 57 seconds.\n",
      "Only one chain was sampled, this makes it impossible to run some convergence checks\n"
     ]
    },
    {
     "data": {
      "text/html": [
       "\n",
       "<style>\n",
       "    /* Turns off some styling */\n",
       "    progress {\n",
       "        /* gets rid of default border in Firefox and Opera. */\n",
       "        border: none;\n",
       "        /* Needs to be in here for Safari polyfill so background images work as expected. */\n",
       "        background-size: auto;\n",
       "    }\n",
       "    progress:not([value]), progress:not([value])::-webkit-progress-bar {\n",
       "        background: repeating-linear-gradient(45deg, #7e7e7e, #7e7e7e 10px, #5c5c5c 10px, #5c5c5c 20px);\n",
       "    }\n",
       "    .progress-bar-interrupted, .progress-bar-interrupted::-webkit-progress-bar {\n",
       "        background: #F44336;\n",
       "    }\n",
       "</style>\n"
      ],
      "text/plain": [
       "<IPython.core.display.HTML object>"
      ]
     },
     "metadata": {},
     "output_type": "display_data"
    },
    {
     "data": {
      "text/html": [
       "\n",
       "    <div>\n",
       "      <progress value='68' class='' max='68' style='width:300px; height:20px; vertical-align: middle;'></progress>\n",
       "      100.00% [68/68 00:00&lt;00:00 logp = 848.34, ||grad|| = 0.02335]\n",
       "    </div>\n",
       "    "
      ],
      "text/plain": [
       "<IPython.core.display.HTML object>"
      ]
     },
     "metadata": {},
     "output_type": "display_data"
    },
    {
     "name": "stdout",
     "output_type": "stream",
     "text": [
      "\n",
      "target health\n",
      "  Neuron with  332 spikes\n",
      "    Excluded neuron with n spikes =  332\n",
      "  Neuron with  515 spikes\n",
      "    Excluded neuron with n spikes =  515\n",
      "  Neuron with  321 spikes\n",
      "    Excluded neuron with n spikes =  321\n",
      "  Neuron with  622 spikes\n",
      "    Excluded neuron with n spikes =  622\n",
      "  Neuron with  299 spikes\n",
      "    Excluded neuron with n spikes =  299\n",
      "  Neuron with  325 spikes\n",
      "    Excluded neuron with n spikes =  325\n",
      "  Neuron with  567 spikes\n",
      "    Excluded neuron with n spikes =  567\n",
      "  Neuron with  413 spikes\n",
      "    Excluded neuron with n spikes =  413\n",
      "  Neuron with  468 spikes\n",
      "    Excluded neuron with n spikes =  468\n",
      "  Neuron with  327 spikes\n",
      "    Excluded neuron with n spikes =  327\n",
      "  Neuron with  803 spikes\n"
     ]
    },
    {
     "name": "stderr",
     "output_type": "stream",
     "text": [
      "Sequential sampling (1 chains in 1 job)\n",
      "NUTS: [mu1, lam1, mu2, sigma2, mu3, sigma3, w]\n"
     ]
    },
    {
     "data": {
      "text/html": [
       "\n",
       "<style>\n",
       "    /* Turns off some styling */\n",
       "    progress {\n",
       "        /* gets rid of default border in Firefox and Opera. */\n",
       "        border: none;\n",
       "        /* Needs to be in here for Safari polyfill so background images work as expected. */\n",
       "        background-size: auto;\n",
       "    }\n",
       "    progress:not([value]), progress:not([value])::-webkit-progress-bar {\n",
       "        background: repeating-linear-gradient(45deg, #7e7e7e, #7e7e7e 10px, #5c5c5c 10px, #5c5c5c 20px);\n",
       "    }\n",
       "    .progress-bar-interrupted, .progress-bar-interrupted::-webkit-progress-bar {\n",
       "        background: #F44336;\n",
       "    }\n",
       "</style>\n"
      ],
      "text/plain": [
       "<IPython.core.display.HTML object>"
      ]
     },
     "metadata": {},
     "output_type": "display_data"
    },
    {
     "data": {
      "text/html": [
       "\n",
       "    <div>\n",
       "      <progress value='2000' class='' max='2000' style='width:300px; height:20px; vertical-align: middle;'></progress>\n",
       "      100.00% [2000/2000 01:12&lt;00:00 Sampling chain 0, 0 divergences]\n",
       "    </div>\n",
       "    "
      ],
      "text/plain": [
       "<IPython.core.display.HTML object>"
      ]
     },
     "metadata": {},
     "output_type": "display_data"
    },
    {
     "name": "stderr",
     "output_type": "stream",
     "text": [
      "Sampling 1 chain for 1_000 tune and 1_000 draw iterations (1_000 + 1_000 draws total) took 73 seconds.\n",
      "Only one chain was sampled, this makes it impossible to run some convergence checks\n"
     ]
    },
    {
     "data": {
      "text/html": [
       "\n",
       "<style>\n",
       "    /* Turns off some styling */\n",
       "    progress {\n",
       "        /* gets rid of default border in Firefox and Opera. */\n",
       "        border: none;\n",
       "        /* Needs to be in here for Safari polyfill so background images work as expected. */\n",
       "        background-size: auto;\n",
       "    }\n",
       "    progress:not([value]), progress:not([value])::-webkit-progress-bar {\n",
       "        background: repeating-linear-gradient(45deg, #7e7e7e, #7e7e7e 10px, #5c5c5c 10px, #5c5c5c 20px);\n",
       "    }\n",
       "    .progress-bar-interrupted, .progress-bar-interrupted::-webkit-progress-bar {\n",
       "        background: #F44336;\n",
       "    }\n",
       "</style>\n"
      ],
      "text/plain": [
       "<IPython.core.display.HTML object>"
      ]
     },
     "metadata": {},
     "output_type": "display_data"
    },
    {
     "data": {
      "text/html": [
       "\n",
       "    <div>\n",
       "      <progress value='54' class='' max='54' style='width:300px; height:20px; vertical-align: middle;'></progress>\n",
       "      100.00% [54/54 00:00&lt;00:00 logp = 317.58, ||grad|| = 0.0056141]\n",
       "    </div>\n",
       "    "
      ],
      "text/plain": [
       "<IPython.core.display.HTML object>"
      ]
     },
     "metadata": {},
     "output_type": "display_data"
    },
    {
     "name": "stdout",
     "output_type": "stream",
     "text": [
      "\n",
      "target health\n",
      "  Neuron with  332 spikes\n",
      "    Excluded neuron with n spikes =  332\n",
      "  Neuron with  526 spikes\n",
      "    Excluded neuron with n spikes =  526\n",
      "  Neuron with  510 spikes\n",
      "    Excluded neuron with n spikes =  510\n",
      "  Neuron with  730 spikes\n",
      "    Excluded neuron with n spikes =  730\n",
      "  Neuron with  337 spikes\n",
      "    Excluded neuron with n spikes =  337\n",
      "  Neuron with  445 spikes\n",
      "    Excluded neuron with n spikes =  445\n",
      "  Neuron with  577 spikes\n",
      "    Excluded neuron with n spikes =  577\n",
      "  Neuron with  467 spikes\n",
      "    Excluded neuron with n spikes =  467\n",
      "  Neuron with  383 spikes\n",
      "    Excluded neuron with n spikes =  383\n",
      "  Neuron with  643 spikes\n",
      "    Excluded neuron with n spikes =  643\n",
      "  Neuron with  337 spikes\n",
      "    Excluded neuron with n spikes =  337\n",
      "  Neuron with  392 spikes\n",
      "    Excluded neuron with n spikes =  392\n",
      "  Neuron with  458 spikes\n",
      "    Excluded neuron with n spikes =  458\n",
      "  Neuron with  575 spikes\n",
      "    Excluded neuron with n spikes =  575\n",
      "  Neuron with  399 spikes\n",
      "    Excluded neuron with n spikes =  399\n",
      "  Neuron with  317 spikes\n",
      "    Excluded neuron with n spikes =  317\n",
      "  Neuron with  749 spikes\n",
      "    Excluded neuron with n spikes =  749\n",
      "  Neuron with  509 spikes\n",
      "    Excluded neuron with n spikes =  509\n",
      "  Neuron with  352 spikes\n",
      "    Excluded neuron with n spikes =  352\n",
      "  Neuron with  344 spikes\n",
      "    Excluded neuron with n spikes =  344\n",
      "  Neuron with  641 spikes\n",
      "    Excluded neuron with n spikes =  641\n",
      "  Neuron with  418 spikes\n",
      "    Excluded neuron with n spikes =  418\n",
      "  Neuron with  518 spikes\n",
      "    Excluded neuron with n spikes =  518\n",
      "  Neuron with  375 spikes\n",
      "    Excluded neuron with n spikes =  375\n",
      "  Neuron with  278 spikes\n",
      "    Excluded neuron with n spikes =  278\n",
      "  Neuron with  578 spikes\n",
      "    Excluded neuron with n spikes =  578\n",
      "  Neuron with  290 spikes\n",
      "    Excluded neuron with n spikes =  290\n",
      "  Neuron with  887 spikes\n"
     ]
    },
    {
     "name": "stderr",
     "output_type": "stream",
     "text": [
      "Sequential sampling (1 chains in 1 job)\n",
      "NUTS: [mu1, lam1, mu2, sigma2, mu3, sigma3, w]\n"
     ]
    },
    {
     "data": {
      "text/html": [
       "\n",
       "<style>\n",
       "    /* Turns off some styling */\n",
       "    progress {\n",
       "        /* gets rid of default border in Firefox and Opera. */\n",
       "        border: none;\n",
       "        /* Needs to be in here for Safari polyfill so background images work as expected. */\n",
       "        background-size: auto;\n",
       "    }\n",
       "    progress:not([value]), progress:not([value])::-webkit-progress-bar {\n",
       "        background: repeating-linear-gradient(45deg, #7e7e7e, #7e7e7e 10px, #5c5c5c 10px, #5c5c5c 20px);\n",
       "    }\n",
       "    .progress-bar-interrupted, .progress-bar-interrupted::-webkit-progress-bar {\n",
       "        background: #F44336;\n",
       "    }\n",
       "</style>\n"
      ],
      "text/plain": [
       "<IPython.core.display.HTML object>"
      ]
     },
     "metadata": {},
     "output_type": "display_data"
    },
    {
     "data": {
      "text/html": [
       "\n",
       "    <div>\n",
       "      <progress value='2000' class='' max='2000' style='width:300px; height:20px; vertical-align: middle;'></progress>\n",
       "      100.00% [2000/2000 00:55&lt;00:00 Sampling chain 0, 0 divergences]\n",
       "    </div>\n",
       "    "
      ],
      "text/plain": [
       "<IPython.core.display.HTML object>"
      ]
     },
     "metadata": {},
     "output_type": "display_data"
    },
    {
     "name": "stderr",
     "output_type": "stream",
     "text": [
      "Sampling 1 chain for 1_000 tune and 1_000 draw iterations (1_000 + 1_000 draws total) took 56 seconds.\n",
      "Only one chain was sampled, this makes it impossible to run some convergence checks\n"
     ]
    },
    {
     "data": {
      "text/html": [
       "\n",
       "<style>\n",
       "    /* Turns off some styling */\n",
       "    progress {\n",
       "        /* gets rid of default border in Firefox and Opera. */\n",
       "        border: none;\n",
       "        /* Needs to be in here for Safari polyfill so background images work as expected. */\n",
       "        background-size: auto;\n",
       "    }\n",
       "    progress:not([value]), progress:not([value])::-webkit-progress-bar {\n",
       "        background: repeating-linear-gradient(45deg, #7e7e7e, #7e7e7e 10px, #5c5c5c 10px, #5c5c5c 20px);\n",
       "    }\n",
       "    .progress-bar-interrupted, .progress-bar-interrupted::-webkit-progress-bar {\n",
       "        background: #F44336;\n",
       "    }\n",
       "</style>\n"
      ],
      "text/plain": [
       "<IPython.core.display.HTML object>"
      ]
     },
     "metadata": {},
     "output_type": "display_data"
    },
    {
     "data": {
      "text/html": [
       "\n",
       "    <div>\n",
       "      <progress value='65' class='' max='65' style='width:300px; height:20px; vertical-align: middle;'></progress>\n",
       "      100.00% [65/65 00:00&lt;00:00 logp = 445.44, ||grad|| = 0.13998]\n",
       "    </div>\n",
       "    "
      ],
      "text/plain": [
       "<IPython.core.display.HTML object>"
      ]
     },
     "metadata": {},
     "output_type": "display_data"
    },
    {
     "name": "stdout",
     "output_type": "stream",
     "text": [
      "\n",
      "target health\n",
      "  Neuron with  331 spikes\n",
      "    Excluded neuron with n spikes =  331\n",
      "  Neuron with  357 spikes\n",
      "    Excluded neuron with n spikes =  357\n",
      "  Neuron with  518 spikes\n",
      "    Excluded neuron with n spikes =  518\n",
      "  Neuron with  375 spikes\n",
      "    Excluded neuron with n spikes =  375\n",
      "  Neuron with  278 spikes\n",
      "    Excluded neuron with n spikes =  278\n",
      "  Neuron with  578 spikes\n",
      "    Excluded neuron with n spikes =  578\n",
      "  Neuron with  290 spikes\n",
      "    Excluded neuron with n spikes =  290\n",
      "  Neuron with  887 spikes\n"
     ]
    },
    {
     "name": "stderr",
     "output_type": "stream",
     "text": [
      "Sequential sampling (1 chains in 1 job)\n",
      "NUTS: [mu1, lam1, mu2, sigma2, mu3, sigma3, w]\n"
     ]
    },
    {
     "data": {
      "text/html": [
       "\n",
       "<style>\n",
       "    /* Turns off some styling */\n",
       "    progress {\n",
       "        /* gets rid of default border in Firefox and Opera. */\n",
       "        border: none;\n",
       "        /* Needs to be in here for Safari polyfill so background images work as expected. */\n",
       "        background-size: auto;\n",
       "    }\n",
       "    progress:not([value]), progress:not([value])::-webkit-progress-bar {\n",
       "        background: repeating-linear-gradient(45deg, #7e7e7e, #7e7e7e 10px, #5c5c5c 10px, #5c5c5c 20px);\n",
       "    }\n",
       "    .progress-bar-interrupted, .progress-bar-interrupted::-webkit-progress-bar {\n",
       "        background: #F44336;\n",
       "    }\n",
       "</style>\n"
      ],
      "text/plain": [
       "<IPython.core.display.HTML object>"
      ]
     },
     "metadata": {},
     "output_type": "display_data"
    },
    {
     "data": {
      "text/html": [
       "\n",
       "    <div>\n",
       "      <progress value='2000' class='' max='2000' style='width:300px; height:20px; vertical-align: middle;'></progress>\n",
       "      100.00% [2000/2000 00:48&lt;00:00 Sampling chain 0, 0 divergences]\n",
       "    </div>\n",
       "    "
      ],
      "text/plain": [
       "<IPython.core.display.HTML object>"
      ]
     },
     "metadata": {},
     "output_type": "display_data"
    },
    {
     "name": "stderr",
     "output_type": "stream",
     "text": [
      "Sampling 1 chain for 1_000 tune and 1_000 draw iterations (1_000 + 1_000 draws total) took 48 seconds.\n",
      "Only one chain was sampled, this makes it impossible to run some convergence checks\n"
     ]
    },
    {
     "data": {
      "text/html": [
       "\n",
       "<style>\n",
       "    /* Turns off some styling */\n",
       "    progress {\n",
       "        /* gets rid of default border in Firefox and Opera. */\n",
       "        border: none;\n",
       "        /* Needs to be in here for Safari polyfill so background images work as expected. */\n",
       "        background-size: auto;\n",
       "    }\n",
       "    progress:not([value]), progress:not([value])::-webkit-progress-bar {\n",
       "        background: repeating-linear-gradient(45deg, #7e7e7e, #7e7e7e 10px, #5c5c5c 10px, #5c5c5c 20px);\n",
       "    }\n",
       "    .progress-bar-interrupted, .progress-bar-interrupted::-webkit-progress-bar {\n",
       "        background: #F44336;\n",
       "    }\n",
       "</style>\n"
      ],
      "text/plain": [
       "<IPython.core.display.HTML object>"
      ]
     },
     "metadata": {},
     "output_type": "display_data"
    },
    {
     "data": {
      "text/html": [
       "\n",
       "    <div>\n",
       "      <progress value='65' class='' max='65' style='width:300px; height:20px; vertical-align: middle;'></progress>\n",
       "      100.00% [65/65 00:00&lt;00:00 logp = 445.44, ||grad|| = 0.13998]\n",
       "    </div>\n",
       "    "
      ],
      "text/plain": [
       "<IPython.core.display.HTML object>"
      ]
     },
     "metadata": {},
     "output_type": "display_data"
    },
    {
     "name": "stdout",
     "output_type": "stream",
     "text": [
      "\n",
      "target health\n",
      "  Neuron with  331 spikes\n",
      "    Excluded neuron with n spikes =  331\n",
      "  Neuron with  357 spikes\n",
      "    Excluded neuron with n spikes =  357\n",
      "  Neuron with  518 spikes\n",
      "    Excluded neuron with n spikes =  518\n",
      "  Neuron with  375 spikes\n",
      "    Excluded neuron with n spikes =  375\n",
      "  Neuron with  278 spikes\n",
      "    Excluded neuron with n spikes =  278\n",
      "  Neuron with  578 spikes\n",
      "    Excluded neuron with n spikes =  578\n",
      "  Neuron with  290 spikes\n",
      "    Excluded neuron with n spikes =  290\n",
      "  Neuron with  887 spikes\n"
     ]
    },
    {
     "name": "stderr",
     "output_type": "stream",
     "text": [
      "Sequential sampling (1 chains in 1 job)\n",
      "NUTS: [mu1, lam1, mu2, sigma2, mu3, sigma3, w]\n"
     ]
    },
    {
     "data": {
      "text/html": [
       "\n",
       "<style>\n",
       "    /* Turns off some styling */\n",
       "    progress {\n",
       "        /* gets rid of default border in Firefox and Opera. */\n",
       "        border: none;\n",
       "        /* Needs to be in here for Safari polyfill so background images work as expected. */\n",
       "        background-size: auto;\n",
       "    }\n",
       "    progress:not([value]), progress:not([value])::-webkit-progress-bar {\n",
       "        background: repeating-linear-gradient(45deg, #7e7e7e, #7e7e7e 10px, #5c5c5c 10px, #5c5c5c 20px);\n",
       "    }\n",
       "    .progress-bar-interrupted, .progress-bar-interrupted::-webkit-progress-bar {\n",
       "        background: #F44336;\n",
       "    }\n",
       "</style>\n"
      ],
      "text/plain": [
       "<IPython.core.display.HTML object>"
      ]
     },
     "metadata": {},
     "output_type": "display_data"
    },
    {
     "data": {
      "text/html": [
       "\n",
       "    <div>\n",
       "      <progress value='2000' class='' max='2000' style='width:300px; height:20px; vertical-align: middle;'></progress>\n",
       "      100.00% [2000/2000 01:00&lt;00:00 Sampling chain 0, 0 divergences]\n",
       "    </div>\n",
       "    "
      ],
      "text/plain": [
       "<IPython.core.display.HTML object>"
      ]
     },
     "metadata": {},
     "output_type": "display_data"
    },
    {
     "name": "stderr",
     "output_type": "stream",
     "text": [
      "Sampling 1 chain for 1_000 tune and 1_000 draw iterations (1_000 + 1_000 draws total) took 60 seconds.\n",
      "Only one chain was sampled, this makes it impossible to run some convergence checks\n"
     ]
    },
    {
     "data": {
      "text/html": [
       "\n",
       "<style>\n",
       "    /* Turns off some styling */\n",
       "    progress {\n",
       "        /* gets rid of default border in Firefox and Opera. */\n",
       "        border: none;\n",
       "        /* Needs to be in here for Safari polyfill so background images work as expected. */\n",
       "        background-size: auto;\n",
       "    }\n",
       "    progress:not([value]), progress:not([value])::-webkit-progress-bar {\n",
       "        background: repeating-linear-gradient(45deg, #7e7e7e, #7e7e7e 10px, #5c5c5c 10px, #5c5c5c 20px);\n",
       "    }\n",
       "    .progress-bar-interrupted, .progress-bar-interrupted::-webkit-progress-bar {\n",
       "        background: #F44336;\n",
       "    }\n",
       "</style>\n"
      ],
      "text/plain": [
       "<IPython.core.display.HTML object>"
      ]
     },
     "metadata": {},
     "output_type": "display_data"
    },
    {
     "data": {
      "text/html": [
       "\n",
       "    <div>\n",
       "      <progress value='65' class='' max='65' style='width:300px; height:20px; vertical-align: middle;'></progress>\n",
       "      100.00% [65/65 00:00&lt;00:00 logp = 445.44, ||grad|| = 0.13998]\n",
       "    </div>\n",
       "    "
      ],
      "text/plain": [
       "<IPython.core.display.HTML object>"
      ]
     },
     "metadata": {},
     "output_type": "display_data"
    },
    {
     "name": "stdout",
     "output_type": "stream",
     "text": [
      "\n",
      "target health\n",
      "  Neuron with  331 spikes\n",
      "    Excluded neuron with n spikes =  331\n",
      "  Neuron with  357 spikes\n",
      "    Excluded neuron with n spikes =  357\n",
      "  Neuron with  518 spikes\n",
      "    Excluded neuron with n spikes =  518\n",
      "  Neuron with  375 spikes\n",
      "    Excluded neuron with n spikes =  375\n",
      "  Neuron with  278 spikes\n",
      "    Excluded neuron with n spikes =  278\n",
      "  Neuron with  578 spikes\n",
      "    Excluded neuron with n spikes =  578\n",
      "  Neuron with  290 spikes\n",
      "    Excluded neuron with n spikes =  290\n",
      "  Neuron with  887 spikes\n"
     ]
    },
    {
     "name": "stderr",
     "output_type": "stream",
     "text": [
      "Sequential sampling (1 chains in 1 job)\n",
      "NUTS: [mu1, lam1, mu2, sigma2, mu3, sigma3, w]\n"
     ]
    },
    {
     "data": {
      "text/html": [
       "\n",
       "<style>\n",
       "    /* Turns off some styling */\n",
       "    progress {\n",
       "        /* gets rid of default border in Firefox and Opera. */\n",
       "        border: none;\n",
       "        /* Needs to be in here for Safari polyfill so background images work as expected. */\n",
       "        background-size: auto;\n",
       "    }\n",
       "    progress:not([value]), progress:not([value])::-webkit-progress-bar {\n",
       "        background: repeating-linear-gradient(45deg, #7e7e7e, #7e7e7e 10px, #5c5c5c 10px, #5c5c5c 20px);\n",
       "    }\n",
       "    .progress-bar-interrupted, .progress-bar-interrupted::-webkit-progress-bar {\n",
       "        background: #F44336;\n",
       "    }\n",
       "</style>\n"
      ],
      "text/plain": [
       "<IPython.core.display.HTML object>"
      ]
     },
     "metadata": {},
     "output_type": "display_data"
    },
    {
     "data": {
      "text/html": [
       "\n",
       "    <div>\n",
       "      <progress value='2000' class='' max='2000' style='width:300px; height:20px; vertical-align: middle;'></progress>\n",
       "      100.00% [2000/2000 00:56&lt;00:00 Sampling chain 0, 0 divergences]\n",
       "    </div>\n",
       "    "
      ],
      "text/plain": [
       "<IPython.core.display.HTML object>"
      ]
     },
     "metadata": {},
     "output_type": "display_data"
    },
    {
     "name": "stderr",
     "output_type": "stream",
     "text": [
      "Sampling 1 chain for 1_000 tune and 1_000 draw iterations (1_000 + 1_000 draws total) took 57 seconds.\n",
      "Only one chain was sampled, this makes it impossible to run some convergence checks\n"
     ]
    },
    {
     "data": {
      "text/html": [
       "\n",
       "<style>\n",
       "    /* Turns off some styling */\n",
       "    progress {\n",
       "        /* gets rid of default border in Firefox and Opera. */\n",
       "        border: none;\n",
       "        /* Needs to be in here for Safari polyfill so background images work as expected. */\n",
       "        background-size: auto;\n",
       "    }\n",
       "    progress:not([value]), progress:not([value])::-webkit-progress-bar {\n",
       "        background: repeating-linear-gradient(45deg, #7e7e7e, #7e7e7e 10px, #5c5c5c 10px, #5c5c5c 20px);\n",
       "    }\n",
       "    .progress-bar-interrupted, .progress-bar-interrupted::-webkit-progress-bar {\n",
       "        background: #F44336;\n",
       "    }\n",
       "</style>\n"
      ],
      "text/plain": [
       "<IPython.core.display.HTML object>"
      ]
     },
     "metadata": {},
     "output_type": "display_data"
    },
    {
     "data": {
      "text/html": [
       "\n",
       "    <div>\n",
       "      <progress value='65' class='' max='65' style='width:300px; height:20px; vertical-align: middle;'></progress>\n",
       "      100.00% [65/65 00:00&lt;00:00 logp = 445.44, ||grad|| = 0.13998]\n",
       "    </div>\n",
       "    "
      ],
      "text/plain": [
       "<IPython.core.display.HTML object>"
      ]
     },
     "metadata": {},
     "output_type": "display_data"
    },
    {
     "name": "stdout",
     "output_type": "stream",
     "text": [
      "\n",
      "target health\n",
      "  Neuron with  331 spikes\n",
      "    Excluded neuron with n spikes =  331\n",
      "  Neuron with  357 spikes\n",
      "    Excluded neuron with n spikes =  357\n",
      "  Neuron with  518 spikes\n",
      "    Excluded neuron with n spikes =  518\n",
      "  Neuron with  375 spikes\n",
      "    Excluded neuron with n spikes =  375\n",
      "  Neuron with  278 spikes\n",
      "    Excluded neuron with n spikes =  278\n",
      "  Neuron with  578 spikes\n",
      "    Excluded neuron with n spikes =  578\n",
      "  Neuron with  290 spikes\n",
      "    Excluded neuron with n spikes =  290\n",
      "  Neuron with  887 spikes\n"
     ]
    },
    {
     "name": "stderr",
     "output_type": "stream",
     "text": [
      "Sequential sampling (1 chains in 1 job)\n",
      "NUTS: [mu1, lam1, mu2, sigma2, mu3, sigma3, w]\n"
     ]
    },
    {
     "data": {
      "text/html": [
       "\n",
       "<style>\n",
       "    /* Turns off some styling */\n",
       "    progress {\n",
       "        /* gets rid of default border in Firefox and Opera. */\n",
       "        border: none;\n",
       "        /* Needs to be in here for Safari polyfill so background images work as expected. */\n",
       "        background-size: auto;\n",
       "    }\n",
       "    progress:not([value]), progress:not([value])::-webkit-progress-bar {\n",
       "        background: repeating-linear-gradient(45deg, #7e7e7e, #7e7e7e 10px, #5c5c5c 10px, #5c5c5c 20px);\n",
       "    }\n",
       "    .progress-bar-interrupted, .progress-bar-interrupted::-webkit-progress-bar {\n",
       "        background: #F44336;\n",
       "    }\n",
       "</style>\n"
      ],
      "text/plain": [
       "<IPython.core.display.HTML object>"
      ]
     },
     "metadata": {},
     "output_type": "display_data"
    },
    {
     "data": {
      "text/html": [
       "\n",
       "    <div>\n",
       "      <progress value='2000' class='' max='2000' style='width:300px; height:20px; vertical-align: middle;'></progress>\n",
       "      100.00% [2000/2000 01:01&lt;00:00 Sampling chain 0, 0 divergences]\n",
       "    </div>\n",
       "    "
      ],
      "text/plain": [
       "<IPython.core.display.HTML object>"
      ]
     },
     "metadata": {},
     "output_type": "display_data"
    },
    {
     "name": "stderr",
     "output_type": "stream",
     "text": [
      "Sampling 1 chain for 1_000 tune and 1_000 draw iterations (1_000 + 1_000 draws total) took 62 seconds.\n",
      "Only one chain was sampled, this makes it impossible to run some convergence checks\n"
     ]
    },
    {
     "data": {
      "text/html": [
       "\n",
       "<style>\n",
       "    /* Turns off some styling */\n",
       "    progress {\n",
       "        /* gets rid of default border in Firefox and Opera. */\n",
       "        border: none;\n",
       "        /* Needs to be in here for Safari polyfill so background images work as expected. */\n",
       "        background-size: auto;\n",
       "    }\n",
       "    progress:not([value]), progress:not([value])::-webkit-progress-bar {\n",
       "        background: repeating-linear-gradient(45deg, #7e7e7e, #7e7e7e 10px, #5c5c5c 10px, #5c5c5c 20px);\n",
       "    }\n",
       "    .progress-bar-interrupted, .progress-bar-interrupted::-webkit-progress-bar {\n",
       "        background: #F44336;\n",
       "    }\n",
       "</style>\n"
      ],
      "text/plain": [
       "<IPython.core.display.HTML object>"
      ]
     },
     "metadata": {},
     "output_type": "display_data"
    },
    {
     "data": {
      "text/html": [
       "\n",
       "    <div>\n",
       "      <progress value='65' class='' max='65' style='width:300px; height:20px; vertical-align: middle;'></progress>\n",
       "      100.00% [65/65 00:00&lt;00:00 logp = 445.44, ||grad|| = 0.13998]\n",
       "    </div>\n",
       "    "
      ],
      "text/plain": [
       "<IPython.core.display.HTML object>"
      ]
     },
     "metadata": {},
     "output_type": "display_data"
    },
    {
     "name": "stdout",
     "output_type": "stream",
     "text": [
      "\n",
      "target health\n",
      "  Neuron with  331 spikes\n",
      "    Excluded neuron with n spikes =  331\n",
      "  Neuron with  357 spikes\n",
      "    Excluded neuron with n spikes =  357\n",
      "  Neuron with  518 spikes\n",
      "    Excluded neuron with n spikes =  518\n",
      "  Neuron with  375 spikes\n",
      "    Excluded neuron with n spikes =  375\n",
      "  Neuron with  278 spikes\n",
      "    Excluded neuron with n spikes =  278\n",
      "  Neuron with  578 spikes\n",
      "    Excluded neuron with n spikes =  578\n",
      "  Neuron with  290 spikes\n",
      "    Excluded neuron with n spikes =  290\n",
      "  Neuron with  887 spikes\n"
     ]
    },
    {
     "name": "stderr",
     "output_type": "stream",
     "text": [
      "Sequential sampling (1 chains in 1 job)\n",
      "NUTS: [mu1, lam1, mu2, sigma2, mu3, sigma3, w]\n"
     ]
    },
    {
     "data": {
      "text/html": [
       "\n",
       "<style>\n",
       "    /* Turns off some styling */\n",
       "    progress {\n",
       "        /* gets rid of default border in Firefox and Opera. */\n",
       "        border: none;\n",
       "        /* Needs to be in here for Safari polyfill so background images work as expected. */\n",
       "        background-size: auto;\n",
       "    }\n",
       "    progress:not([value]), progress:not([value])::-webkit-progress-bar {\n",
       "        background: repeating-linear-gradient(45deg, #7e7e7e, #7e7e7e 10px, #5c5c5c 10px, #5c5c5c 20px);\n",
       "    }\n",
       "    .progress-bar-interrupted, .progress-bar-interrupted::-webkit-progress-bar {\n",
       "        background: #F44336;\n",
       "    }\n",
       "</style>\n"
      ],
      "text/plain": [
       "<IPython.core.display.HTML object>"
      ]
     },
     "metadata": {},
     "output_type": "display_data"
    },
    {
     "data": {
      "text/html": [
       "\n",
       "    <div>\n",
       "      <progress value='2000' class='' max='2000' style='width:300px; height:20px; vertical-align: middle;'></progress>\n",
       "      100.00% [2000/2000 00:59&lt;00:00 Sampling chain 0, 0 divergences]\n",
       "    </div>\n",
       "    "
      ],
      "text/plain": [
       "<IPython.core.display.HTML object>"
      ]
     },
     "metadata": {},
     "output_type": "display_data"
    },
    {
     "name": "stderr",
     "output_type": "stream",
     "text": [
      "Sampling 1 chain for 1_000 tune and 1_000 draw iterations (1_000 + 1_000 draws total) took 59 seconds.\n",
      "Only one chain was sampled, this makes it impossible to run some convergence checks\n"
     ]
    },
    {
     "data": {
      "text/html": [
       "\n",
       "<style>\n",
       "    /* Turns off some styling */\n",
       "    progress {\n",
       "        /* gets rid of default border in Firefox and Opera. */\n",
       "        border: none;\n",
       "        /* Needs to be in here for Safari polyfill so background images work as expected. */\n",
       "        background-size: auto;\n",
       "    }\n",
       "    progress:not([value]), progress:not([value])::-webkit-progress-bar {\n",
       "        background: repeating-linear-gradient(45deg, #7e7e7e, #7e7e7e 10px, #5c5c5c 10px, #5c5c5c 20px);\n",
       "    }\n",
       "    .progress-bar-interrupted, .progress-bar-interrupted::-webkit-progress-bar {\n",
       "        background: #F44336;\n",
       "    }\n",
       "</style>\n"
      ],
      "text/plain": [
       "<IPython.core.display.HTML object>"
      ]
     },
     "metadata": {},
     "output_type": "display_data"
    },
    {
     "data": {
      "text/html": [
       "\n",
       "    <div>\n",
       "      <progress value='65' class='' max='65' style='width:300px; height:20px; vertical-align: middle;'></progress>\n",
       "      100.00% [65/65 00:00&lt;00:00 logp = 445.44, ||grad|| = 0.13998]\n",
       "    </div>\n",
       "    "
      ],
      "text/plain": [
       "<IPython.core.display.HTML object>"
      ]
     },
     "metadata": {},
     "output_type": "display_data"
    },
    {
     "name": "stdout",
     "output_type": "stream",
     "text": [
      "\n",
      "target health\n",
      "  Neuron with  331 spikes\n",
      "    Excluded neuron with n spikes =  331\n",
      "  Neuron with  357 spikes\n",
      "    Excluded neuron with n spikes =  357\n",
      "  Neuron with  518 spikes\n",
      "    Excluded neuron with n spikes =  518\n",
      "  Neuron with  375 spikes\n",
      "    Excluded neuron with n spikes =  375\n",
      "  Neuron with  278 spikes\n",
      "    Excluded neuron with n spikes =  278\n",
      "  Neuron with  578 spikes\n",
      "    Excluded neuron with n spikes =  578\n",
      "  Neuron with  290 spikes\n",
      "    Excluded neuron with n spikes =  290\n",
      "  Neuron with  887 spikes\n"
     ]
    },
    {
     "name": "stderr",
     "output_type": "stream",
     "text": [
      "Sequential sampling (1 chains in 1 job)\n",
      "NUTS: [mu1, lam1, mu2, sigma2, mu3, sigma3, w]\n"
     ]
    },
    {
     "data": {
      "text/html": [
       "\n",
       "<style>\n",
       "    /* Turns off some styling */\n",
       "    progress {\n",
       "        /* gets rid of default border in Firefox and Opera. */\n",
       "        border: none;\n",
       "        /* Needs to be in here for Safari polyfill so background images work as expected. */\n",
       "        background-size: auto;\n",
       "    }\n",
       "    progress:not([value]), progress:not([value])::-webkit-progress-bar {\n",
       "        background: repeating-linear-gradient(45deg, #7e7e7e, #7e7e7e 10px, #5c5c5c 10px, #5c5c5c 20px);\n",
       "    }\n",
       "    .progress-bar-interrupted, .progress-bar-interrupted::-webkit-progress-bar {\n",
       "        background: #F44336;\n",
       "    }\n",
       "</style>\n"
      ],
      "text/plain": [
       "<IPython.core.display.HTML object>"
      ]
     },
     "metadata": {},
     "output_type": "display_data"
    },
    {
     "data": {
      "text/html": [
       "\n",
       "    <div>\n",
       "      <progress value='2000' class='' max='2000' style='width:300px; height:20px; vertical-align: middle;'></progress>\n",
       "      100.00% [2000/2000 01:07&lt;00:00 Sampling chain 0, 0 divergences]\n",
       "    </div>\n",
       "    "
      ],
      "text/plain": [
       "<IPython.core.display.HTML object>"
      ]
     },
     "metadata": {},
     "output_type": "display_data"
    },
    {
     "name": "stderr",
     "output_type": "stream",
     "text": [
      "Sampling 1 chain for 1_000 tune and 1_000 draw iterations (1_000 + 1_000 draws total) took 68 seconds.\n",
      "Only one chain was sampled, this makes it impossible to run some convergence checks\n"
     ]
    },
    {
     "data": {
      "text/html": [
       "\n",
       "<style>\n",
       "    /* Turns off some styling */\n",
       "    progress {\n",
       "        /* gets rid of default border in Firefox and Opera. */\n",
       "        border: none;\n",
       "        /* Needs to be in here for Safari polyfill so background images work as expected. */\n",
       "        background-size: auto;\n",
       "    }\n",
       "    progress:not([value]), progress:not([value])::-webkit-progress-bar {\n",
       "        background: repeating-linear-gradient(45deg, #7e7e7e, #7e7e7e 10px, #5c5c5c 10px, #5c5c5c 20px);\n",
       "    }\n",
       "    .progress-bar-interrupted, .progress-bar-interrupted::-webkit-progress-bar {\n",
       "        background: #F44336;\n",
       "    }\n",
       "</style>\n"
      ],
      "text/plain": [
       "<IPython.core.display.HTML object>"
      ]
     },
     "metadata": {},
     "output_type": "display_data"
    },
    {
     "data": {
      "text/html": [
       "\n",
       "    <div>\n",
       "      <progress value='65' class='' max='65' style='width:300px; height:20px; vertical-align: middle;'></progress>\n",
       "      100.00% [65/65 00:00&lt;00:00 logp = 445.44, ||grad|| = 0.13998]\n",
       "    </div>\n",
       "    "
      ],
      "text/plain": [
       "<IPython.core.display.HTML object>"
      ]
     },
     "metadata": {},
     "output_type": "display_data"
    },
    {
     "name": "stdout",
     "output_type": "stream",
     "text": [
      "\n",
      "target health\n",
      "  Neuron with  331 spikes\n",
      "    Excluded neuron with n spikes =  331\n",
      "  Neuron with  357 spikes\n",
      "    Excluded neuron with n spikes =  357\n",
      "Final number of neurons:  9\n",
      "Target =  0\n",
      "6 )  Data after SS/After2018-11-27T11-24-28MiP3 stimulation.h5.txt.txt\n",
      "Original number of neurons:  106\n",
      "  Neuron with  389 spikes\n",
      "    Excluded neuron with n spikes =  389\n",
      "  Neuron with  566 spikes\n",
      "    Excluded neuron with n spikes =  566\n",
      "  Neuron with  475 spikes\n",
      "    Excluded neuron with n spikes =  475\n",
      "  Neuron with  385 spikes\n",
      "    Excluded neuron with n spikes =  385\n",
      "  Neuron with  335 spikes\n",
      "    Excluded neuron with n spikes =  335\n",
      "  Neuron with  264 spikes\n",
      "    Excluded neuron with n spikes =  264\n",
      "  Neuron with  237 spikes\n",
      "    Excluded neuron with n spikes =  237\n",
      "  Neuron with  357 spikes\n",
      "    Excluded neuron with n spikes =  357\n",
      "  Neuron with  298 spikes\n",
      "    Excluded neuron with n spikes =  298\n",
      "  Neuron with  226 spikes\n",
      "    Excluded neuron with n spikes =  226\n",
      "  Neuron with  639 spikes\n",
      "    Excluded neuron with n spikes =  639\n",
      "  Neuron with  532 spikes\n",
      "    Excluded neuron with n spikes =  532\n",
      "  Neuron with  245 spikes\n",
      "    Excluded neuron with n spikes =  245\n",
      "  Neuron with  433 spikes\n",
      "    Excluded neuron with n spikes =  433\n",
      "  Neuron with  210 spikes\n",
      "    Excluded neuron with n spikes =  210\n",
      "  Neuron with  488 spikes\n",
      "    Excluded neuron with n spikes =  488\n",
      "  Neuron with  225 spikes\n",
      "    Excluded neuron with n spikes =  225\n",
      "  Neuron with  283 spikes\n",
      "    Excluded neuron with n spikes =  283\n",
      "  Neuron with  309 spikes\n",
      "    Excluded neuron with n spikes =  309\n",
      "  Neuron with  238 spikes\n",
      "    Excluded neuron with n spikes =  238\n",
      "  Neuron with  242 spikes\n",
      "    Excluded neuron with n spikes =  242\n",
      "  Neuron with  365 spikes\n",
      "    Excluded neuron with n spikes =  365\n",
      "  Neuron with  510 spikes\n",
      "    Excluded neuron with n spikes =  510\n",
      "  Neuron with  730 spikes\n",
      "    Excluded neuron with n spikes =  730\n",
      "  Neuron with  389 spikes\n",
      "    Excluded neuron with n spikes =  389\n",
      "  Neuron with  316 spikes\n",
      "    Excluded neuron with n spikes =  316\n",
      "  Neuron with  586 spikes\n",
      "    Excluded neuron with n spikes =  586\n",
      "  Neuron with  623 spikes\n",
      "    Excluded neuron with n spikes =  623\n",
      "  Neuron with  344 spikes\n",
      "    Excluded neuron with n spikes =  344\n",
      "  Neuron with  409 spikes\n",
      "    Excluded neuron with n spikes =  409\n",
      "  Neuron with  579 spikes\n",
      "    Excluded neuron with n spikes =  579\n",
      "  Neuron with  882 spikes\n"
     ]
    },
    {
     "name": "stderr",
     "output_type": "stream",
     "text": [
      "Sequential sampling (1 chains in 1 job)\n",
      "NUTS: [mu1, lam1, mu2, sigma2, mu3, sigma3, w]\n"
     ]
    },
    {
     "data": {
      "text/html": [
       "\n",
       "<style>\n",
       "    /* Turns off some styling */\n",
       "    progress {\n",
       "        /* gets rid of default border in Firefox and Opera. */\n",
       "        border: none;\n",
       "        /* Needs to be in here for Safari polyfill so background images work as expected. */\n",
       "        background-size: auto;\n",
       "    }\n",
       "    progress:not([value]), progress:not([value])::-webkit-progress-bar {\n",
       "        background: repeating-linear-gradient(45deg, #7e7e7e, #7e7e7e 10px, #5c5c5c 10px, #5c5c5c 20px);\n",
       "    }\n",
       "    .progress-bar-interrupted, .progress-bar-interrupted::-webkit-progress-bar {\n",
       "        background: #F44336;\n",
       "    }\n",
       "</style>\n"
      ],
      "text/plain": [
       "<IPython.core.display.HTML object>"
      ]
     },
     "metadata": {},
     "output_type": "display_data"
    },
    {
     "data": {
      "text/html": [
       "\n",
       "    <div>\n",
       "      <progress value='2000' class='' max='2000' style='width:300px; height:20px; vertical-align: middle;'></progress>\n",
       "      100.00% [2000/2000 00:57&lt;00:00 Sampling chain 0, 0 divergences]\n",
       "    </div>\n",
       "    "
      ],
      "text/plain": [
       "<IPython.core.display.HTML object>"
      ]
     },
     "metadata": {},
     "output_type": "display_data"
    },
    {
     "name": "stderr",
     "output_type": "stream",
     "text": [
      "Sampling 1 chain for 1_000 tune and 1_000 draw iterations (1_000 + 1_000 draws total) took 57 seconds.\n",
      "Only one chain was sampled, this makes it impossible to run some convergence checks\n"
     ]
    },
    {
     "data": {
      "text/html": [
       "\n",
       "<style>\n",
       "    /* Turns off some styling */\n",
       "    progress {\n",
       "        /* gets rid of default border in Firefox and Opera. */\n",
       "        border: none;\n",
       "        /* Needs to be in here for Safari polyfill so background images work as expected. */\n",
       "        background-size: auto;\n",
       "    }\n",
       "    progress:not([value]), progress:not([value])::-webkit-progress-bar {\n",
       "        background: repeating-linear-gradient(45deg, #7e7e7e, #7e7e7e 10px, #5c5c5c 10px, #5c5c5c 20px);\n",
       "    }\n",
       "    .progress-bar-interrupted, .progress-bar-interrupted::-webkit-progress-bar {\n",
       "        background: #F44336;\n",
       "    }\n",
       "</style>\n"
      ],
      "text/plain": [
       "<IPython.core.display.HTML object>"
      ]
     },
     "metadata": {},
     "output_type": "display_data"
    },
    {
     "data": {
      "text/html": [
       "\n",
       "    <div>\n",
       "      <progress value='90' class='' max='90' style='width:300px; height:20px; vertical-align: middle;'></progress>\n",
       "      100.00% [90/90 00:00&lt;00:00 logp = 440.12, ||grad|| = 0.25341]\n",
       "    </div>\n",
       "    "
      ],
      "text/plain": [
       "<IPython.core.display.HTML object>"
      ]
     },
     "metadata": {},
     "output_type": "display_data"
    },
    {
     "name": "stdout",
     "output_type": "stream",
     "text": [
      "\n",
      "  Neuron with  399 spikes\n",
      "    Excluded neuron with n spikes =  399\n",
      "  Neuron with  309 spikes\n",
      "    Excluded neuron with n spikes =  309\n",
      "  Neuron with  815 spikes\n"
     ]
    },
    {
     "name": "stderr",
     "output_type": "stream",
     "text": [
      "Sequential sampling (1 chains in 1 job)\n",
      "NUTS: [mu1, lam1, mu2, sigma2, mu3, sigma3, w]\n"
     ]
    },
    {
     "data": {
      "text/html": [
       "\n",
       "<style>\n",
       "    /* Turns off some styling */\n",
       "    progress {\n",
       "        /* gets rid of default border in Firefox and Opera. */\n",
       "        border: none;\n",
       "        /* Needs to be in here for Safari polyfill so background images work as expected. */\n",
       "        background-size: auto;\n",
       "    }\n",
       "    progress:not([value]), progress:not([value])::-webkit-progress-bar {\n",
       "        background: repeating-linear-gradient(45deg, #7e7e7e, #7e7e7e 10px, #5c5c5c 10px, #5c5c5c 20px);\n",
       "    }\n",
       "    .progress-bar-interrupted, .progress-bar-interrupted::-webkit-progress-bar {\n",
       "        background: #F44336;\n",
       "    }\n",
       "</style>\n"
      ],
      "text/plain": [
       "<IPython.core.display.HTML object>"
      ]
     },
     "metadata": {},
     "output_type": "display_data"
    },
    {
     "data": {
      "text/html": [
       "\n",
       "    <div>\n",
       "      <progress value='2000' class='' max='2000' style='width:300px; height:20px; vertical-align: middle;'></progress>\n",
       "      100.00% [2000/2000 00:58&lt;00:00 Sampling chain 0, 0 divergences]\n",
       "    </div>\n",
       "    "
      ],
      "text/plain": [
       "<IPython.core.display.HTML object>"
      ]
     },
     "metadata": {},
     "output_type": "display_data"
    },
    {
     "name": "stderr",
     "output_type": "stream",
     "text": [
      "Sampling 1 chain for 1_000 tune and 1_000 draw iterations (1_000 + 1_000 draws total) took 59 seconds.\n",
      "Only one chain was sampled, this makes it impossible to run some convergence checks\n"
     ]
    },
    {
     "data": {
      "text/html": [
       "\n",
       "<style>\n",
       "    /* Turns off some styling */\n",
       "    progress {\n",
       "        /* gets rid of default border in Firefox and Opera. */\n",
       "        border: none;\n",
       "        /* Needs to be in here for Safari polyfill so background images work as expected. */\n",
       "        background-size: auto;\n",
       "    }\n",
       "    progress:not([value]), progress:not([value])::-webkit-progress-bar {\n",
       "        background: repeating-linear-gradient(45deg, #7e7e7e, #7e7e7e 10px, #5c5c5c 10px, #5c5c5c 20px);\n",
       "    }\n",
       "    .progress-bar-interrupted, .progress-bar-interrupted::-webkit-progress-bar {\n",
       "        background: #F44336;\n",
       "    }\n",
       "</style>\n"
      ],
      "text/plain": [
       "<IPython.core.display.HTML object>"
      ]
     },
     "metadata": {},
     "output_type": "display_data"
    },
    {
     "data": {
      "text/html": [
       "\n",
       "    <div>\n",
       "      <progress value='89' class='' max='89' style='width:300px; height:20px; vertical-align: middle;'></progress>\n",
       "      100.00% [89/89 00:00&lt;00:00 logp = 346.74, ||grad|| = 0.025141]\n",
       "    </div>\n",
       "    "
      ],
      "text/plain": [
       "<IPython.core.display.HTML object>"
      ]
     },
     "metadata": {},
     "output_type": "display_data"
    },
    {
     "name": "stdout",
     "output_type": "stream",
     "text": [
      "\n",
      "  Neuron with  344 spikes\n",
      "    Excluded neuron with n spikes =  344\n",
      "  Neuron with  807 spikes\n"
     ]
    },
    {
     "name": "stderr",
     "output_type": "stream",
     "text": [
      "Sequential sampling (1 chains in 1 job)\n",
      "NUTS: [mu1, lam1, mu2, sigma2, mu3, sigma3, w]\n"
     ]
    },
    {
     "data": {
      "text/html": [
       "\n",
       "<style>\n",
       "    /* Turns off some styling */\n",
       "    progress {\n",
       "        /* gets rid of default border in Firefox and Opera. */\n",
       "        border: none;\n",
       "        /* Needs to be in here for Safari polyfill so background images work as expected. */\n",
       "        background-size: auto;\n",
       "    }\n",
       "    progress:not([value]), progress:not([value])::-webkit-progress-bar {\n",
       "        background: repeating-linear-gradient(45deg, #7e7e7e, #7e7e7e 10px, #5c5c5c 10px, #5c5c5c 20px);\n",
       "    }\n",
       "    .progress-bar-interrupted, .progress-bar-interrupted::-webkit-progress-bar {\n",
       "        background: #F44336;\n",
       "    }\n",
       "</style>\n"
      ],
      "text/plain": [
       "<IPython.core.display.HTML object>"
      ]
     },
     "metadata": {},
     "output_type": "display_data"
    },
    {
     "data": {
      "text/html": [
       "\n",
       "    <div>\n",
       "      <progress value='2000' class='' max='2000' style='width:300px; height:20px; vertical-align: middle;'></progress>\n",
       "      100.00% [2000/2000 00:49&lt;00:00 Sampling chain 0, 0 divergences]\n",
       "    </div>\n",
       "    "
      ],
      "text/plain": [
       "<IPython.core.display.HTML object>"
      ]
     },
     "metadata": {},
     "output_type": "display_data"
    },
    {
     "name": "stderr",
     "output_type": "stream",
     "text": [
      "Sampling 1 chain for 1_000 tune and 1_000 draw iterations (1_000 + 1_000 draws total) took 50 seconds.\n",
      "Only one chain was sampled, this makes it impossible to run some convergence checks\n"
     ]
    },
    {
     "data": {
      "text/html": [
       "\n",
       "<style>\n",
       "    /* Turns off some styling */\n",
       "    progress {\n",
       "        /* gets rid of default border in Firefox and Opera. */\n",
       "        border: none;\n",
       "        /* Needs to be in here for Safari polyfill so background images work as expected. */\n",
       "        background-size: auto;\n",
       "    }\n",
       "    progress:not([value]), progress:not([value])::-webkit-progress-bar {\n",
       "        background: repeating-linear-gradient(45deg, #7e7e7e, #7e7e7e 10px, #5c5c5c 10px, #5c5c5c 20px);\n",
       "    }\n",
       "    .progress-bar-interrupted, .progress-bar-interrupted::-webkit-progress-bar {\n",
       "        background: #F44336;\n",
       "    }\n",
       "</style>\n"
      ],
      "text/plain": [
       "<IPython.core.display.HTML object>"
      ]
     },
     "metadata": {},
     "output_type": "display_data"
    },
    {
     "data": {
      "text/html": [
       "\n",
       "    <div>\n",
       "      <progress value='75' class='' max='75' style='width:300px; height:20px; vertical-align: middle;'></progress>\n",
       "      100.00% [75/75 00:00&lt;00:00 logp = 330.44, ||grad|| = 0.0037733]\n",
       "    </div>\n",
       "    "
      ],
      "text/plain": [
       "<IPython.core.display.HTML object>"
      ]
     },
     "metadata": {},
     "output_type": "display_data"
    },
    {
     "name": "stdout",
     "output_type": "stream",
     "text": [
      "\n",
      "  Neuron with  738 spikes\n",
      "    Excluded neuron with n spikes =  738\n",
      "  Neuron with  312 spikes\n",
      "    Excluded neuron with n spikes =  312\n",
      "  Neuron with  679 spikes\n",
      "    Excluded neuron with n spikes =  679\n",
      "  Neuron with  462 spikes\n",
      "    Excluded neuron with n spikes =  462\n",
      "  Neuron with  449 spikes\n",
      "    Excluded neuron with n spikes =  449\n",
      "  Neuron with  452 spikes\n",
      "    Excluded neuron with n spikes =  452\n",
      "  Neuron with  268 spikes\n",
      "    Excluded neuron with n spikes =  268\n",
      "  Neuron with  414 spikes\n",
      "    Excluded neuron with n spikes =  414\n",
      "  Neuron with  353 spikes\n",
      "    Excluded neuron with n spikes =  353\n",
      "  Neuron with  433 spikes\n",
      "    Excluded neuron with n spikes =  433\n",
      "  Neuron with  515 spikes\n",
      "    Excluded neuron with n spikes =  515\n",
      "  Neuron with  474 spikes\n",
      "    Excluded neuron with n spikes =  474\n",
      "  Neuron with  346 spikes\n",
      "    Excluded neuron with n spikes =  346\n",
      "  Neuron with  305 spikes\n",
      "    Excluded neuron with n spikes =  305\n",
      "  Neuron with  283 spikes\n",
      "    Excluded neuron with n spikes =  283\n",
      "  Neuron with  268 spikes\n",
      "    Excluded neuron with n spikes =  268\n",
      "  Neuron with  414 spikes\n",
      "    Excluded neuron with n spikes =  414\n",
      "  Neuron with  353 spikes\n",
      "    Excluded neuron with n spikes =  353\n",
      "  Neuron with  433 spikes\n",
      "    Excluded neuron with n spikes =  433\n",
      "  Neuron with  515 spikes\n",
      "    Excluded neuron with n spikes =  515\n",
      "  Neuron with  474 spikes\n",
      "    Excluded neuron with n spikes =  474\n",
      "  Neuron with  346 spikes\n",
      "    Excluded neuron with n spikes =  346\n",
      "  Neuron with  305 spikes\n",
      "    Excluded neuron with n spikes =  305\n",
      "  Neuron with  283 spikes\n",
      "    Excluded neuron with n spikes =  283\n",
      "  Neuron with  268 spikes\n",
      "    Excluded neuron with n spikes =  268\n",
      "  Neuron with  414 spikes\n",
      "    Excluded neuron with n spikes =  414\n",
      "  Neuron with  353 spikes\n",
      "    Excluded neuron with n spikes =  353\n",
      "  Neuron with  433 spikes\n",
      "    Excluded neuron with n spikes =  433\n",
      "  Neuron with  515 spikes\n",
      "    Excluded neuron with n spikes =  515\n",
      "  Neuron with  474 spikes\n",
      "    Excluded neuron with n spikes =  474\n",
      "  Neuron with  346 spikes\n",
      "    Excluded neuron with n spikes =  346\n",
      "  Neuron with  305 spikes\n",
      "    Excluded neuron with n spikes =  305\n",
      "  Neuron with  283 spikes\n",
      "    Excluded neuron with n spikes =  283\n",
      "  Neuron with  268 spikes\n",
      "    Excluded neuron with n spikes =  268\n",
      "  Neuron with  414 spikes\n",
      "    Excluded neuron with n spikes =  414\n",
      "  Neuron with  353 spikes\n",
      "    Excluded neuron with n spikes =  353\n",
      "  Neuron with  433 spikes\n",
      "    Excluded neuron with n spikes =  433\n",
      "  Neuron with  515 spikes\n",
      "    Excluded neuron with n spikes =  515\n",
      "  Neuron with  474 spikes\n",
      "    Excluded neuron with n spikes =  474\n",
      "  Neuron with  346 spikes\n",
      "    Excluded neuron with n spikes =  346\n",
      "  Neuron with  305 spikes\n",
      "    Excluded neuron with n spikes =  305\n",
      "  Neuron with  283 spikes\n",
      "    Excluded neuron with n spikes =  283\n",
      "  Neuron with  268 spikes\n",
      "    Excluded neuron with n spikes =  268\n",
      "  Neuron with  414 spikes\n",
      "    Excluded neuron with n spikes =  414\n",
      "  Neuron with  353 spikes\n",
      "    Excluded neuron with n spikes =  353\n",
      "  Neuron with  433 spikes\n",
      "    Excluded neuron with n spikes =  433\n",
      "  Neuron with  515 spikes\n",
      "    Excluded neuron with n spikes =  515\n",
      "  Neuron with  474 spikes\n",
      "    Excluded neuron with n spikes =  474\n",
      "  Neuron with  346 spikes\n",
      "    Excluded neuron with n spikes =  346\n",
      "  Neuron with  305 spikes\n",
      "    Excluded neuron with n spikes =  305\n",
      "  Neuron with  283 spikes\n",
      "    Excluded neuron with n spikes =  283\n",
      "  Neuron with  268 spikes\n",
      "    Excluded neuron with n spikes =  268\n",
      "  Neuron with  414 spikes\n",
      "    Excluded neuron with n spikes =  414\n",
      "  Neuron with  353 spikes\n",
      "    Excluded neuron with n spikes =  353\n",
      "  Neuron with  433 spikes\n",
      "    Excluded neuron with n spikes =  433\n",
      "  Neuron with  515 spikes\n",
      "    Excluded neuron with n spikes =  515\n",
      "  Neuron with  474 spikes\n",
      "    Excluded neuron with n spikes =  474\n",
      "  Neuron with  346 spikes\n",
      "    Excluded neuron with n spikes =  346\n",
      "  Neuron with  305 spikes\n",
      "    Excluded neuron with n spikes =  305\n",
      "  Neuron with  283 spikes\n",
      "    Excluded neuron with n spikes =  283\n",
      "  Neuron with  268 spikes\n",
      "    Excluded neuron with n spikes =  268\n",
      "  Neuron with  414 spikes\n",
      "    Excluded neuron with n spikes =  414\n",
      "  Neuron with  353 spikes\n",
      "    Excluded neuron with n spikes =  353\n",
      "  Neuron with  433 spikes\n",
      "    Excluded neuron with n spikes =  433\n",
      "  Neuron with  515 spikes\n",
      "    Excluded neuron with n spikes =  515\n",
      "  Neuron with  474 spikes\n",
      "    Excluded neuron with n spikes =  474\n",
      "  Neuron with  346 spikes\n",
      "    Excluded neuron with n spikes =  346\n",
      "  Neuron with  305 spikes\n",
      "    Excluded neuron with n spikes =  305\n",
      "  Neuron with  283 spikes\n",
      "    Excluded neuron with n spikes =  283\n",
      "Final number of neurons:  3\n",
      "Target =  0\n",
      "7 )  Data after SS/After2018-11-27T10-40-53POP 3 BL .h5.txt.txt\n",
      "Original number of neurons:  97\n",
      "  Neuron with  313 spikes\n",
      "    Excluded neuron with n spikes =  313\n",
      "  Neuron with  441 spikes\n",
      "    Excluded neuron with n spikes =  441\n",
      "  Neuron with  320 spikes\n",
      "    Excluded neuron with n spikes =  320\n",
      "  Neuron with  408 spikes\n",
      "    Excluded neuron with n spikes =  408\n",
      "  Neuron with  303 spikes\n",
      "    Excluded neuron with n spikes =  303\n",
      "  Neuron with  353 spikes\n",
      "    Excluded neuron with n spikes =  353\n",
      "  Neuron with  480 spikes\n",
      "    Excluded neuron with n spikes =  480\n",
      "  Neuron with  327 spikes\n",
      "    Excluded neuron with n spikes =  327\n",
      "  Neuron with  459 spikes\n",
      "    Excluded neuron with n spikes =  459\n",
      "  Neuron with  322 spikes\n",
      "    Excluded neuron with n spikes =  322\n",
      "  Neuron with  372 spikes\n",
      "    Excluded neuron with n spikes =  372\n",
      "  Neuron with  376 spikes\n",
      "    Excluded neuron with n spikes =  376\n",
      "  Neuron with  368 spikes\n",
      "    Excluded neuron with n spikes =  368\n",
      "  Neuron with  215 spikes\n",
      "    Excluded neuron with n spikes =  215\n",
      "  Neuron with  498 spikes\n",
      "    Excluded neuron with n spikes =  498\n",
      "  Neuron with  203 spikes\n",
      "    Excluded neuron with n spikes =  203\n",
      "  Neuron with  364 spikes\n",
      "    Excluded neuron with n spikes =  364\n",
      "  Neuron with  250 spikes\n",
      "    Excluded neuron with n spikes =  250\n",
      "  Neuron with  233 spikes\n",
      "    Excluded neuron with n spikes =  233\n",
      "  Neuron with  347 spikes\n",
      "    Excluded neuron with n spikes =  347\n",
      "  Neuron with  343 spikes\n",
      "    Excluded neuron with n spikes =  343\n",
      "  Neuron with  195 spikes\n",
      "    Excluded neuron with n spikes =  195\n",
      "  Neuron with  419 spikes\n",
      "    Excluded neuron with n spikes =  419\n",
      "  Neuron with  232 spikes\n",
      "    Excluded neuron with n spikes =  232\n",
      "  Neuron with  386 spikes\n",
      "    Excluded neuron with n spikes =  386\n",
      "  Neuron with  456 spikes\n",
      "    Excluded neuron with n spikes =  456\n",
      "  Neuron with  517 spikes\n",
      "    Excluded neuron with n spikes =  517\n",
      "  Neuron with  263 spikes\n",
      "    Excluded neuron with n spikes =  263\n",
      "  Neuron with  366 spikes\n",
      "    Excluded neuron with n spikes =  366\n",
      "  Neuron with  381 spikes\n",
      "    Excluded neuron with n spikes =  381\n",
      "  Neuron with  398 spikes\n",
      "    Excluded neuron with n spikes =  398\n",
      "  Neuron with  364 spikes\n",
      "    Excluded neuron with n spikes =  364\n",
      "  Neuron with  274 spikes\n",
      "    Excluded neuron with n spikes =  274\n",
      "  Neuron with  378 spikes\n",
      "    Excluded neuron with n spikes =  378\n",
      "  Neuron with  306 spikes\n",
      "    Excluded neuron with n spikes =  306\n",
      "  Neuron with  402 spikes\n",
      "    Excluded neuron with n spikes =  402\n",
      "  Neuron with  425 spikes\n",
      "    Excluded neuron with n spikes =  425\n",
      "  Neuron with  386 spikes\n",
      "    Excluded neuron with n spikes =  386\n",
      "  Neuron with  436 spikes\n",
      "    Excluded neuron with n spikes =  436\n",
      "  Neuron with  343 spikes\n",
      "    Excluded neuron with n spikes =  343\n",
      "  Neuron with  389 spikes\n",
      "    Excluded neuron with n spikes =  389\n",
      "  Neuron with  575 spikes\n",
      "    Excluded neuron with n spikes =  575\n",
      "  Neuron with  201 spikes\n",
      "    Excluded neuron with n spikes =  201\n",
      "  Neuron with  395 spikes\n",
      "    Excluded neuron with n spikes =  395\n",
      "  Neuron with  255 spikes\n",
      "    Excluded neuron with n spikes =  255\n",
      "  Neuron with  336 spikes\n",
      "    Excluded neuron with n spikes =  336\n",
      "  Neuron with  366 spikes\n",
      "    Excluded neuron with n spikes =  366\n",
      "  Neuron with  359 spikes\n",
      "    Excluded neuron with n spikes =  359\n",
      "  Neuron with  331 spikes\n",
      "    Excluded neuron with n spikes =  331\n",
      "  Neuron with  575 spikes\n",
      "    Excluded neuron with n spikes =  575\n",
      "  Neuron with  201 spikes\n",
      "    Excluded neuron with n spikes =  201\n",
      "  Neuron with  395 spikes\n",
      "    Excluded neuron with n spikes =  395\n",
      "  Neuron with  255 spikes\n",
      "    Excluded neuron with n spikes =  255\n",
      "  Neuron with  336 spikes\n",
      "    Excluded neuron with n spikes =  336\n",
      "  Neuron with  366 spikes\n",
      "    Excluded neuron with n spikes =  366\n",
      "  Neuron with  359 spikes\n",
      "    Excluded neuron with n spikes =  359\n",
      "  Neuron with  331 spikes\n",
      "    Excluded neuron with n spikes =  331\n",
      "  Neuron with  575 spikes\n",
      "    Excluded neuron with n spikes =  575\n",
      "  Neuron with  201 spikes\n",
      "    Excluded neuron with n spikes =  201\n",
      "  Neuron with  395 spikes\n",
      "    Excluded neuron with n spikes =  395\n",
      "  Neuron with  255 spikes\n",
      "    Excluded neuron with n spikes =  255\n",
      "  Neuron with  336 spikes\n",
      "    Excluded neuron with n spikes =  336\n",
      "  Neuron with  366 spikes\n",
      "    Excluded neuron with n spikes =  366\n",
      "  Neuron with  359 spikes\n",
      "    Excluded neuron with n spikes =  359\n",
      "  Neuron with  331 spikes\n",
      "    Excluded neuron with n spikes =  331\n",
      "  Neuron with  575 spikes\n",
      "    Excluded neuron with n spikes =  575\n",
      "  Neuron with  201 spikes\n",
      "    Excluded neuron with n spikes =  201\n",
      "  Neuron with  395 spikes\n",
      "    Excluded neuron with n spikes =  395\n",
      "  Neuron with  255 spikes\n",
      "    Excluded neuron with n spikes =  255\n",
      "  Neuron with  336 spikes\n",
      "    Excluded neuron with n spikes =  336\n",
      "  Neuron with  366 spikes\n",
      "    Excluded neuron with n spikes =  366\n",
      "  Neuron with  359 spikes\n",
      "    Excluded neuron with n spikes =  359\n",
      "  Neuron with  331 spikes\n",
      "    Excluded neuron with n spikes =  331\n",
      "  Neuron with  575 spikes\n",
      "    Excluded neuron with n spikes =  575\n",
      "  Neuron with  201 spikes\n",
      "    Excluded neuron with n spikes =  201\n",
      "  Neuron with  395 spikes\n",
      "    Excluded neuron with n spikes =  395\n",
      "  Neuron with  255 spikes\n",
      "    Excluded neuron with n spikes =  255\n",
      "  Neuron with  336 spikes\n",
      "    Excluded neuron with n spikes =  336\n",
      "  Neuron with  366 spikes\n",
      "    Excluded neuron with n spikes =  366\n",
      "  Neuron with  359 spikes\n",
      "    Excluded neuron with n spikes =  359\n",
      "  Neuron with  331 spikes\n",
      "    Excluded neuron with n spikes =  331\n",
      "  Neuron with  575 spikes\n",
      "    Excluded neuron with n spikes =  575\n",
      "  Neuron with  201 spikes\n",
      "    Excluded neuron with n spikes =  201\n",
      "  Neuron with  395 spikes\n",
      "    Excluded neuron with n spikes =  395\n",
      "  Neuron with  255 spikes\n",
      "    Excluded neuron with n spikes =  255\n",
      "  Neuron with  336 spikes\n",
      "    Excluded neuron with n spikes =  336\n",
      "  Neuron with  366 spikes\n",
      "    Excluded neuron with n spikes =  366\n",
      "  Neuron with  359 spikes\n",
      "    Excluded neuron with n spikes =  359\n",
      "  Neuron with  331 spikes\n",
      "    Excluded neuron with n spikes =  331\n",
      "  Neuron with  575 spikes\n",
      "    Excluded neuron with n spikes =  575\n",
      "  Neuron with  201 spikes\n",
      "    Excluded neuron with n spikes =  201\n",
      "  Neuron with  395 spikes\n",
      "    Excluded neuron with n spikes =  395\n",
      "  Neuron with  255 spikes\n",
      "    Excluded neuron with n spikes =  255\n",
      "  Neuron with  336 spikes\n",
      "    Excluded neuron with n spikes =  336\n",
      "  Neuron with  366 spikes\n",
      "    Excluded neuron with n spikes =  366\n",
      "  Neuron with  359 spikes\n",
      "    Excluded neuron with n spikes =  359\n",
      "  Neuron with  331 spikes\n",
      "    Excluded neuron with n spikes =  331\n",
      "Final number of neurons:  0\n",
      "Target =  0\n",
      "8 )  Data after SS/After2019-01-23T16-22-47Pop3 healthy cortical .h5.txt.txt\n"
     ]
    },
    {
     "name": "stdout",
     "output_type": "stream",
     "text": [
      "Original number of neurons:  96\n",
      "  Neuron with  406 spikes\n",
      "    Excluded neuron with n spikes =  406\n",
      "  Neuron with  546 spikes\n",
      "    Excluded neuron with n spikes =  546\n",
      "  Neuron with  462 spikes\n",
      "    Excluded neuron with n spikes =  462\n",
      "  Neuron with  329 spikes\n",
      "    Excluded neuron with n spikes =  329\n",
      "  Neuron with  491 spikes\n",
      "    Excluded neuron with n spikes =  491\n",
      "  Neuron with  416 spikes\n",
      "    Excluded neuron with n spikes =  416\n",
      "  Neuron with  374 spikes\n",
      "    Excluded neuron with n spikes =  374\n",
      "  Neuron with  432 spikes\n",
      "    Excluded neuron with n spikes =  432\n",
      "  Neuron with  221 spikes\n",
      "    Excluded neuron with n spikes =  221\n",
      "  Neuron with  370 spikes\n",
      "    Excluded neuron with n spikes =  370\n",
      "  Neuron with  323 spikes\n",
      "    Excluded neuron with n spikes =  323\n",
      "  Neuron with  309 spikes\n",
      "    Excluded neuron with n spikes =  309\n",
      "  Neuron with  394 spikes\n",
      "    Excluded neuron with n spikes =  394\n",
      "  Neuron with  392 spikes\n",
      "    Excluded neuron with n spikes =  392\n",
      "  Neuron with  474 spikes\n",
      "    Excluded neuron with n spikes =  474\n",
      "  Neuron with  315 spikes\n",
      "    Excluded neuron with n spikes =  315\n",
      "  Neuron with  237 spikes\n",
      "    Excluded neuron with n spikes =  237\n",
      "  Neuron with  323 spikes\n",
      "    Excluded neuron with n spikes =  323\n",
      "  Neuron with  317 spikes\n",
      "    Excluded neuron with n spikes =  317\n",
      "  Neuron with  395 spikes\n",
      "    Excluded neuron with n spikes =  395\n",
      "  Neuron with  433 spikes\n",
      "    Excluded neuron with n spikes =  433\n",
      "  Neuron with  252 spikes\n",
      "    Excluded neuron with n spikes =  252\n",
      "  Neuron with  257 spikes\n",
      "    Excluded neuron with n spikes =  257\n",
      "  Neuron with  449 spikes\n",
      "    Excluded neuron with n spikes =  449\n",
      "  Neuron with  251 spikes\n",
      "    Excluded neuron with n spikes =  251\n",
      "  Neuron with  489 spikes\n",
      "    Excluded neuron with n spikes =  489\n",
      "  Neuron with  430 spikes\n",
      "    Excluded neuron with n spikes =  430\n",
      "  Neuron with  364 spikes\n",
      "    Excluded neuron with n spikes =  364\n",
      "  Neuron with  465 spikes\n",
      "    Excluded neuron with n spikes =  465\n",
      "  Neuron with  387 spikes\n",
      "    Excluded neuron with n spikes =  387\n",
      "  Neuron with  542 spikes\n",
      "    Excluded neuron with n spikes =  542\n",
      "  Neuron with  348 spikes\n",
      "    Excluded neuron with n spikes =  348\n",
      "  Neuron with  505 spikes\n",
      "    Excluded neuron with n spikes =  505\n",
      "  Neuron with  600 spikes\n",
      "    Excluded neuron with n spikes =  600\n",
      "  Neuron with  352 spikes\n",
      "    Excluded neuron with n spikes =  352\n",
      "  Neuron with  543 spikes\n",
      "    Excluded neuron with n spikes =  543\n",
      "  Neuron with  724 spikes\n",
      "    Excluded neuron with n spikes =  724\n",
      "  Neuron with  411 spikes\n",
      "    Excluded neuron with n spikes =  411\n",
      "  Neuron with  471 spikes\n",
      "    Excluded neuron with n spikes =  471\n",
      "  Neuron with  773 spikes\n",
      "    Excluded neuron with n spikes =  773\n",
      "  Neuron with  328 spikes\n",
      "    Excluded neuron with n spikes =  328\n",
      "  Neuron with  509 spikes\n",
      "    Excluded neuron with n spikes =  509\n",
      "  Neuron with  249 spikes\n",
      "    Excluded neuron with n spikes =  249\n",
      "  Neuron with  467 spikes\n",
      "    Excluded neuron with n spikes =  467\n",
      "  Neuron with  664 spikes\n",
      "    Excluded neuron with n spikes =  664\n",
      "  Neuron with  365 spikes\n",
      "    Excluded neuron with n spikes =  365\n",
      "  Neuron with  338 spikes\n",
      "    Excluded neuron with n spikes =  338\n",
      "  Neuron with  385 spikes\n",
      "    Excluded neuron with n spikes =  385\n",
      "  Neuron with  328 spikes\n",
      "    Excluded neuron with n spikes =  328\n",
      "  Neuron with  509 spikes\n",
      "    Excluded neuron with n spikes =  509\n",
      "  Neuron with  249 spikes\n",
      "    Excluded neuron with n spikes =  249\n",
      "  Neuron with  467 spikes\n",
      "    Excluded neuron with n spikes =  467\n",
      "  Neuron with  664 spikes\n",
      "    Excluded neuron with n spikes =  664\n",
      "  Neuron with  365 spikes\n",
      "    Excluded neuron with n spikes =  365\n",
      "  Neuron with  338 spikes\n",
      "    Excluded neuron with n spikes =  338\n",
      "  Neuron with  385 spikes\n",
      "    Excluded neuron with n spikes =  385\n",
      "  Neuron with  328 spikes\n",
      "    Excluded neuron with n spikes =  328\n",
      "  Neuron with  509 spikes\n",
      "    Excluded neuron with n spikes =  509\n",
      "  Neuron with  249 spikes\n",
      "    Excluded neuron with n spikes =  249\n",
      "  Neuron with  467 spikes\n",
      "    Excluded neuron with n spikes =  467\n",
      "  Neuron with  664 spikes\n",
      "    Excluded neuron with n spikes =  664\n",
      "  Neuron with  365 spikes\n",
      "    Excluded neuron with n spikes =  365\n",
      "  Neuron with  338 spikes\n",
      "    Excluded neuron with n spikes =  338\n",
      "  Neuron with  385 spikes\n",
      "    Excluded neuron with n spikes =  385\n",
      "  Neuron with  328 spikes\n",
      "    Excluded neuron with n spikes =  328\n",
      "  Neuron with  509 spikes\n",
      "    Excluded neuron with n spikes =  509\n",
      "  Neuron with  249 spikes\n",
      "    Excluded neuron with n spikes =  249\n",
      "  Neuron with  467 spikes\n",
      "    Excluded neuron with n spikes =  467\n",
      "  Neuron with  664 spikes\n",
      "    Excluded neuron with n spikes =  664\n",
      "  Neuron with  365 spikes\n",
      "    Excluded neuron with n spikes =  365\n",
      "  Neuron with  338 spikes\n",
      "    Excluded neuron with n spikes =  338\n",
      "  Neuron with  385 spikes\n",
      "    Excluded neuron with n spikes =  385\n",
      "  Neuron with  328 spikes\n",
      "    Excluded neuron with n spikes =  328\n",
      "  Neuron with  509 spikes\n",
      "    Excluded neuron with n spikes =  509\n",
      "  Neuron with  249 spikes\n",
      "    Excluded neuron with n spikes =  249\n",
      "  Neuron with  467 spikes\n",
      "    Excluded neuron with n spikes =  467\n",
      "  Neuron with  664 spikes\n",
      "    Excluded neuron with n spikes =  664\n",
      "  Neuron with  365 spikes\n",
      "    Excluded neuron with n spikes =  365\n",
      "  Neuron with  338 spikes\n",
      "    Excluded neuron with n spikes =  338\n",
      "  Neuron with  385 spikes\n",
      "    Excluded neuron with n spikes =  385\n",
      "  Neuron with  328 spikes\n",
      "    Excluded neuron with n spikes =  328\n",
      "  Neuron with  509 spikes\n",
      "    Excluded neuron with n spikes =  509\n",
      "  Neuron with  249 spikes\n",
      "    Excluded neuron with n spikes =  249\n",
      "  Neuron with  467 spikes\n",
      "    Excluded neuron with n spikes =  467\n",
      "  Neuron with  664 spikes\n",
      "    Excluded neuron with n spikes =  664\n",
      "  Neuron with  365 spikes\n",
      "    Excluded neuron with n spikes =  365\n",
      "  Neuron with  338 spikes\n",
      "    Excluded neuron with n spikes =  338\n",
      "  Neuron with  385 spikes\n",
      "    Excluded neuron with n spikes =  385\n",
      "  Neuron with  328 spikes\n",
      "    Excluded neuron with n spikes =  328\n",
      "  Neuron with  509 spikes\n",
      "    Excluded neuron with n spikes =  509\n",
      "  Neuron with  249 spikes\n",
      "    Excluded neuron with n spikes =  249\n",
      "  Neuron with  467 spikes\n",
      "    Excluded neuron with n spikes =  467\n",
      "  Neuron with  664 spikes\n",
      "    Excluded neuron with n spikes =  664\n",
      "  Neuron with  365 spikes\n",
      "    Excluded neuron with n spikes =  365\n",
      "  Neuron with  338 spikes\n",
      "    Excluded neuron with n spikes =  338\n",
      "  Neuron with  385 spikes\n",
      "    Excluded neuron with n spikes =  385\n",
      "Final number of neurons:  0\n",
      "Target =  0\n",
      "9 )  Data after SS/After2018-11-27T12-03-02POP 2 stimulation.h5.txt.txt\n",
      "Original number of neurons:  80\n",
      "  Neuron with  338 spikes\n",
      "    Excluded neuron with n spikes =  338\n",
      "  Neuron with  343 spikes\n",
      "    Excluded neuron with n spikes =  343\n",
      "  Neuron with  551 spikes\n",
      "    Excluded neuron with n spikes =  551\n",
      "  Neuron with  476 spikes\n",
      "    Excluded neuron with n spikes =  476\n",
      "  Neuron with  822 spikes\n"
     ]
    },
    {
     "name": "stderr",
     "output_type": "stream",
     "text": [
      "Sequential sampling (1 chains in 1 job)\n",
      "NUTS: [mu1, lam1, mu2, sigma2, mu3, sigma3, w]\n"
     ]
    },
    {
     "data": {
      "text/html": [
       "\n",
       "<style>\n",
       "    /* Turns off some styling */\n",
       "    progress {\n",
       "        /* gets rid of default border in Firefox and Opera. */\n",
       "        border: none;\n",
       "        /* Needs to be in here for Safari polyfill so background images work as expected. */\n",
       "        background-size: auto;\n",
       "    }\n",
       "    progress:not([value]), progress:not([value])::-webkit-progress-bar {\n",
       "        background: repeating-linear-gradient(45deg, #7e7e7e, #7e7e7e 10px, #5c5c5c 10px, #5c5c5c 20px);\n",
       "    }\n",
       "    .progress-bar-interrupted, .progress-bar-interrupted::-webkit-progress-bar {\n",
       "        background: #F44336;\n",
       "    }\n",
       "</style>\n"
      ],
      "text/plain": [
       "<IPython.core.display.HTML object>"
      ]
     },
     "metadata": {},
     "output_type": "display_data"
    },
    {
     "data": {
      "text/html": [
       "\n",
       "    <div>\n",
       "      <progress value='2000' class='' max='2000' style='width:300px; height:20px; vertical-align: middle;'></progress>\n",
       "      100.00% [2000/2000 00:45&lt;00:00 Sampling chain 0, 0 divergences]\n",
       "    </div>\n",
       "    "
      ],
      "text/plain": [
       "<IPython.core.display.HTML object>"
      ]
     },
     "metadata": {},
     "output_type": "display_data"
    },
    {
     "name": "stderr",
     "output_type": "stream",
     "text": [
      "Sampling 1 chain for 1_000 tune and 1_000 draw iterations (1_000 + 1_000 draws total) took 46 seconds.\n",
      "Only one chain was sampled, this makes it impossible to run some convergence checks\n"
     ]
    },
    {
     "data": {
      "text/html": [
       "\n",
       "<style>\n",
       "    /* Turns off some styling */\n",
       "    progress {\n",
       "        /* gets rid of default border in Firefox and Opera. */\n",
       "        border: none;\n",
       "        /* Needs to be in here for Safari polyfill so background images work as expected. */\n",
       "        background-size: auto;\n",
       "    }\n",
       "    progress:not([value]), progress:not([value])::-webkit-progress-bar {\n",
       "        background: repeating-linear-gradient(45deg, #7e7e7e, #7e7e7e 10px, #5c5c5c 10px, #5c5c5c 20px);\n",
       "    }\n",
       "    .progress-bar-interrupted, .progress-bar-interrupted::-webkit-progress-bar {\n",
       "        background: #F44336;\n",
       "    }\n",
       "</style>\n"
      ],
      "text/plain": [
       "<IPython.core.display.HTML object>"
      ]
     },
     "metadata": {},
     "output_type": "display_data"
    },
    {
     "data": {
      "text/html": [
       "\n",
       "    <div>\n",
       "      <progress value='45' class='' max='45' style='width:300px; height:20px; vertical-align: middle;'></progress>\n",
       "      100.00% [45/45 00:00&lt;00:00 logp = 349.54, ||grad|| = 0.019605]\n",
       "    </div>\n",
       "    "
      ],
      "text/plain": [
       "<IPython.core.display.HTML object>"
      ]
     },
     "metadata": {},
     "output_type": "display_data"
    },
    {
     "name": "stdout",
     "output_type": "stream",
     "text": [
      "\n",
      "  Neuron with  357 spikes\n",
      "    Excluded neuron with n spikes =  357\n",
      "  Neuron with  604 spikes\n",
      "    Excluded neuron with n spikes =  604\n",
      "  Neuron with  913 spikes\n"
     ]
    },
    {
     "name": "stderr",
     "output_type": "stream",
     "text": [
      "Sequential sampling (1 chains in 1 job)\n",
      "NUTS: [mu1, lam1, mu2, sigma2, mu3, sigma3, w]\n"
     ]
    },
    {
     "data": {
      "text/html": [
       "\n",
       "<style>\n",
       "    /* Turns off some styling */\n",
       "    progress {\n",
       "        /* gets rid of default border in Firefox and Opera. */\n",
       "        border: none;\n",
       "        /* Needs to be in here for Safari polyfill so background images work as expected. */\n",
       "        background-size: auto;\n",
       "    }\n",
       "    progress:not([value]), progress:not([value])::-webkit-progress-bar {\n",
       "        background: repeating-linear-gradient(45deg, #7e7e7e, #7e7e7e 10px, #5c5c5c 10px, #5c5c5c 20px);\n",
       "    }\n",
       "    .progress-bar-interrupted, .progress-bar-interrupted::-webkit-progress-bar {\n",
       "        background: #F44336;\n",
       "    }\n",
       "</style>\n"
      ],
      "text/plain": [
       "<IPython.core.display.HTML object>"
      ]
     },
     "metadata": {},
     "output_type": "display_data"
    },
    {
     "data": {
      "text/html": [
       "\n",
       "    <div>\n",
       "      <progress value='2000' class='' max='2000' style='width:300px; height:20px; vertical-align: middle;'></progress>\n",
       "      100.00% [2000/2000 00:54&lt;00:00 Sampling chain 0, 0 divergences]\n",
       "    </div>\n",
       "    "
      ],
      "text/plain": [
       "<IPython.core.display.HTML object>"
      ]
     },
     "metadata": {},
     "output_type": "display_data"
    },
    {
     "name": "stderr",
     "output_type": "stream",
     "text": [
      "Sampling 1 chain for 1_000 tune and 1_000 draw iterations (1_000 + 1_000 draws total) took 55 seconds.\n",
      "Only one chain was sampled, this makes it impossible to run some convergence checks\n"
     ]
    },
    {
     "data": {
      "text/html": [
       "\n",
       "<style>\n",
       "    /* Turns off some styling */\n",
       "    progress {\n",
       "        /* gets rid of default border in Firefox and Opera. */\n",
       "        border: none;\n",
       "        /* Needs to be in here for Safari polyfill so background images work as expected. */\n",
       "        background-size: auto;\n",
       "    }\n",
       "    progress:not([value]), progress:not([value])::-webkit-progress-bar {\n",
       "        background: repeating-linear-gradient(45deg, #7e7e7e, #7e7e7e 10px, #5c5c5c 10px, #5c5c5c 20px);\n",
       "    }\n",
       "    .progress-bar-interrupted, .progress-bar-interrupted::-webkit-progress-bar {\n",
       "        background: #F44336;\n",
       "    }\n",
       "</style>\n"
      ],
      "text/plain": [
       "<IPython.core.display.HTML object>"
      ]
     },
     "metadata": {},
     "output_type": "display_data"
    },
    {
     "data": {
      "text/html": [
       "\n",
       "    <div>\n",
       "      <progress value='91' class='' max='91' style='width:300px; height:20px; vertical-align: middle;'></progress>\n",
       "      100.00% [91/91 00:00&lt;00:00 logp = 485.33, ||grad|| = 0.0028192]\n",
       "    </div>\n",
       "    "
      ],
      "text/plain": [
       "<IPython.core.display.HTML object>"
      ]
     },
     "metadata": {},
     "output_type": "display_data"
    },
    {
     "name": "stdout",
     "output_type": "stream",
     "text": [
      "\n",
      "  Neuron with  628 spikes\n",
      "    Excluded neuron with n spikes =  628\n",
      "  Neuron with  446 spikes\n",
      "    Excluded neuron with n spikes =  446\n",
      "  Neuron with  402 spikes\n",
      "    Excluded neuron with n spikes =  402\n",
      "  Neuron with  368 spikes\n",
      "    Excluded neuron with n spikes =  368\n",
      "  Neuron with  770 spikes\n",
      "    Excluded neuron with n spikes =  770\n",
      "  Neuron with  487 spikes\n",
      "    Excluded neuron with n spikes =  487\n",
      "  Neuron with  299 spikes\n",
      "    Excluded neuron with n spikes =  299\n",
      "  Neuron with  371 spikes\n",
      "    Excluded neuron with n spikes =  371\n",
      "  Neuron with  606 spikes\n",
      "    Excluded neuron with n spikes =  606\n",
      "  Neuron with  303 spikes\n",
      "    Excluded neuron with n spikes =  303\n",
      "  Neuron with  370 spikes\n",
      "    Excluded neuron with n spikes =  370\n",
      "  Neuron with  417 spikes\n",
      "    Excluded neuron with n spikes =  417\n",
      "  Neuron with  317 spikes\n",
      "    Excluded neuron with n spikes =  317\n",
      "  Neuron with  199 spikes\n",
      "    Excluded neuron with n spikes =  199\n",
      "  Neuron with  231 spikes\n",
      "    Excluded neuron with n spikes =  231\n",
      "  Neuron with  746 spikes\n",
      "    Excluded neuron with n spikes =  746\n",
      "  Neuron with  453 spikes\n",
      "    Excluded neuron with n spikes =  453\n",
      "  Neuron with  311 spikes\n",
      "    Excluded neuron with n spikes =  311\n",
      "  Neuron with  312 spikes\n",
      "    Excluded neuron with n spikes =  312\n",
      "  Neuron with  264 spikes\n",
      "    Excluded neuron with n spikes =  264\n",
      "  Neuron with  438 spikes\n",
      "    Excluded neuron with n spikes =  438\n",
      "  Neuron with  402 spikes\n",
      "    Excluded neuron with n spikes =  402\n",
      "  Neuron with  533 spikes\n",
      "    Excluded neuron with n spikes =  533\n",
      "  Neuron with  400 spikes\n",
      "    Excluded neuron with n spikes =  400\n",
      "  Neuron with  642 spikes\n",
      "    Excluded neuron with n spikes =  642\n",
      "  Neuron with  828 spikes\n"
     ]
    },
    {
     "name": "stderr",
     "output_type": "stream",
     "text": [
      "Sequential sampling (1 chains in 1 job)\n",
      "NUTS: [mu1, lam1, mu2, sigma2, mu3, sigma3, w]\n"
     ]
    },
    {
     "data": {
      "text/html": [
       "\n",
       "<style>\n",
       "    /* Turns off some styling */\n",
       "    progress {\n",
       "        /* gets rid of default border in Firefox and Opera. */\n",
       "        border: none;\n",
       "        /* Needs to be in here for Safari polyfill so background images work as expected. */\n",
       "        background-size: auto;\n",
       "    }\n",
       "    progress:not([value]), progress:not([value])::-webkit-progress-bar {\n",
       "        background: repeating-linear-gradient(45deg, #7e7e7e, #7e7e7e 10px, #5c5c5c 10px, #5c5c5c 20px);\n",
       "    }\n",
       "    .progress-bar-interrupted, .progress-bar-interrupted::-webkit-progress-bar {\n",
       "        background: #F44336;\n",
       "    }\n",
       "</style>\n"
      ],
      "text/plain": [
       "<IPython.core.display.HTML object>"
      ]
     },
     "metadata": {},
     "output_type": "display_data"
    },
    {
     "data": {
      "text/html": [
       "\n",
       "    <div>\n",
       "      <progress value='2000' class='' max='2000' style='width:300px; height:20px; vertical-align: middle;'></progress>\n",
       "      100.00% [2000/2000 00:51&lt;00:00 Sampling chain 0, 0 divergences]\n",
       "    </div>\n",
       "    "
      ],
      "text/plain": [
       "<IPython.core.display.HTML object>"
      ]
     },
     "metadata": {},
     "output_type": "display_data"
    },
    {
     "name": "stderr",
     "output_type": "stream",
     "text": [
      "Sampling 1 chain for 1_000 tune and 1_000 draw iterations (1_000 + 1_000 draws total) took 51 seconds.\n",
      "Only one chain was sampled, this makes it impossible to run some convergence checks\n"
     ]
    },
    {
     "data": {
      "text/html": [
       "\n",
       "<style>\n",
       "    /* Turns off some styling */\n",
       "    progress {\n",
       "        /* gets rid of default border in Firefox and Opera. */\n",
       "        border: none;\n",
       "        /* Needs to be in here for Safari polyfill so background images work as expected. */\n",
       "        background-size: auto;\n",
       "    }\n",
       "    progress:not([value]), progress:not([value])::-webkit-progress-bar {\n",
       "        background: repeating-linear-gradient(45deg, #7e7e7e, #7e7e7e 10px, #5c5c5c 10px, #5c5c5c 20px);\n",
       "    }\n",
       "    .progress-bar-interrupted, .progress-bar-interrupted::-webkit-progress-bar {\n",
       "        background: #F44336;\n",
       "    }\n",
       "</style>\n"
      ],
      "text/plain": [
       "<IPython.core.display.HTML object>"
      ]
     },
     "metadata": {},
     "output_type": "display_data"
    },
    {
     "data": {
      "text/html": [
       "\n",
       "    <div>\n",
       "      <progress value='67' class='' max='67' style='width:300px; height:20px; vertical-align: middle;'></progress>\n",
       "      100.00% [67/67 00:00&lt;00:00 logp = 358.43, ||grad|| = 0.0053145]\n",
       "    </div>\n",
       "    "
      ],
      "text/plain": [
       "<IPython.core.display.HTML object>"
      ]
     },
     "metadata": {},
     "output_type": "display_data"
    },
    {
     "name": "stdout",
     "output_type": "stream",
     "text": [
      "\n",
      "  Neuron with  504 spikes\n",
      "    Excluded neuron with n spikes =  504\n",
      "  Neuron with  402 spikes\n",
      "    Excluded neuron with n spikes =  402\n",
      "  Neuron with  694 spikes\n",
      "    Excluded neuron with n spikes =  694\n",
      "  Neuron with  349 spikes\n",
      "    Excluded neuron with n spikes =  349\n",
      "  Neuron with  983 spikes\n"
     ]
    },
    {
     "name": "stderr",
     "output_type": "stream",
     "text": [
      "Sequential sampling (1 chains in 1 job)\n",
      "NUTS: [mu1, lam1, mu2, sigma2, mu3, sigma3, w]\n"
     ]
    },
    {
     "data": {
      "text/html": [
       "\n",
       "<style>\n",
       "    /* Turns off some styling */\n",
       "    progress {\n",
       "        /* gets rid of default border in Firefox and Opera. */\n",
       "        border: none;\n",
       "        /* Needs to be in here for Safari polyfill so background images work as expected. */\n",
       "        background-size: auto;\n",
       "    }\n",
       "    progress:not([value]), progress:not([value])::-webkit-progress-bar {\n",
       "        background: repeating-linear-gradient(45deg, #7e7e7e, #7e7e7e 10px, #5c5c5c 10px, #5c5c5c 20px);\n",
       "    }\n",
       "    .progress-bar-interrupted, .progress-bar-interrupted::-webkit-progress-bar {\n",
       "        background: #F44336;\n",
       "    }\n",
       "</style>\n"
      ],
      "text/plain": [
       "<IPython.core.display.HTML object>"
      ]
     },
     "metadata": {},
     "output_type": "display_data"
    },
    {
     "data": {
      "text/html": [
       "\n",
       "    <div>\n",
       "      <progress value='2000' class='' max='2000' style='width:300px; height:20px; vertical-align: middle;'></progress>\n",
       "      100.00% [2000/2000 01:02&lt;00:00 Sampling chain 0, 0 divergences]\n",
       "    </div>\n",
       "    "
      ],
      "text/plain": [
       "<IPython.core.display.HTML object>"
      ]
     },
     "metadata": {},
     "output_type": "display_data"
    },
    {
     "name": "stderr",
     "output_type": "stream",
     "text": [
      "Sampling 1 chain for 1_000 tune and 1_000 draw iterations (1_000 + 1_000 draws total) took 62 seconds.\n",
      "Only one chain was sampled, this makes it impossible to run some convergence checks\n"
     ]
    },
    {
     "data": {
      "text/html": [
       "\n",
       "<style>\n",
       "    /* Turns off some styling */\n",
       "    progress {\n",
       "        /* gets rid of default border in Firefox and Opera. */\n",
       "        border: none;\n",
       "        /* Needs to be in here for Safari polyfill so background images work as expected. */\n",
       "        background-size: auto;\n",
       "    }\n",
       "    progress:not([value]), progress:not([value])::-webkit-progress-bar {\n",
       "        background: repeating-linear-gradient(45deg, #7e7e7e, #7e7e7e 10px, #5c5c5c 10px, #5c5c5c 20px);\n",
       "    }\n",
       "    .progress-bar-interrupted, .progress-bar-interrupted::-webkit-progress-bar {\n",
       "        background: #F44336;\n",
       "    }\n",
       "</style>\n"
      ],
      "text/plain": [
       "<IPython.core.display.HTML object>"
      ]
     },
     "metadata": {},
     "output_type": "display_data"
    },
    {
     "data": {
      "text/html": [
       "\n",
       "    <div>\n",
       "      <progress value='78' class='' max='78' style='width:300px; height:20px; vertical-align: middle;'></progress>\n",
       "      100.00% [78/78 00:00&lt;00:00 logp = 591.45, ||grad|| = 0.13744]\n",
       "    </div>\n",
       "    "
      ],
      "text/plain": [
       "<IPython.core.display.HTML object>"
      ]
     },
     "metadata": {},
     "output_type": "display_data"
    },
    {
     "name": "stdout",
     "output_type": "stream",
     "text": [
      "\n",
      "  Neuron with  597 spikes\n",
      "    Excluded neuron with n spikes =  597\n",
      "  Neuron with  740 spikes\n",
      "    Excluded neuron with n spikes =  740\n",
      "  Neuron with  369 spikes\n",
      "    Excluded neuron with n spikes =  369\n",
      "  Neuron with  445 spikes\n",
      "    Excluded neuron with n spikes =  445\n",
      "  Neuron with  312 spikes\n",
      "    Excluded neuron with n spikes =  312\n",
      "  Neuron with  983 spikes\n"
     ]
    },
    {
     "name": "stderr",
     "output_type": "stream",
     "text": [
      "Sequential sampling (1 chains in 1 job)\n",
      "NUTS: [mu1, lam1, mu2, sigma2, mu3, sigma3, w]\n"
     ]
    },
    {
     "data": {
      "text/html": [
       "\n",
       "<style>\n",
       "    /* Turns off some styling */\n",
       "    progress {\n",
       "        /* gets rid of default border in Firefox and Opera. */\n",
       "        border: none;\n",
       "        /* Needs to be in here for Safari polyfill so background images work as expected. */\n",
       "        background-size: auto;\n",
       "    }\n",
       "    progress:not([value]), progress:not([value])::-webkit-progress-bar {\n",
       "        background: repeating-linear-gradient(45deg, #7e7e7e, #7e7e7e 10px, #5c5c5c 10px, #5c5c5c 20px);\n",
       "    }\n",
       "    .progress-bar-interrupted, .progress-bar-interrupted::-webkit-progress-bar {\n",
       "        background: #F44336;\n",
       "    }\n",
       "</style>\n"
      ],
      "text/plain": [
       "<IPython.core.display.HTML object>"
      ]
     },
     "metadata": {},
     "output_type": "display_data"
    },
    {
     "data": {
      "text/html": [
       "\n",
       "    <div>\n",
       "      <progress value='2000' class='' max='2000' style='width:300px; height:20px; vertical-align: middle;'></progress>\n",
       "      100.00% [2000/2000 00:59&lt;00:00 Sampling chain 0, 0 divergences]\n",
       "    </div>\n",
       "    "
      ],
      "text/plain": [
       "<IPython.core.display.HTML object>"
      ]
     },
     "metadata": {},
     "output_type": "display_data"
    },
    {
     "name": "stderr",
     "output_type": "stream",
     "text": [
      "Sampling 1 chain for 1_000 tune and 1_000 draw iterations (1_000 + 1_000 draws total) took 59 seconds.\n",
      "Only one chain was sampled, this makes it impossible to run some convergence checks\n"
     ]
    },
    {
     "data": {
      "text/html": [
       "\n",
       "<style>\n",
       "    /* Turns off some styling */\n",
       "    progress {\n",
       "        /* gets rid of default border in Firefox and Opera. */\n",
       "        border: none;\n",
       "        /* Needs to be in here for Safari polyfill so background images work as expected. */\n",
       "        background-size: auto;\n",
       "    }\n",
       "    progress:not([value]), progress:not([value])::-webkit-progress-bar {\n",
       "        background: repeating-linear-gradient(45deg, #7e7e7e, #7e7e7e 10px, #5c5c5c 10px, #5c5c5c 20px);\n",
       "    }\n",
       "    .progress-bar-interrupted, .progress-bar-interrupted::-webkit-progress-bar {\n",
       "        background: #F44336;\n",
       "    }\n",
       "</style>\n"
      ],
      "text/plain": [
       "<IPython.core.display.HTML object>"
      ]
     },
     "metadata": {},
     "output_type": "display_data"
    },
    {
     "data": {
      "text/html": [
       "\n",
       "    <div>\n",
       "      <progress value='78' class='' max='78' style='width:300px; height:20px; vertical-align: middle;'></progress>\n",
       "      100.00% [78/78 00:00&lt;00:00 logp = 591.45, ||grad|| = 0.13744]\n",
       "    </div>\n",
       "    "
      ],
      "text/plain": [
       "<IPython.core.display.HTML object>"
      ]
     },
     "metadata": {},
     "output_type": "display_data"
    },
    {
     "name": "stdout",
     "output_type": "stream",
     "text": [
      "\n",
      "  Neuron with  597 spikes\n",
      "    Excluded neuron with n spikes =  597\n",
      "  Neuron with  740 spikes\n",
      "    Excluded neuron with n spikes =  740\n",
      "  Neuron with  369 spikes\n",
      "    Excluded neuron with n spikes =  369\n",
      "  Neuron with  445 spikes\n",
      "    Excluded neuron with n spikes =  445\n",
      "  Neuron with  312 spikes\n",
      "    Excluded neuron with n spikes =  312\n",
      "  Neuron with  983 spikes\n"
     ]
    },
    {
     "name": "stderr",
     "output_type": "stream",
     "text": [
      "Sequential sampling (1 chains in 1 job)\n",
      "NUTS: [mu1, lam1, mu2, sigma2, mu3, sigma3, w]\n"
     ]
    },
    {
     "data": {
      "text/html": [
       "\n",
       "<style>\n",
       "    /* Turns off some styling */\n",
       "    progress {\n",
       "        /* gets rid of default border in Firefox and Opera. */\n",
       "        border: none;\n",
       "        /* Needs to be in here for Safari polyfill so background images work as expected. */\n",
       "        background-size: auto;\n",
       "    }\n",
       "    progress:not([value]), progress:not([value])::-webkit-progress-bar {\n",
       "        background: repeating-linear-gradient(45deg, #7e7e7e, #7e7e7e 10px, #5c5c5c 10px, #5c5c5c 20px);\n",
       "    }\n",
       "    .progress-bar-interrupted, .progress-bar-interrupted::-webkit-progress-bar {\n",
       "        background: #F44336;\n",
       "    }\n",
       "</style>\n"
      ],
      "text/plain": [
       "<IPython.core.display.HTML object>"
      ]
     },
     "metadata": {},
     "output_type": "display_data"
    },
    {
     "data": {
      "text/html": [
       "\n",
       "    <div>\n",
       "      <progress value='2000' class='' max='2000' style='width:300px; height:20px; vertical-align: middle;'></progress>\n",
       "      100.00% [2000/2000 00:59&lt;00:00 Sampling chain 0, 0 divergences]\n",
       "    </div>\n",
       "    "
      ],
      "text/plain": [
       "<IPython.core.display.HTML object>"
      ]
     },
     "metadata": {},
     "output_type": "display_data"
    },
    {
     "name": "stderr",
     "output_type": "stream",
     "text": [
      "Sampling 1 chain for 1_000 tune and 1_000 draw iterations (1_000 + 1_000 draws total) took 60 seconds.\n",
      "Only one chain was sampled, this makes it impossible to run some convergence checks\n"
     ]
    },
    {
     "data": {
      "text/html": [
       "\n",
       "<style>\n",
       "    /* Turns off some styling */\n",
       "    progress {\n",
       "        /* gets rid of default border in Firefox and Opera. */\n",
       "        border: none;\n",
       "        /* Needs to be in here for Safari polyfill so background images work as expected. */\n",
       "        background-size: auto;\n",
       "    }\n",
       "    progress:not([value]), progress:not([value])::-webkit-progress-bar {\n",
       "        background: repeating-linear-gradient(45deg, #7e7e7e, #7e7e7e 10px, #5c5c5c 10px, #5c5c5c 20px);\n",
       "    }\n",
       "    .progress-bar-interrupted, .progress-bar-interrupted::-webkit-progress-bar {\n",
       "        background: #F44336;\n",
       "    }\n",
       "</style>\n"
      ],
      "text/plain": [
       "<IPython.core.display.HTML object>"
      ]
     },
     "metadata": {},
     "output_type": "display_data"
    },
    {
     "data": {
      "text/html": [
       "\n",
       "    <div>\n",
       "      <progress value='78' class='' max='78' style='width:300px; height:20px; vertical-align: middle;'></progress>\n",
       "      100.00% [78/78 00:00&lt;00:00 logp = 591.45, ||grad|| = 0.13744]\n",
       "    </div>\n",
       "    "
      ],
      "text/plain": [
       "<IPython.core.display.HTML object>"
      ]
     },
     "metadata": {},
     "output_type": "display_data"
    },
    {
     "name": "stdout",
     "output_type": "stream",
     "text": [
      "\n",
      "  Neuron with  597 spikes\n",
      "    Excluded neuron with n spikes =  597\n",
      "  Neuron with  740 spikes\n",
      "    Excluded neuron with n spikes =  740\n",
      "  Neuron with  369 spikes\n",
      "    Excluded neuron with n spikes =  369\n",
      "  Neuron with  445 spikes\n",
      "    Excluded neuron with n spikes =  445\n",
      "  Neuron with  312 spikes\n",
      "    Excluded neuron with n spikes =  312\n",
      "  Neuron with  983 spikes\n"
     ]
    },
    {
     "name": "stderr",
     "output_type": "stream",
     "text": [
      "Sequential sampling (1 chains in 1 job)\n",
      "NUTS: [mu1, lam1, mu2, sigma2, mu3, sigma3, w]\n"
     ]
    },
    {
     "data": {
      "text/html": [
       "\n",
       "<style>\n",
       "    /* Turns off some styling */\n",
       "    progress {\n",
       "        /* gets rid of default border in Firefox and Opera. */\n",
       "        border: none;\n",
       "        /* Needs to be in here for Safari polyfill so background images work as expected. */\n",
       "        background-size: auto;\n",
       "    }\n",
       "    progress:not([value]), progress:not([value])::-webkit-progress-bar {\n",
       "        background: repeating-linear-gradient(45deg, #7e7e7e, #7e7e7e 10px, #5c5c5c 10px, #5c5c5c 20px);\n",
       "    }\n",
       "    .progress-bar-interrupted, .progress-bar-interrupted::-webkit-progress-bar {\n",
       "        background: #F44336;\n",
       "    }\n",
       "</style>\n"
      ],
      "text/plain": [
       "<IPython.core.display.HTML object>"
      ]
     },
     "metadata": {},
     "output_type": "display_data"
    },
    {
     "data": {
      "text/html": [
       "\n",
       "    <div>\n",
       "      <progress value='2000' class='' max='2000' style='width:300px; height:20px; vertical-align: middle;'></progress>\n",
       "      100.00% [2000/2000 00:56&lt;00:00 Sampling chain 0, 0 divergences]\n",
       "    </div>\n",
       "    "
      ],
      "text/plain": [
       "<IPython.core.display.HTML object>"
      ]
     },
     "metadata": {},
     "output_type": "display_data"
    },
    {
     "name": "stderr",
     "output_type": "stream",
     "text": [
      "Sampling 1 chain for 1_000 tune and 1_000 draw iterations (1_000 + 1_000 draws total) took 56 seconds.\n",
      "Only one chain was sampled, this makes it impossible to run some convergence checks\n"
     ]
    },
    {
     "data": {
      "text/html": [
       "\n",
       "<style>\n",
       "    /* Turns off some styling */\n",
       "    progress {\n",
       "        /* gets rid of default border in Firefox and Opera. */\n",
       "        border: none;\n",
       "        /* Needs to be in here for Safari polyfill so background images work as expected. */\n",
       "        background-size: auto;\n",
       "    }\n",
       "    progress:not([value]), progress:not([value])::-webkit-progress-bar {\n",
       "        background: repeating-linear-gradient(45deg, #7e7e7e, #7e7e7e 10px, #5c5c5c 10px, #5c5c5c 20px);\n",
       "    }\n",
       "    .progress-bar-interrupted, .progress-bar-interrupted::-webkit-progress-bar {\n",
       "        background: #F44336;\n",
       "    }\n",
       "</style>\n"
      ],
      "text/plain": [
       "<IPython.core.display.HTML object>"
      ]
     },
     "metadata": {},
     "output_type": "display_data"
    },
    {
     "data": {
      "text/html": [
       "\n",
       "    <div>\n",
       "      <progress value='78' class='' max='78' style='width:300px; height:20px; vertical-align: middle;'></progress>\n",
       "      100.00% [78/78 00:00&lt;00:00 logp = 591.45, ||grad|| = 0.13744]\n",
       "    </div>\n",
       "    "
      ],
      "text/plain": [
       "<IPython.core.display.HTML object>"
      ]
     },
     "metadata": {},
     "output_type": "display_data"
    },
    {
     "name": "stdout",
     "output_type": "stream",
     "text": [
      "\n",
      "  Neuron with  597 spikes\n",
      "    Excluded neuron with n spikes =  597\n",
      "  Neuron with  740 spikes\n",
      "    Excluded neuron with n spikes =  740\n",
      "  Neuron with  369 spikes\n",
      "    Excluded neuron with n spikes =  369\n",
      "  Neuron with  445 spikes\n",
      "    Excluded neuron with n spikes =  445\n",
      "  Neuron with  312 spikes\n",
      "    Excluded neuron with n spikes =  312\n",
      "  Neuron with  983 spikes\n"
     ]
    },
    {
     "name": "stderr",
     "output_type": "stream",
     "text": [
      "Sequential sampling (1 chains in 1 job)\n",
      "NUTS: [mu1, lam1, mu2, sigma2, mu3, sigma3, w]\n"
     ]
    },
    {
     "data": {
      "text/html": [
       "\n",
       "<style>\n",
       "    /* Turns off some styling */\n",
       "    progress {\n",
       "        /* gets rid of default border in Firefox and Opera. */\n",
       "        border: none;\n",
       "        /* Needs to be in here for Safari polyfill so background images work as expected. */\n",
       "        background-size: auto;\n",
       "    }\n",
       "    progress:not([value]), progress:not([value])::-webkit-progress-bar {\n",
       "        background: repeating-linear-gradient(45deg, #7e7e7e, #7e7e7e 10px, #5c5c5c 10px, #5c5c5c 20px);\n",
       "    }\n",
       "    .progress-bar-interrupted, .progress-bar-interrupted::-webkit-progress-bar {\n",
       "        background: #F44336;\n",
       "    }\n",
       "</style>\n"
      ],
      "text/plain": [
       "<IPython.core.display.HTML object>"
      ]
     },
     "metadata": {},
     "output_type": "display_data"
    },
    {
     "data": {
      "text/html": [
       "\n",
       "    <div>\n",
       "      <progress value='2000' class='' max='2000' style='width:300px; height:20px; vertical-align: middle;'></progress>\n",
       "      100.00% [2000/2000 00:58&lt;00:00 Sampling chain 0, 0 divergences]\n",
       "    </div>\n",
       "    "
      ],
      "text/plain": [
       "<IPython.core.display.HTML object>"
      ]
     },
     "metadata": {},
     "output_type": "display_data"
    },
    {
     "name": "stderr",
     "output_type": "stream",
     "text": [
      "Sampling 1 chain for 1_000 tune and 1_000 draw iterations (1_000 + 1_000 draws total) took 59 seconds.\n",
      "Only one chain was sampled, this makes it impossible to run some convergence checks\n"
     ]
    },
    {
     "data": {
      "text/html": [
       "\n",
       "<style>\n",
       "    /* Turns off some styling */\n",
       "    progress {\n",
       "        /* gets rid of default border in Firefox and Opera. */\n",
       "        border: none;\n",
       "        /* Needs to be in here for Safari polyfill so background images work as expected. */\n",
       "        background-size: auto;\n",
       "    }\n",
       "    progress:not([value]), progress:not([value])::-webkit-progress-bar {\n",
       "        background: repeating-linear-gradient(45deg, #7e7e7e, #7e7e7e 10px, #5c5c5c 10px, #5c5c5c 20px);\n",
       "    }\n",
       "    .progress-bar-interrupted, .progress-bar-interrupted::-webkit-progress-bar {\n",
       "        background: #F44336;\n",
       "    }\n",
       "</style>\n"
      ],
      "text/plain": [
       "<IPython.core.display.HTML object>"
      ]
     },
     "metadata": {},
     "output_type": "display_data"
    },
    {
     "data": {
      "text/html": [
       "\n",
       "    <div>\n",
       "      <progress value='78' class='' max='78' style='width:300px; height:20px; vertical-align: middle;'></progress>\n",
       "      100.00% [78/78 00:00&lt;00:00 logp = 591.45, ||grad|| = 0.13744]\n",
       "    </div>\n",
       "    "
      ],
      "text/plain": [
       "<IPython.core.display.HTML object>"
      ]
     },
     "metadata": {},
     "output_type": "display_data"
    },
    {
     "name": "stdout",
     "output_type": "stream",
     "text": [
      "\n",
      "  Neuron with  597 spikes\n",
      "    Excluded neuron with n spikes =  597\n",
      "  Neuron with  740 spikes\n",
      "    Excluded neuron with n spikes =  740\n",
      "  Neuron with  369 spikes\n",
      "    Excluded neuron with n spikes =  369\n",
      "  Neuron with  445 spikes\n",
      "    Excluded neuron with n spikes =  445\n",
      "  Neuron with  312 spikes\n",
      "    Excluded neuron with n spikes =  312\n",
      "  Neuron with  983 spikes\n"
     ]
    },
    {
     "name": "stderr",
     "output_type": "stream",
     "text": [
      "Sequential sampling (1 chains in 1 job)\n",
      "NUTS: [mu1, lam1, mu2, sigma2, mu3, sigma3, w]\n"
     ]
    },
    {
     "data": {
      "text/html": [
       "\n",
       "<style>\n",
       "    /* Turns off some styling */\n",
       "    progress {\n",
       "        /* gets rid of default border in Firefox and Opera. */\n",
       "        border: none;\n",
       "        /* Needs to be in here for Safari polyfill so background images work as expected. */\n",
       "        background-size: auto;\n",
       "    }\n",
       "    progress:not([value]), progress:not([value])::-webkit-progress-bar {\n",
       "        background: repeating-linear-gradient(45deg, #7e7e7e, #7e7e7e 10px, #5c5c5c 10px, #5c5c5c 20px);\n",
       "    }\n",
       "    .progress-bar-interrupted, .progress-bar-interrupted::-webkit-progress-bar {\n",
       "        background: #F44336;\n",
       "    }\n",
       "</style>\n"
      ],
      "text/plain": [
       "<IPython.core.display.HTML object>"
      ]
     },
     "metadata": {},
     "output_type": "display_data"
    },
    {
     "data": {
      "text/html": [
       "\n",
       "    <div>\n",
       "      <progress value='2000' class='' max='2000' style='width:300px; height:20px; vertical-align: middle;'></progress>\n",
       "      100.00% [2000/2000 00:58&lt;00:00 Sampling chain 0, 0 divergences]\n",
       "    </div>\n",
       "    "
      ],
      "text/plain": [
       "<IPython.core.display.HTML object>"
      ]
     },
     "metadata": {},
     "output_type": "display_data"
    },
    {
     "name": "stderr",
     "output_type": "stream",
     "text": [
      "Sampling 1 chain for 1_000 tune and 1_000 draw iterations (1_000 + 1_000 draws total) took 59 seconds.\n",
      "Only one chain was sampled, this makes it impossible to run some convergence checks\n"
     ]
    },
    {
     "data": {
      "text/html": [
       "\n",
       "<style>\n",
       "    /* Turns off some styling */\n",
       "    progress {\n",
       "        /* gets rid of default border in Firefox and Opera. */\n",
       "        border: none;\n",
       "        /* Needs to be in here for Safari polyfill so background images work as expected. */\n",
       "        background-size: auto;\n",
       "    }\n",
       "    progress:not([value]), progress:not([value])::-webkit-progress-bar {\n",
       "        background: repeating-linear-gradient(45deg, #7e7e7e, #7e7e7e 10px, #5c5c5c 10px, #5c5c5c 20px);\n",
       "    }\n",
       "    .progress-bar-interrupted, .progress-bar-interrupted::-webkit-progress-bar {\n",
       "        background: #F44336;\n",
       "    }\n",
       "</style>\n"
      ],
      "text/plain": [
       "<IPython.core.display.HTML object>"
      ]
     },
     "metadata": {},
     "output_type": "display_data"
    },
    {
     "data": {
      "text/html": [
       "\n",
       "    <div>\n",
       "      <progress value='78' class='' max='78' style='width:300px; height:20px; vertical-align: middle;'></progress>\n",
       "      100.00% [78/78 00:00&lt;00:00 logp = 591.45, ||grad|| = 0.13744]\n",
       "    </div>\n",
       "    "
      ],
      "text/plain": [
       "<IPython.core.display.HTML object>"
      ]
     },
     "metadata": {},
     "output_type": "display_data"
    },
    {
     "name": "stdout",
     "output_type": "stream",
     "text": [
      "\n",
      "  Neuron with  597 spikes\n",
      "    Excluded neuron with n spikes =  597\n",
      "  Neuron with  740 spikes\n",
      "    Excluded neuron with n spikes =  740\n",
      "  Neuron with  369 spikes\n",
      "    Excluded neuron with n spikes =  369\n",
      "  Neuron with  445 spikes\n",
      "    Excluded neuron with n spikes =  445\n",
      "  Neuron with  312 spikes\n",
      "    Excluded neuron with n spikes =  312\n",
      "  Neuron with  983 spikes\n"
     ]
    },
    {
     "name": "stderr",
     "output_type": "stream",
     "text": [
      "Sequential sampling (1 chains in 1 job)\n",
      "NUTS: [mu1, lam1, mu2, sigma2, mu3, sigma3, w]\n"
     ]
    },
    {
     "data": {
      "text/html": [
       "\n",
       "<style>\n",
       "    /* Turns off some styling */\n",
       "    progress {\n",
       "        /* gets rid of default border in Firefox and Opera. */\n",
       "        border: none;\n",
       "        /* Needs to be in here for Safari polyfill so background images work as expected. */\n",
       "        background-size: auto;\n",
       "    }\n",
       "    progress:not([value]), progress:not([value])::-webkit-progress-bar {\n",
       "        background: repeating-linear-gradient(45deg, #7e7e7e, #7e7e7e 10px, #5c5c5c 10px, #5c5c5c 20px);\n",
       "    }\n",
       "    .progress-bar-interrupted, .progress-bar-interrupted::-webkit-progress-bar {\n",
       "        background: #F44336;\n",
       "    }\n",
       "</style>\n"
      ],
      "text/plain": [
       "<IPython.core.display.HTML object>"
      ]
     },
     "metadata": {},
     "output_type": "display_data"
    },
    {
     "data": {
      "text/html": [
       "\n",
       "    <div>\n",
       "      <progress value='2000' class='' max='2000' style='width:300px; height:20px; vertical-align: middle;'></progress>\n",
       "      100.00% [2000/2000 01:02&lt;00:00 Sampling chain 0, 0 divergences]\n",
       "    </div>\n",
       "    "
      ],
      "text/plain": [
       "<IPython.core.display.HTML object>"
      ]
     },
     "metadata": {},
     "output_type": "display_data"
    },
    {
     "name": "stderr",
     "output_type": "stream",
     "text": [
      "Sampling 1 chain for 1_000 tune and 1_000 draw iterations (1_000 + 1_000 draws total) took 62 seconds.\n",
      "Only one chain was sampled, this makes it impossible to run some convergence checks\n"
     ]
    },
    {
     "data": {
      "text/html": [
       "\n",
       "<style>\n",
       "    /* Turns off some styling */\n",
       "    progress {\n",
       "        /* gets rid of default border in Firefox and Opera. */\n",
       "        border: none;\n",
       "        /* Needs to be in here for Safari polyfill so background images work as expected. */\n",
       "        background-size: auto;\n",
       "    }\n",
       "    progress:not([value]), progress:not([value])::-webkit-progress-bar {\n",
       "        background: repeating-linear-gradient(45deg, #7e7e7e, #7e7e7e 10px, #5c5c5c 10px, #5c5c5c 20px);\n",
       "    }\n",
       "    .progress-bar-interrupted, .progress-bar-interrupted::-webkit-progress-bar {\n",
       "        background: #F44336;\n",
       "    }\n",
       "</style>\n"
      ],
      "text/plain": [
       "<IPython.core.display.HTML object>"
      ]
     },
     "metadata": {},
     "output_type": "display_data"
    },
    {
     "data": {
      "text/html": [
       "\n",
       "    <div>\n",
       "      <progress value='78' class='' max='78' style='width:300px; height:20px; vertical-align: middle;'></progress>\n",
       "      100.00% [78/78 00:00&lt;00:00 logp = 591.45, ||grad|| = 0.13744]\n",
       "    </div>\n",
       "    "
      ],
      "text/plain": [
       "<IPython.core.display.HTML object>"
      ]
     },
     "metadata": {},
     "output_type": "display_data"
    },
    {
     "name": "stdout",
     "output_type": "stream",
     "text": [
      "\n",
      "  Neuron with  597 spikes\n",
      "    Excluded neuron with n spikes =  597\n",
      "  Neuron with  740 spikes\n",
      "    Excluded neuron with n spikes =  740\n",
      "  Neuron with  369 spikes\n",
      "    Excluded neuron with n spikes =  369\n",
      "  Neuron with  445 spikes\n",
      "    Excluded neuron with n spikes =  445\n",
      "  Neuron with  312 spikes\n",
      "    Excluded neuron with n spikes =  312\n",
      "Final number of neurons:  10\n",
      "Target =  0\n"
     ]
    }
   ],
   "source": [
    "dataframe = pd.DataFrame()\n",
    "counter_net=1\n",
    "counter=0\n",
    "target = 0\n",
    "for net in list_dir_ok:\n",
    "    print(counter_net,') ',net)\n",
    "    counter_net+=1\n",
    "    list_neurons = np.genfromtxt(net, delimiter=',')\n",
    "    counter=0\n",
    "    print('Original number of neurons: ',len(list_neurons))\n",
    "    for neuron in list_neurons:\n",
    "        neuron=neuron[neuron>0*10000]\n",
    "        neuron=neuron[neuron<200*10000]\n",
    "        print('  Neuron with ',neuron.shape[0],'spikes')\n",
    "        if neuron.shape[0]>800:\n",
    "            \n",
    "            counter+=1\n",
    "        else:\n",
    "            print('    Excluded neuron with n spikes = ',neuron.shape[0])\n",
    "            continue\n",
    "        \n",
    "        ISI_healthy = np.diff(neuron)/10000\n",
    "        \n",
    "            \n",
    "        map_estimate = Bayesian_mixture_model(ISI_healthy)\n",
    "        \n",
    "        if 'Healthy' in net:\n",
    "            print('target Healthy')\n",
    "            map_estimate['Target']=0\n",
    "            \n",
    "        elif 'healthy' in net:\n",
    "            print('target healthy')\n",
    "            map_estimate['Target']=0\n",
    "        elif 'health' in net:\n",
    "            print('target health')\n",
    "            map_estimate['Target']=0\n",
    "\n",
    "        else:\n",
    "            map_estimate['Target']=1\n",
    "        \n",
    "        if 'KA' in net:\n",
    "            map_estimate['Stimulation']=1\n",
    "            \n",
    "        elif 'stimulation' in net:\n",
    "            map_estimate['Stimulation']=1\n",
    "        else:\n",
    "            map_estimate['Stimulation']=0\n",
    "            \n",
    "        df = pd.DataFrame.from_dict(map_estimate,orient='index')\n",
    "        dataframe = pd.concat([dataframe,df],axis = 1)\n",
    "    print('Final number of neurons: ',counter)\n",
    "    print('Target = ',target)"
   ]
  },
  {
   "cell_type": "code",
   "execution_count": 23,
   "metadata": {},
   "outputs": [],
   "source": [
    "final = dataframe.T\n",
    "final.to_csv('Data after PP/DataAfter')"
   ]
  },
  {
   "cell_type": "code",
   "execution_count": null,
   "metadata": {},
   "outputs": [],
   "source": []
  }
 ],
 "metadata": {
  "kernelspec": {
   "display_name": "Python 3 (ipykernel)",
   "language": "python",
   "name": "python3"
  },
  "language_info": {
   "codemirror_mode": {
    "name": "ipython",
    "version": 3
   },
   "file_extension": ".py",
   "mimetype": "text/x-python",
   "name": "python",
   "nbconvert_exporter": "python",
   "pygments_lexer": "ipython3",
   "version": "3.11.4"
  }
 },
 "nbformat": 4,
 "nbformat_minor": 4
}
