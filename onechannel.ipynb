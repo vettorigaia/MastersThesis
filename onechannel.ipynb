{
 "cells": [
  {
   "cell_type": "code",
   "execution_count": null,
   "id": "fc67d97d",
   "metadata": {},
   "outputs": [],
   "source": [
    "#un canale"
   ]
  },
  {
   "cell_type": "code",
   "execution_count": null,
   "id": "9107b096",
   "metadata": {},
   "outputs": [],
   "source": [
    "from NewLibraryENGcopia import *\n",
    "\n",
    "#POPULATION 1 (HEALTHY):\n",
    "name_data_st = '2019-01-23T16-06-32Pop1 healthy cortical stimulation modifiedname.h5'\n",
    "name_data_BL = '2019-01-23T11-19-05PoP1 healthy cortical .h5'\n",
    "name_data_24 = '2019-01-24T16-00-33Pop1 24hour after.h5'\n",
    "name_data='2019-01-23T15-49-43MEA2 healthy cortical stimulation modifiedname.h5'\n",
    "#complete_string='/Users/Gaia_1/Desktop/allh5filestutto/FATTI/'+name_data_BL\n",
    "complete_string='/Users/Gaia_1/Desktop/allh5filestutto/no/'+name_data_st\n"
   ]
  },
  {
   "cell_type": "code",
   "execution_count": null,
   "id": "5bc177c3",
   "metadata": {},
   "outputs": [],
   "source": []
  },
  {
   "cell_type": "code",
   "execution_count": null,
   "id": "610e0c1b",
   "metadata": {},
   "outputs": [],
   "source": [
    "def this_poiproc(neurons,target,stim):\n",
    "    from scipy.stats import ks_2samp\n",
    "    dataframe = pd.DataFrame()\n",
    "    #counter_net=1\n",
    "    counter=0\n",
    "    #for net in list_dir_ok:\n",
    "    #print(counter_net,') ',net)\n",
    "    #counter_net+=1\n",
    "    list_neurons = neurons #np.genfromtxt(net, delimiter=',')\n",
    "    counter=0\n",
    "    print('Original number of neurons: ',len(list_neurons))\n",
    "    for neuron in tqdm(list_neurons):\n",
    "        neuron=neuron[neuron>0*10000]\n",
    "        neuron=neuron[neuron<200*10000]\n",
    "        print('  Neuron with ',neuron.shape[0],'spikes')\n",
    "        if neuron.shape[0]>1000:\n",
    "            \n",
    "            counter+=1\n",
    "        else:\n",
    "            print('    Excluded neuron with n spikes = ',neuron.shape[0])\n",
    "            continue\n",
    "        \n",
    "        ISI_healthy = np.diff(neuron)/10000\n",
    "        map_estimate = Bayesian_mixture_model(ISI_healthy)\n",
    "        map_estimate['Target']=int(target)\n",
    "        map_estimate['Stimulation']=int(stim)\n",
    "        df = pd.DataFrame.from_dict(map_estimate,orient='index')\n",
    "        dataframe = pd.concat([dataframe,df],axis = 1)\n",
    "    print('Final number of neurons: ',counter)\n",
    "    print('Target = ',target)\n",
    "    return dataframe\n",
    "\n",
    "\n",
    "\n",
    "    #ks_2samp(lista_samples,ISI_healthy,mode = 'asymp')\n"
   ]
  },
  {
   "cell_type": "code",
   "execution_count": null,
   "id": "de216378",
   "metadata": {},
   "outputs": [],
   "source": [
    "def this_spike_sorting(name_data,complete_string,threshold,clustering,coeff,c1):\n",
    "    #file reading:\n",
    "    data = h5py.File(complete_string,'r')\n",
    "    data_readings = data['Data']['Recording_0']['AnalogStream']['Stream_0']['ChannelData'][()]\n",
    "    info = data['Data']['Recording_0']['AnalogStream']['Stream_0']['InfoChannel'][()]\n",
    "    info_table = pd.DataFrame(info, columns = list(info.dtype.fields.keys()))\n",
    "    labels = info_table['Label']\n",
    "    readings = pd.DataFrame(data = data_readings.transpose(), columns = labels)\n",
    "    fs = 10000 #Sampling Frequency\n",
    "    print('data shape: ',readings.shape)\n",
    "    prova=readings.drop([b'Ref'],axis=1)\n",
    "    #prova=prova.iloc[inizio:fine, :10]\n",
    "    prova=prova.iloc[:, :10]\n",
    "    ref=readings[b'Ref']\n",
    "    #ref=ref[inizio:fine]\n",
    "    #filtering:\n",
    "    prova_rows = range(prova.shape[0])\n",
    "    filt_prova = pd.DataFrame(data = 0, columns=prova.columns, index=prova_rows, dtype = \"float32\")\n",
    "    lowcut = 300\n",
    "    highcut = 3000\n",
    "    fs=10000\n",
    "    order=8\n",
    "    b,a=butter_bandpass(lowcut,highcut,fs,order=order)\n",
    "    filt_ref=filtfilt(b,a,ref)\n",
    "    for x in tqdm(range(prova.shape[1])):\n",
    "        filt_prova.values[:,x] = scipy.signal.filtfilt(b, a, prova.values[:,x])\n",
    "    for electrode in prova.columns:\n",
    "        filt_prova[electrode] = filt_prova[electrode] - filt_ref\n",
    "    prova=filt_prova\n",
    "    #detection:\n",
    "    if threshold==0:\n",
    "        threshold=[]\n",
    "        for i,electrode in tqdm(enumerate(prova.columns)):\n",
    "            threshold.append(coeff*(scipy.stats.median_abs_deviation(prova[electrode].values,scale='normal')))            \n",
    "    all_ind=[]\n",
    "    for i,electrode in tqdm(enumerate(prova.columns)):\n",
    "        channel=prova[electrode]\n",
    "        #thresh=threshold[i]\n",
    "        ind=this_windowed_find_all_spikes(channel,coeff)\n",
    "        all_ind.append(ind)\n",
    "    #spike extraction:\n",
    "    cut_outs=[]\n",
    "    all_new=[]\n",
    "    for i,electrode in enumerate(tqdm(prova.columns)):\n",
    "        ind=all_ind[i]\n",
    "        channel=prova[electrode]\n",
    "        cut_outs1,all_new1=cut_all(ind,channel,c1)\n",
    "        cut_outs.append(cut_outs1)\n",
    "        all_new.append(all_new1)    \n",
    "    # Clustering:\n",
    "    final_data=[]\n",
    "    if clustering=='kmeans':\n",
    "            for channel in (tqdm(range(len(cut_outs)))):\n",
    "                #channel_clusters1=comparative_clus(cut_outs[channel],all_new[channel],prova.iloc[:,channel])\n",
    "                channel_clusters1=clus(cut_outs[channel],all_new[channel],prova.iloc[:,channel])\n",
    "                final_data.append(channel_clusters1)\n",
    "    elif clustering=='dbscan':\n",
    "            for channel in (tqdm(range(len(cut_outs)))):\n",
    "                eps=int(scipy.stats.median_abs_deviation(prova.iloc[:,channel])/2)\n",
    "                channel_clusters1=dbscan_clustering(cut_outs[channel],all_new[channel],prova.iloc[:,channel],eps)\n",
    "                final_data.append(channel_clusters1)\n",
    "    neurons=[]\n",
    "    for channel in final_data:\n",
    "        for neuron in channel:\n",
    "            neurons.append(neuron)\n",
    "    print(len(neurons),' neurons detected and sorted')\n",
    "    adj_neur=[]\n",
    "    counter = 0\n",
    "    max_len=0\n",
    "    for neuron in neurons:\n",
    "        print('counter: ',counter,neuron.shape[0])\n",
    "        if neuron.shape[0]>max_len:\n",
    "            max_len=neuron.shape[0]\n",
    "        counter+=1\n",
    "    for neuron in neurons:\n",
    "        if neuron.shape[0]<max_len and neuron.shape[0]>=1000:\n",
    "            diff = max_len-neuron.shape[0]\n",
    "            adj_neur.append(np.concatenate((neuron,np.zeros([diff]))))\n",
    "    save_data = 'After'+name_data+'.txt'\n",
    "    np.savetxt(\"/Users/Gaia_1/Desktop/tesi/Data after SS prova/%s.txt\" % save_data,adj_neur, delimiter=', ', fmt='%12.8f')\n",
    "    print(save_data)\n",
    "    return neurons\n"
   ]
  },
  {
   "cell_type": "code",
   "execution_count": null,
   "id": "c14a9d5f",
   "metadata": {},
   "outputs": [],
   "source": []
  },
  {
   "cell_type": "code",
   "execution_count": null,
   "id": "8597abb4",
   "metadata": {},
   "outputs": [],
   "source": [
    "data = h5py.File(complete_string,'r')\n",
    "\n",
    "data_readings = data['Data']['Recording_0']['AnalogStream']['Stream_0']['ChannelData'][()]\n",
    "info = data['Data']['Recording_0']['AnalogStream']['Stream_0']['InfoChannel'][()]\n",
    "info_table = pd.DataFrame(info, columns = list(info.dtype.fields.keys()))\n",
    "labels = info_table['Label']\n",
    "readings = pd.DataFrame(data = data_readings.transpose(), columns = labels)\n",
    "fs = 10000 #Sampling Frequency\n",
    "print(readings.shape)"
   ]
  },
  {
   "cell_type": "code",
   "execution_count": null,
   "id": "5b0c4b19",
   "metadata": {},
   "outputs": [],
   "source": [
    "inizio=0\n",
    "len_data=180000 #192 secondi\n",
    "len_data=len(readings)\n",
    "prova_multi=readings.iloc[inizio:len_data, :59]\n",
    "#prova=prova.drop([b'Ref'],axis=1)\n",
    "prova=prova_multi[b'47']\n",
    "ref=readings[b'Ref']\n",
    "ref=ref[inizio:len_data]\n",
    "#prova=readings.iloc[:150000, :5]\n",
    "print(prova.shape,ref.shape)"
   ]
  },
  {
   "cell_type": "code",
   "execution_count": null,
   "id": "232e9bf0",
   "metadata": {},
   "outputs": [],
   "source": [
    "lowcut = 300\n",
    "highcut = 3000\n",
    "fs=10000\n",
    "order=8\n",
    "b,a=butter_bandpass(lowcut,highcut,fs,order=order)\n",
    "filt_ref=filtfilt(b,a,ref)\n",
    "filt_prova=filtfilt(b,a,prova)\n",
    "f_prova = filt_prova - filt_ref\n",
    "prova=f_prova\n",
    "prova.shape\n",
    "#r_prova=prova.reshape(-1, 1)\n",
    "#scaler = StandardScaler()\n",
    "#s_prova = scaler.fit_transform(r_prova)\n",
    "#prova=s_prova\n",
    "#s_prova.shape"
   ]
  },
  {
   "cell_type": "markdown",
   "id": "eed210bb",
   "metadata": {},
   "source": [
    "# Spike detection"
   ]
  },
  {
   "cell_type": "code",
   "execution_count": null,
   "id": "c2f2d542",
   "metadata": {},
   "outputs": [],
   "source": [
    "inds=this_spike_detection(prova)"
   ]
  },
  {
   "cell_type": "code",
   "execution_count": null,
   "id": "e4529268",
   "metadata": {},
   "outputs": [],
   "source": [
    "def this_spike_detection(data):\n",
    "    spike_length=30 #3ms (0.003s)\n",
    "    window_length=600000 #60 sec (1min)\n",
    "    neg_data=-(data)\n",
    "    abs_data=abs(data)\n",
    "    i=0\n",
    "    ind=[]\n",
    "    while i < len(data)-window_length:\n",
    "        neg_window=neg_data[i:i+window_length]\n",
    "        abs_window=abs_data[i:i+window_length]\n",
    "        window=data[i:i+window_length]\n",
    "        #coeff=4\n",
    "        #if abso==0:\n",
    "        coeff=3\n",
    "        thresh=coeff*(scipy.stats.median_abs_deviation(window,scale='normal'))\n",
    "        #else:\n",
    "            #coeff=4\n",
    "            #thresh=coeff*(scipy.stats.median_abs_deviation(abs_window,scale='normal'))\n",
    "        ind1, peaks =find_peaks(neg_window, height=thresh,distance=spike_length)\n",
    "        del peaks\n",
    "        last=i\n",
    "        if len(ind1):\n",
    "            last=i+ind1[-1]\n",
    "        ind.extend([index + i for index in ind1])\n",
    "        i=last+spike_length #0.003 s (30ms)\n",
    "    firing_rate=len(ind)*10000/len(data)\n",
    "    print(len(ind), ' spikes detected;  ', 'firing rate: {:.2f}'.format(firing_rate),'Hz')\n",
    "    return ind\n"
   ]
  },
  {
   "cell_type": "markdown",
   "id": "fa623c59",
   "metadata": {},
   "source": [
    "pos, neg, alls=find_all_spikes(prova,threshold)"
   ]
  },
  {
   "cell_type": "markdown",
   "id": "d9de52d5",
   "metadata": {},
   "source": [
    "BL:            \n",
    "THRESH=4: fr 131 Hz (15014 pos, 40487 neg)           \n",
    "THRESH=3: fr 390 Hz (72800 pos, 91948 neg)           \n",
    "stim:     \n",
    "THRESH=4: fr 14 Hz (2793 pos, 3261 neg)           \n",
    "THRESH=3: fr 142.14 Hz (30101 pos, 30450 neg)       \n",
    "24hrs:    \n",
    "THRESH=4: fr 556 Hz (85496 pos, 149916 neg)            \n",
    "THRESH=3: fr 1092.19 Hz (220928 pos, 240849 neg)"
   ]
  },
  {
   "cell_type": "code",
   "execution_count": null,
   "id": "c5de9c61",
   "metadata": {},
   "outputs": [],
   "source": []
  },
  {
   "cell_type": "code",
   "execution_count": null,
   "id": "a3a395d1",
   "metadata": {},
   "outputs": [],
   "source": [
    "plt.figure(figsize=(30, 15))\n",
    "plt.plot(prova, label='Signal Data')\n",
    "plt.scatter(ind, [prova[i] for i in ind], c='red', marker='o', label='Local Maxima')\n",
    "#plt.scatter(neg, [prova[i] for i in neg], c='green', marker='o', label='Local Minima')\n",
    "plt.xlabel('Sample Index')\n",
    "plt.ylabel('Signal Value')\n",
    "plt.legend()\n",
    "plt.grid(True)\n",
    "plt.title('Signal Data with Detected Spikes')\n",
    "#plt.axis([0,3000,-5,5])\n",
    "#plt.savefig('spikes1.jpg')\n",
    "plt.show()"
   ]
  },
  {
   "cell_type": "code",
   "execution_count": null,
   "id": "6ddba0cf",
   "metadata": {},
   "outputs": [],
   "source": []
  },
  {
   "cell_type": "code",
   "execution_count": null,
   "id": "8a8f5432",
   "metadata": {},
   "outputs": [],
   "source": []
  },
  {
   "cell_type": "markdown",
   "id": "dc55e4f8",
   "metadata": {},
   "source": [
    "# Cutouts"
   ]
  },
  {
   "cell_type": "code",
   "execution_count": null,
   "id": "ca734757",
   "metadata": {},
   "outputs": [],
   "source": [
    "c1=2\n",
    "cut_outs,alls=cut_all(inds,prova)"
   ]
  },
  {
   "cell_type": "code",
   "execution_count": null,
   "id": "9e8428d0",
   "metadata": {},
   "outputs": [],
   "source": [
    "cut_outs,alls=new_cut(inds,prova)"
   ]
  },
  {
   "cell_type": "code",
   "execution_count": null,
   "id": "f0f99aad",
   "metadata": {},
   "outputs": [],
   "source": [
    "type(inds)"
   ]
  },
  {
   "cell_type": "code",
   "execution_count": null,
   "id": "8215a64d",
   "metadata": {},
   "outputs": [],
   "source": [
    "cut_outs,alls=new_cut(inds,prova)"
   ]
  },
  {
   "cell_type": "code",
   "execution_count": null,
   "id": "7aabe9a1",
   "metadata": {},
   "outputs": [],
   "source": [
    "np.mean(prova)"
   ]
  },
  {
   "cell_type": "code",
   "execution_count": null,
   "id": "cb55c8ab",
   "metadata": {},
   "outputs": [],
   "source": [
    "def new_cut(alls,data):\n",
    "    pre = 0.001\n",
    "    post = 0.002\n",
    "    fs=10000\n",
    "    prima = int(pre*fs)\n",
    "    dopo = int(post*fs)\n",
    "    lunghezza_indici = len(alls)\n",
    "    cut= np.empty([lunghezza_indici, prima+dopo])\n",
    "    dim = data.shape[0]\n",
    "    k=0\n",
    "    coeff=1.5\n",
    "    signal_std=np.std(data)\n",
    "    signal_mean=np.mean(data)\n",
    "    standard_mean=signal_mean\n",
    "    standard_threshold=signal_std\n",
    "    for i in alls:\n",
    "        if (i-prima >= 0) and (i+dopo <= dim):\n",
    "            spike= data[(int(i)-prima):(int(i)+dopo)].squeeze()\n",
    "            cut[k,:] = spike\n",
    "            k+=1\n",
    "    standards=np.std(cut,axis=1)\n",
    "    means=np.mean(cut,axis=1)\n",
    "\n",
    "    thr1=coeff*standard_threshold\n",
    "    thr2=3*standard_mean\n",
    "    \n",
    "    indices=np.where((standards<thr1)&(means<thr2))[0]\n",
    "    \n",
    "    filtered_cut=cut[indices]\n",
    "    filtered_alls = np.array(alls)[indices]\n",
    "\n",
    "    \n",
    "    spike_means=np.mean(filtered_cut,axis=1,keepdims=True)\n",
    "    spike_stds=np.std(filtered_cut,axis=1,keepdims=True)\n",
    "    \n",
    "    standardized_cuts=(filtered_cut-spike_means)/spike_stds\n",
    "    \n",
    "    firing_rate=len(indices)*10000/len(data)\n",
    "    print(len(alls)-len(indices),' spikes removed;  ', 'firing rate: {:.2f}'.format(firing_rate),'Hz')\n",
    "    return standardized_cuts,filtered_alls\n"
   ]
  },
  {
   "cell_type": "code",
   "execution_count": null,
   "id": "86038e43",
   "metadata": {},
   "outputs": [],
   "source": [
    "indices=np.where((standards<thr1)&(means<thr2))[0]"
   ]
  },
  {
   "cell_type": "code",
   "execution_count": null,
   "id": "6e48e533",
   "metadata": {},
   "outputs": [],
   "source": [
    "np.shape(standards)\n",
    "np.shape(indices)"
   ]
  },
  {
   "cell_type": "code",
   "execution_count": null,
   "id": "1bb4d698",
   "metadata": {},
   "outputs": [],
   "source": [
    "n=alls[indices]"
   ]
  },
  {
   "cell_type": "code",
   "execution_count": null,
   "id": "be738123",
   "metadata": {},
   "outputs": [],
   "source": [
    "inds[-1]"
   ]
  },
  {
   "cell_type": "code",
   "execution_count": null,
   "id": "4ef84d42",
   "metadata": {},
   "outputs": [],
   "source": [
    "alls[-1]"
   ]
  },
  {
   "cell_type": "code",
   "execution_count": null,
   "id": "07496704",
   "metadata": {},
   "outputs": [],
   "source": [
    "plt.hist(np.diff(alls),bins=100,color='r')\n",
    "plt.show()\n",
    "plt.hist(np.diff(sorted(inds)),bins=100,color='y')\n",
    "plt.show()"
   ]
  },
  {
   "cell_type": "code",
   "execution_count": null,
   "id": "5b0eeff5",
   "metadata": {},
   "outputs": [],
   "source": []
  },
  {
   "cell_type": "code",
   "execution_count": null,
   "id": "c776361a",
   "metadata": {},
   "outputs": [],
   "source": [
    "plt.hist(diffs,bins=500)"
   ]
  },
  {
   "cell_type": "code",
   "execution_count": null,
   "id": "0ad0a706",
   "metadata": {
    "scrolled": true
   },
   "outputs": [],
   "source": [
    "indices\n",
    "diffs=np.diff(indices)\n",
    "diffs\n",
    "plt.hist(np.diff(indices), bins=100, density=True, alpha=0.5, color='blue', edgecolor='black')"
   ]
  },
  {
   "cell_type": "code",
   "execution_count": null,
   "id": "bd50e238",
   "metadata": {},
   "outputs": [],
   "source": [
    "def new_cut(all,data):\n",
    "    pre = 0.0015\n",
    "    post = 0.0015\n",
    "    fs=10000\n",
    "    prima = int(pre*fs)\n",
    "    dopo = int(post*fs)\n",
    "    lunghezza_indici = len(all)\n",
    "    cut= np.empty([lunghezza_indici, prima+dopo])\n",
    "    dim = data.shape[0]\n",
    "    k=0\n",
    "    coeff=1.5\n",
    "    signal_std=np.std(data)\n",
    "    signal_mean=np.mean(data)\n",
    "    standard_mean=signal_mean\n",
    "    standard_threshold=signal_std\n",
    "    for i in all:\n",
    "        if (i-prima >= 0) and (i+dopo <= dim):\n",
    "            spike= data[(int(i)-prima):(int(i)+dopo)].squeeze()\n",
    "            cut[k,:] = spike\n",
    "            k+=1\n",
    "    standards=np.std(cut)\n",
    "    indices_to_keep=np.all(standards<coeff*standard_threshold,axis=1)\n",
    "    all_new=indices_to_keep\n",
    "    filtered_cut=cut[indices_to_keep]\n",
    "    k=0\n",
    "    cut=np.empty([indices_to_keep, prima+dopo])\n",
    "    for spike in filtered_cut:\n",
    "        media=(np.mean(spike))\n",
    "        std=np.std(spike)\n",
    "        spike_std=(spike-media)/std\n",
    "        cut[k,:]=spike_std\n",
    "        k+=1\n",
    "    firing_rate=len(all_new)*10000/len(data)\n",
    "    print(len(all)-len(all_new),' spikes removed;  ', 'firing rate: {:.2f}'.format(firing_rate),'Hz')\n",
    "    return cut,all_new\n"
   ]
  },
  {
   "cell_type": "code",
   "execution_count": null,
   "id": "b16c3c7d",
   "metadata": {},
   "outputs": [],
   "source": [
    "def this_cut_all(all,data):\n",
    "    pre = 0.0015\n",
    "    post = 0.0015\n",
    "    fs=10000\n",
    "    prima = int(pre*fs)\n",
    "    dopo = int(post*fs)\n",
    "    lunghezza_indici = len(all)\n",
    "    cut= np.empty([lunghezza_indici, prima+dopo])\n",
    "    dim = data.shape[0]\n",
    "    k=0\n",
    "    coeff=1.5\n",
    "    signal_std=np.std(data)\n",
    "    signal_mean=np.mean(data)\n",
    "    all_new=[]\n",
    "    for i in all:\n",
    "        if (i-prima >= 0) and (i+dopo <= dim):\n",
    "            spike= data[(int(i)-prima):(int(i)+dopo)].squeeze()\n",
    "            media=(np.mean(spike))\n",
    "            diff=abs(media-signal_mean)\n",
    "            std=np.std(spike)\n",
    "            spike_std=(spike-media)/std\n",
    "            if abs(std)<=coeff*abs(signal_std) and diff<=3:\n",
    "                cut[k,:] = spike_std\n",
    "                all_new.append(i)\n",
    "                k += 1\n",
    "    size=k\n",
    "    cut=cut[0:size]\n",
    "    firing_rate=len(all_new)*10000/len(data)\n",
    "    print(len(all)-len(all_new),' spikes removed;  ', 'firing rate: {:.2f}'.format(firing_rate),'Hz')\n",
    "    return cut,all_new\n"
   ]
  },
  {
   "cell_type": "code",
   "execution_count": null,
   "id": "bc775864",
   "metadata": {},
   "outputs": [],
   "source": []
  },
  {
   "cell_type": "code",
   "execution_count": null,
   "id": "2b0fd89b",
   "metadata": {},
   "outputs": [],
   "source": [
    "\n",
    "k=0\n",
    "cut=np.empty([indices_to_keep, prima+dopo])\n",
    "\n",
    "for spike in filtered_cut:\n",
    "    media=(np.mean(spike))\n",
    "    std=np.std(spike)\n",
    "    spike_std=(spike-media)/std\n",
    "    cut[k,:]=spike_std\n",
    "    k+=1\n",
    "firing_rate=len(all_new)*10000/len(data)\n",
    "print(len(all)-len(all_new),' spikes removed;  ', 'firing rate: {:.2f}'.format(firing_rate),'Hz')\n",
    "#return cut,all_new\n"
   ]
  },
  {
   "cell_type": "code",
   "execution_count": null,
   "id": "47adaceb",
   "metadata": {},
   "outputs": [],
   "source": [
    "np.shape(cut)\n",
    "#type(cut)"
   ]
  },
  {
   "cell_type": "code",
   "execution_count": null,
   "id": "d36f26a1",
   "metadata": {},
   "outputs": [],
   "source": []
  },
  {
   "cell_type": "code",
   "execution_count": null,
   "id": "510e88e1",
   "metadata": {},
   "outputs": [],
   "source": []
  },
  {
   "cell_type": "markdown",
   "id": "8a2cc5fa",
   "metadata": {
    "scrolled": true
   },
   "source": [
    "c1=1\n",
    "pos_cut,n_pos, neg_cut,n_neg = cut(pos,neg,prova,c1)\n",
    "#savedp = copy.deepcopy(pos_cut)\n",
    "#savedn = copy.deepcopy(neg_cut)"
   ]
  },
  {
   "cell_type": "markdown",
   "id": "63a48b8b",
   "metadata": {},
   "source": [
    "pos_cut=mask_cuts(pos_cut)\n",
    "neg_cut= mask_cuts(neg_cut)"
   ]
  },
  {
   "cell_type": "markdown",
   "id": "91195eaa",
   "metadata": {
    "scrolled": true
   },
   "source": [
    "x=randint(1,min(len(pos_cut),len(neg_cut)))\n",
    "\n",
    "plt.plot(savedp[x])\n",
    "plt.plot(pos_cut[x])\n",
    "plt.show()\n",
    "#plt.plot(savedn[x])\n",
    "#plt.plot(neg_cut[x])\n",
    "#plt.show()"
   ]
  },
  {
   "cell_type": "code",
   "execution_count": null,
   "id": "aaabeff3",
   "metadata": {},
   "outputs": [],
   "source": []
  },
  {
   "cell_type": "markdown",
   "id": "0dba03b7",
   "metadata": {},
   "source": [
    "import pandas as pd\n",
    "pca = PCA()\n",
    "pca.fit(pos_cut)\n",
    "explained_variances = pca.explained_variance_ratio_\n",
    "explained_variance_df = pd.DataFrame(data={'Explained Variance': explained_variances},\n",
    "                                     index=range(1, len(explained_variances) + 1))\n",
    "explained_variance_df.transpose()"
   ]
  },
  {
   "cell_type": "markdown",
   "id": "e67be79a",
   "metadata": {},
   "source": [
    "cumulative_explained_variance = np.cumsum(explained_variances)\n",
    "cumulative_explained_variance_df = pd.DataFrame(data={'Cumulative Explained Variance': cumulative_explained_variance},\n",
    "                                                index=range(1, len(cumulative_explained_variance) + 1))\n",
    "cumulative_explained_variance_df.transpose()\n"
   ]
  },
  {
   "cell_type": "code",
   "execution_count": null,
   "id": "e72ef327",
   "metadata": {},
   "outputs": [],
   "source": []
  },
  {
   "cell_type": "markdown",
   "id": "cd0ea887",
   "metadata": {},
   "source": [
    "# Clustering"
   ]
  },
  {
   "cell_type": "code",
   "execution_count": null,
   "id": "af8990ee",
   "metadata": {},
   "outputs": [],
   "source": [
    "final_data=[]\n",
    "final_data.append(clus(cut_outs,alls,prova))"
   ]
  },
  {
   "cell_type": "code",
   "execution_count": null,
   "id": "4e85eb3b",
   "metadata": {},
   "outputs": [],
   "source": []
  },
  {
   "cell_type": "code",
   "execution_count": null,
   "id": "f80f98f5",
   "metadata": {},
   "outputs": [],
   "source": [
    "neurons=[]\n",
    "for neuron in final_data:\n",
    "    neurons.append(neuron[0])\n",
    "len(neurons)"
   ]
  },
  {
   "cell_type": "markdown",
   "id": "c85ec42d",
   "metadata": {},
   "source": [
    "• distance tra indici detettati pari a lunghezza spike\n",
    "• poi clustering con range dda 2 a 3 e se silhouette sotto una soglia è un cluster solo"
   ]
  },
  {
   "cell_type": "code",
   "execution_count": null,
   "id": "af9764a5",
   "metadata": {},
   "outputs": [],
   "source": [
    "neurons[0][0]"
   ]
  },
  {
   "cell_type": "code",
   "execution_count": null,
   "id": "f4bca4b2",
   "metadata": {},
   "outputs": [],
   "source": [
    "data_healthy=neurons[0][0]\n",
    "ISI_healthy=np.diff(data_healthy)/10000\n",
    "plt.hist(ISI_healthy, bins=100, density=False, alpha=0.5, color='blue', edgecolor='black')\n",
    "plt.show()"
   ]
  },
  {
   "cell_type": "code",
   "execution_count": null,
   "id": "e8bdc89d",
   "metadata": {},
   "outputs": [],
   "source": [
    "#x=randint(0,len(neurons)-1)\n",
    "#for x in range(0,len(neurons)):\n",
    "x=0\n",
    "print('neur: ',x,len(neurons[x]))\n",
    "data_healthy=neurons[x]\n",
    "ISI_healthy = np.diff(data_healthy)/10000\n",
    "plt.hist(ISI_healthy, bins=100, density=False, alpha=0.5, color='blue', edgecolor='black')\n",
    "plt.show()"
   ]
  },
  {
   "cell_type": "code",
   "execution_count": null,
   "id": "98a524c1",
   "metadata": {},
   "outputs": [],
   "source": [
    "adj_neur=[]\n",
    "counter = 0\n",
    "max_len=0\n",
    "\n",
    "for neu in neurons:\n",
    "    print('counter: ',counter,neu.shape[0])\n",
    "    if neu.shape[0]>max_len:\n",
    "        max_len=neu.shape[0]\n",
    "    counter+=1\n",
    "for neuron in neurons:\n",
    "    if neuron.shape[0]<=max_len:\n",
    "        diff = max_len-neuron.shape[0]\n",
    "        adj_neur.append(np.concatenate((neuron,np.zeros([diff]))))\n"
   ]
  },
  {
   "cell_type": "markdown",
   "id": "ddbf70e2",
   "metadata": {},
   "source": [
    "x=randint(0,len(adj_neur)-1)\n",
    "print('neur: ',x)\n",
    "data_healthy=adj_neur[x]\n",
    "ISI_healthy = np.diff(data_healthy)/10000"
   ]
  },
  {
   "cell_type": "markdown",
   "id": "52055d2c",
   "metadata": {
    "scrolled": true
   },
   "source": [
    "locs_diff=np.diff(data_healthy)\n",
    "#plt.axis([-3,500,0,0.05])\n",
    "plt.hist(locs_diff, bins=50, density=False, alpha=0.5, color='blue', edgecolor='black')"
   ]
  },
  {
   "cell_type": "markdown",
   "id": "9ac710f3",
   "metadata": {},
   "source": [
    "## Point Process"
   ]
  },
  {
   "cell_type": "code",
   "execution_count": null,
   "id": "858fe373",
   "metadata": {},
   "outputs": [],
   "source": [
    "ISI_data=ISI_healthy"
   ]
  },
  {
   "cell_type": "code",
   "execution_count": null,
   "id": "75283992",
   "metadata": {
    "scrolled": true
   },
   "outputs": [],
   "source": [
    "map_estimate= Bayesian_mixture_model(ISI_healthy)"
   ]
  },
  {
   "cell_type": "code",
   "execution_count": null,
   "id": "cbfe8561",
   "metadata": {},
   "outputs": [],
   "source": [
    "#with model:\n",
    "#    ppc_trace = pm.sample_posterior_predictive(trace,model=model)\n",
    "def trace(ppc_trace):\n",
    "    bins = np.arange(0, .5, 1e-3) \n",
    "    plt.figure (figsize=(14,10))\n",
    "\n",
    "    hist = np.histogram(ppc_trace['posterior_predictive']['like'].values,bins=bins)\n",
    "    #plt.axis([-0.01,0.13,0,160])\n",
    "    a= plt.hist(ISI_healthy,bins)\n",
    "    plt.plot(hist[1][:-1],hist[0]/1000,linewidth=3)\n",
    "    plt.show()"
   ]
  },
  {
   "cell_type": "code",
   "execution_count": null,
   "id": "f0ed7020",
   "metadata": {},
   "outputs": [],
   "source": [
    "lista_samples=[]\n",
    "for i in list(ppc_trace['posterior_predictive']['like'].values):\n",
    "    lista_samples.extend(i)"
   ]
  },
  {
   "cell_type": "code",
   "execution_count": null,
   "id": "f87bf175",
   "metadata": {},
   "outputs": [],
   "source": [
    "counts, _ = np.histogram(ISI_healthy, bins) \n",
    "prob_emp = counts / np.sum(counts)\n",
    "counts, _ = np.histogram(lista_samples, bins) \n",
    "prob_model = counts / np.sum(counts)\n",
    "\n",
    "Femp = np.cumsum(prob_emp)           \n",
    "Fmodel = np.cumsum(prob_model)          \n",
    "plt.figure()\n",
    "plt.plot(bins[:-1], Femp)                \n",
    "plt.plot(bins[:-1], Fmodel, 'r')       \n",
    "#plt.xlim([0, 0.2])                  \n",
    "plt.xlabel('Time [s]')\n",
    "plt.ylabel('CDF')\n",
    "plt.legend(['Empirical','Model'])\n",
    "plt.show()"
   ]
  },
  {
   "cell_type": "code",
   "execution_count": null,
   "id": "4fc155ff",
   "metadata": {},
   "outputs": [],
   "source": [
    "plt.figure()\n",
    "Nlow = len(ISI_healthy)  \n",
    "# Plot the confidence bounds\n",
    "plt.plot([0, 1], [x + 1.36 / np.sqrt(Nlow) for x in [0, 1]], 'r:')\n",
    "plt.plot([0, 1], [x - 1.36 / np.sqrt(Nlow) for x in [0, 1]], 'r:')\n",
    "plt.plot(Femp, Fmodel)\n",
    "#plt.axis([0, 1, 0, 1])         \n",
    "plt.xlabel('Model CDF')\n",
    "plt.ylabel('Empirical CDF')\n",
    "plt.show()"
   ]
  },
  {
   "cell_type": "code",
   "execution_count": null,
   "id": "dfcdacfb",
   "metadata": {},
   "outputs": [],
   "source": [
    "def this_Bayesian_mixture_model(ISI_data):\n",
    "    with pm.Model() as model:\n",
    "        ##### WALD DISTRIBUTION (INVERSE GAUSSIAN)\n",
    "        mu1 = pm.Uniform('mu1',lower=0.01,upper=0.1)\n",
    "        lam1 = pm.Uniform('lam1',lower=0.001,upper=0.04)\n",
    "        obs1 = pm.Wald.dist(mu=mu1,lam=lam1)\n",
    "\n",
    "\n",
    "        mu2 = pm.Uniform('mu2',lower=0,upper=0.2)\n",
    "        sigma2 = pm.Uniform('sigma2',lower=0.0001,upper=0.5)\n",
    "        obs2 = pm.TruncatedNormal.dist(mu=mu2, sigma=sigma2, lower=0.0)\n",
    "\n",
    "        mu3 = pm.Uniform('mu3',lower=0.1,upper=0.6)\n",
    "        sigma3 = pm.Uniform('sigma3',lower=0.0001,upper=0.5)\n",
    "        obs3 = pm.TruncatedNormal.dist(mu=mu3, sigma=sigma3, lower=0.0)\n",
    "\n",
    "\n",
    "        w = pm.Dirichlet('w', a=np.array([1., .4, .4]))\n",
    "        #w = pm.Dirichlet('w', a=np.array([1., .4]))\n",
    "\n",
    "        like = pm.Mixture('like', w=w, comp_dists = [obs1, obs2, obs3], observed=ISI_data)\n",
    "        #like = pm.Mixture('like', w=w, comp_dists = [obs1, obs2], observed=ISI_data)\n",
    "\n",
    "        step = pm.NUTS(target_accept=0.9)\n",
    "        trace = pm.sample(step=step,draws=1000,chains=1,tune=1000,cores=4)\n",
    "        \n",
    "        ppc_trace = pm.sample_posterior_predictive(trace,model=model)\n",
    "        if ppc_trace==0:\n",
    "            print('ppc_trace not succesful')\n",
    "        lista_samples=[]\n",
    "        for i in list(ppc_trace['posterior_predictive']['like'].values):\n",
    "            lista_samples.extend(i)\n",
    "        counts, _ = np.histogram(ISI_healthy, bins) \n",
    "        prob_emp = counts / np.sum(counts)\n",
    "        counts, _ = np.histogram(lista_samples, bins) \n",
    "        prob_model = counts / np.sum(counts)\n",
    "\n",
    "        Femp = np.cumsum(prob_emp)           \n",
    "        Fmodel = np.cumsum(prob_model)          \n",
    "        plt.figure()\n",
    "        plt.plot(bins[:-1], Femp)                \n",
    "        plt.plot(bins[:-1], Fmodel, 'r')       \n",
    "        #plt.xlim([0, 0.2])                  \n",
    "        plt.xlabel('Time [s]')\n",
    "        plt.ylabel('CDF')\n",
    "        plt.legend(['Empirical','Model'])\n",
    "        plt.show()\n",
    "        plt.figure()\n",
    "        Nlow = len(ISI_healthy)  \n",
    "        # Plot the confidence bounds\n",
    "        plt.plot([0, 1], [x + 1.36 / np.sqrt(Nlow) for x in [0, 1]], 'r:')\n",
    "        plt.plot([0, 1], [x - 1.36 / np.sqrt(Nlow) for x in [0, 1]], 'r:')\n",
    "        plt.plot(Femp, Fmodel)\n",
    "        #plt.axis([0, 1, 0, 1])         \n",
    "        plt.xlabel('Model CDF')\n",
    "        plt.ylabel('Empirical CDF')\n",
    "        plt.show()\n",
    "        \n",
    "    map_estimate = pm.find_MAP(model=model)\n",
    "    \n",
    "    del map_estimate['w_simplex__']\n",
    "    del map_estimate['mu1_interval__']\n",
    "    del map_estimate['lam1_interval__']\n",
    "    del map_estimate['mu2_interval__']\n",
    "    del map_estimate['sigma2_interval__']\n",
    "    del map_estimate['mu3_interval__']\n",
    "    del map_estimate['sigma3_interval__']\n",
    "    \n",
    "    map_estimate['w1'] = map_estimate['w'][0]\n",
    "    map_estimate['w2'] = map_estimate['w'][1]\n",
    "    map_estimate['w3'] = map_estimate['w'][2]\n",
    "\n",
    "    del map_estimate['w']\n",
    "\n",
    "\n",
    "    return map_estimate, ppc_trace"
   ]
  },
  {
   "cell_type": "code",
   "execution_count": null,
   "id": "012ee18a",
   "metadata": {},
   "outputs": [],
   "source": [
    "dataframe = pd.DataFrame()\n",
    "list_neurons = neurons\n",
    "counter=0\n",
    "target=0\n",
    "print('Original number of neurons: ',len(list_neurons))\n",
    "for neuron in list_neurons:\n",
    "    neuron=neuron[neuron>0*10000]\n",
    "    neuron=neuron[neuron<200*10000]\n",
    "    print('  Neuron with ',neuron.shape[0],'spikes')\n",
    "    if neuron.shape[0]>1000:\n",
    "\n",
    "        counter+=1\n",
    "    else:\n",
    "        print('    Excluded neuron with n spikes = ',neuron.shape[0])\n",
    "        continue\n",
    "\n",
    "    ISI_healthy = np.diff(neuron)/10000\n",
    "\n",
    "\n",
    "    map_estimate,ppc_trace = this_Bayesian_mixture_model(ISI_healthy)\n",
    "    trace(ppc_trace)\n",
    "    df = pd.DataFrame.from_dict(map_estimate,orient='index')\n",
    "    dataframe = pd.concat([dataframe,df],axis = 1)\n",
    "print('Final number of neurons: ',counter)\n",
    "print('Target = ',target)"
   ]
  },
  {
   "cell_type": "code",
   "execution_count": null,
   "id": "752738c7",
   "metadata": {},
   "outputs": [],
   "source": [
    "final = dataframe.T\n",
    "final.to_csv('Data after PP/DataAfter')"
   ]
  },
  {
   "cell_type": "code",
   "execution_count": null,
   "id": "8b55272c",
   "metadata": {},
   "outputs": [],
   "source": []
  },
  {
   "cell_type": "markdown",
   "id": "d5e0cbdd",
   "metadata": {},
   "source": [
    "## Classification"
   ]
  },
  {
   "cell_type": "code",
   "execution_count": null,
   "id": "bf6920ad",
   "metadata": {},
   "outputs": [],
   "source": [
    "def performance_visualizer(trials_obj,n_models,choice=False,**choice_var):\n",
    "    \n",
    "    import pandas as pd\n",
    "    \n",
    "    performance = [1-t['result']['loss'] for t in trials_obj.trials]\n",
    "    \n",
    "    \n",
    "    hyperparam= list(trials_obj.trials[0]['misc']['vals'].keys())\n",
    "    \n",
    "    values_dict ={}\n",
    "    \n",
    "    for i in hyperparam:\n",
    "        \n",
    "        values_dict[i]=[]\n",
    "        \n",
    "        for j in trials_obj.trials:\n",
    "            \n",
    "            if(len(j['misc']['vals'][i])==0):\n",
    "                \n",
    "                values_dict[i].append(np.NaN)\n",
    "                \n",
    "            else:\n",
    "            \n",
    "                values_dict[i].append(j['misc']['vals'][i][0])\n",
    "                \n",
    "    out = pd.DataFrame.from_dict(values_dict)\n",
    "    \n",
    "    out['performance'] = performance\n",
    "    \n",
    "    out=out.sort_values(by=['performance'])\n",
    "    \n",
    "    \n",
    "    if choice:\n",
    "        \n",
    "        for i in list(choice_var.keys()):\n",
    "        \n",
    "            for j,_ in enumerate(choice_var[i]):\n",
    "        \n",
    "                out[i]=out[i].replace(j,choice_var[i][j])\n",
    "    \n",
    "    return out.tail(n_models)"
   ]
  },
  {
   "cell_type": "code",
   "execution_count": null,
   "id": "5d895d22",
   "metadata": {},
   "outputs": [],
   "source": [
    "dataset = pd.read_csv('Data after PP/Data')\n",
    "dataset = dataset.drop(['Unnamed: 0'],axis=1)\n",
    "dataset"
   ]
  },
  {
   "cell_type": "code",
   "execution_count": null,
   "id": "ecb252cf",
   "metadata": {},
   "outputs": [],
   "source": []
  }
 ],
 "metadata": {
  "kernelspec": {
   "display_name": "Python 3 (ipykernel)",
   "language": "python",
   "name": "python3"
  },
  "language_info": {
   "codemirror_mode": {
    "name": "ipython",
    "version": 3
   },
   "file_extension": ".py",
   "mimetype": "text/x-python",
   "name": "python",
   "nbconvert_exporter": "python",
   "pygments_lexer": "ipython3",
   "version": "3.11.4"
  }
 },
 "nbformat": 4,
 "nbformat_minor": 5
}
