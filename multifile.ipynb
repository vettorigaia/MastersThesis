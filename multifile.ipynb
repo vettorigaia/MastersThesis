{
 "cells": [
  {
   "cell_type": "code",
   "execution_count": 1,
   "id": "74c6d662",
   "metadata": {},
   "outputs": [],
   "source": [
    "from NewLibraryENG import *\n",
    "\n",
    "name_data = '2018-11-27T10-29-42POP 2 BL .h5'\n",
    "name_data2 = '2018-11-27T12-03-02POP 2 stimulation.h5'\n",
    "name_data3='2018-11-27T10-56-39MiP5 KA stimulation.h5'\n",
    "name_data4='2018-11-27T11-24-28MiP3 stimulation.h5'\n",
    "name_data5='2018-11-27T10-40-53POP 3 BL .h5'\n",
    "complete_string='/Users/Gaia_1/Downloads/PoiProMEA-master/h5files/'+name_data\n",
    "complete_string2='/Users/Gaia_1/Downloads/PoiProMEA-master/h5files/'+name_data2\n",
    "complete_string3='/Users/Gaia_1/Downloads/PoiProMEA-master/h5files/'+name_data3\n",
    "complete_string4='/Users/Gaia_1/Downloads/PoiProMEA-master/h5files/'+name_data4\n",
    "complete_string5='/Users/Gaia_1/Downloads/PoiProMEA-master/h5files/'+name_data5"
   ]
  },
  {
   "cell_type": "code",
   "execution_count": 6,
   "id": "f240e188",
   "metadata": {},
   "outputs": [],
   "source": [
    "import glob\n",
    "list_dir=glob.glob(\"/Users/Gaia_1/Desktop/h5files/*.h5\")"
   ]
  },
  {
   "cell_type": "code",
   "execution_count": 9,
   "id": "1901f556",
   "metadata": {},
   "outputs": [
    {
     "data": {
      "text/plain": [
       "['/Users/Gaia_1/Desktop/h5files/2019-01-23T11-05-52MIP3 health cortical .h5',\n",
       " '/Users/Gaia_1/Desktop/h5files/2019-01-24T15-49-35Pop3 24hour after KA.h5',\n",
       " '/Users/Gaia_1/Desktop/h5files/2018-11-27T12-16-31POP 3 control.h5',\n",
       " '/Users/Gaia_1/Desktop/h5files/2018-11-28T12-22-45Pop1 control.h5',\n",
       " '/Users/Gaia_1/Desktop/h5files/2019-01-23T16-06-32Pop1 healthy cortical .h5',\n",
       " '/Users/Gaia_1/Desktop/h5files/2018-11-27T10-56-39MiP5 KA stimulation.h5',\n",
       " '/Users/Gaia_1/Desktop/h5files/2018-11-27T09-22-44MIP 5 BL .h5',\n",
       " '/Users/Gaia_1/Desktop/h5files/2018-11-28T12-35-18Pop2 stimulation.h5',\n",
       " '/Users/Gaia_1/Desktop/h5files/2018-11-27T10-29-42POP 2 BL .h5',\n",
       " '/Users/Gaia_1/Desktop/h5files/2018-11-27T09-49-48MIP 3 BL .h5',\n",
       " '/Users/Gaia_1/Desktop/h5files/2019-01-23T11-30-29MEA2 healthy cortical .h5',\n",
       " '/Users/Gaia_1/Desktop/h5files/2018-11-27T10-40-53POP 3 BL .h5',\n",
       " '/Users/Gaia_1/Desktop/h5files/2018-11-27T10-17-41POP 1 BL .h5',\n",
       " '/Users/Gaia_1/Desktop/h5files/2018-11-28T12-47-25Pop3 Control.h5',\n",
       " '/Users/Gaia_1/Desktop/h5files/2019-01-23T16-22-47Pop3 healthy cortical .h5',\n",
       " '/Users/Gaia_1/Desktop/h5files/2018-11-28T11-55-53MIP3 KA 24hrs after.h5',\n",
       " '/Users/Gaia_1/Desktop/h5files/2019-01-23T15-49-43MEA2 healthy cortical .h5',\n",
       " '/Users/Gaia_1/Desktop/h5files/2018-11-27T11-36-50MiP4 stimulation.h5',\n",
       " '/Users/Gaia_1/Desktop/h5files/2019-01-23T11-19-05PoP1 healthy cortical .h5',\n",
       " '/Users/Gaia_1/Desktop/h5files/2018-11-27T11-50-12POP 1 control.h5',\n",
       " '/Users/Gaia_1/Desktop/h5files/2018-11-28T11-42-06MIP2 Cont 24hrs after.h5',\n",
       " '/Users/Gaia_1/Desktop/h5files/2019-01-24T16-00-33Pop1 24hour after.h5',\n",
       " '/Users/Gaia_1/Desktop/h5files/2018-11-27T12-03-02POP 2 stimulation.h5',\n",
       " '/Users/Gaia_1/Desktop/h5files/2018-11-27T10-03-29MIP4 BL .h5',\n",
       " '/Users/Gaia_1/Desktop/h5files/2018-11-27T09-38-09MIP 2 BL .h5',\n",
       " '/Users/Gaia_1/Desktop/h5files/2018-11-27T11-24-28MiP3 stimulation.h5',\n",
       " '/Users/Gaia_1/Desktop/h5files/2018-11-28T11-29-05MIP 5 KA 24hrs after.h5',\n",
       " '/Users/Gaia_1/Desktop/h5files/2019-01-23T15-36-26MEA3 healthy cortical .h5',\n",
       " '/Users/Gaia_1/Desktop/h5files/2019-01-23T11-41-41Pop1 healthy cortical .h5',\n",
       " '/Users/Gaia_1/Desktop/h5files/2018-11-28T12-08-45MIP4 KA 24hrs after.h5',\n",
       " '/Users/Gaia_1/Desktop/h5files/2018-11-27T11-10-45MiP2 control.h5',\n",
       " '/Users/Gaia_1/Desktop/h5files/2019-01-24T15-38-41MiP2 24hour after KA.h5']"
      ]
     },
     "execution_count": 9,
     "metadata": {},
     "output_type": "execute_result"
    }
   ],
   "source": [
    "for file in list_dir:\n",
    "    string=file\n",
    "    data=h5py.File(complete_string,'r')"
   ]
  },
  {
   "cell_type": "code",
   "execution_count": null,
   "id": "1a656a00",
   "metadata": {},
   "outputs": [],
   "source": [
    "data = h5py.File(complete_string4,'r')"
   ]
  },
  {
   "cell_type": "code",
   "execution_count": null,
   "id": "8b784f21",
   "metadata": {},
   "outputs": [],
   "source": []
  },
  {
   "cell_type": "code",
   "execution_count": null,
   "id": "94070a97",
   "metadata": {},
   "outputs": [],
   "source": []
  },
  {
   "cell_type": "code",
   "execution_count": null,
   "id": "f7e7af32",
   "metadata": {},
   "outputs": [],
   "source": []
  },
  {
   "cell_type": "code",
   "execution_count": null,
   "id": "de7644f7",
   "metadata": {},
   "outputs": [],
   "source": []
  },
  {
   "cell_type": "code",
   "execution_count": null,
   "id": "5980c08b",
   "metadata": {},
   "outputs": [],
   "source": []
  },
  {
   "cell_type": "code",
   "execution_count": null,
   "id": "ae330f6e",
   "metadata": {},
   "outputs": [],
   "source": []
  }
 ],
 "metadata": {
  "kernelspec": {
   "display_name": "Python 3 (ipykernel)",
   "language": "python",
   "name": "python3"
  },
  "language_info": {
   "codemirror_mode": {
    "name": "ipython",
    "version": 3
   },
   "file_extension": ".py",
   "mimetype": "text/x-python",
   "name": "python",
   "nbconvert_exporter": "python",
   "pygments_lexer": "ipython3",
   "version": "3.11.4"
  }
 },
 "nbformat": 4,
 "nbformat_minor": 5
}
