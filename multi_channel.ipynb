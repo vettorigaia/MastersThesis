{
 "cells": [
  {
   "cell_type": "code",
   "execution_count": 1,
   "id": "fc67d97d",
   "metadata": {},
   "outputs": [],
   "source": [
    "#più canali\n",
    "#valutare se settare i margini dei firing rates tra 0.16-2Hz come nel paper\n",
    "#derivata seconda su waveform papers\n",
    "# un file con bl e stimulato (clustering su tutto e divisione in due classi in base a indice)"
   ]
  },
  {
   "cell_type": "code",
   "execution_count": 2,
   "id": "9107b096",
   "metadata": {},
   "outputs": [],
   "source": [
    "from NewLibraryENG import *\n",
    "from tqdm.notebook import tqdm\n",
    "import sklearn.preprocessing as ps\n",
    "import numpy as np\n",
    "import pandas as pd\n",
    "from sklearn.preprocessing import StandardScaler\n",
    "from random import randint\n",
    "from fastdtw import fastdtw\n",
    "import copy\n",
    "import pymc as pm\n",
    "#name_data = '2018-11-27T10-29-42POP 2 BL .h5'\n",
    "#name_data = '2018-11-27T12-03-02POP 2 stimulation.h5'\n",
    "#name_data='2018-11-27T10-56-39MiP5 KA stimulation.h5'\n",
    "#name_data='2018-11-27T11-24-28MiP3 stimulation.h5'\n",
    "#name_data='2018-11-27T10-40-53POP 3 BL .h5'\n",
    "#name_data='2019-01-23T11-05-52MIP3 health cortical .h5'\n",
    "#name_data='2019-01-23T15-49-43MEA2 healthy cortical .h5'\n",
    "#name_data='2019-01-23T16-22-47Pop3 healthy cortical .h5'\n",
    "#name_data='2019-01-23T16-06-32Pop1 healthy cortical .h5'\n",
    "name_data='2019-01-24T16-00-33Pop1 24hour after.h5'\n",
    "\n",
    "complete_string='/Users/Gaia_1/Desktop/allh5files/healthy/healthy 24hrs later/'+name_data"
   ]
  },
  {
   "cell_type": "code",
   "execution_count": 3,
   "id": "8597abb4",
   "metadata": {},
   "outputs": [
    {
     "name": "stdout",
     "output_type": "stream",
     "text": [
      "(4228000, 60)\n"
     ]
    }
   ],
   "source": [
    "data = h5py.File(complete_string,'r')\n",
    "\n",
    "data_readings = data['Data']['Recording_0']['AnalogStream']['Stream_0']['ChannelData'][()]\n",
    "info = data['Data']['Recording_0']['AnalogStream']['Stream_0']['InfoChannel'][()]\n",
    "info_table = pd.DataFrame(info, columns = list(info.dtype.fields.keys()))\n",
    "labels = info_table['Label']\n",
    "readings = pd.DataFrame(data = data_readings.transpose(), columns = labels)\n",
    "fs = 10000 #Sampling Frequency\n",
    "print(readings.shape)"
   ]
  },
  {
   "cell_type": "code",
   "execution_count": 4,
   "id": "5b0c4b19",
   "metadata": {},
   "outputs": [
    {
     "name": "stdout",
     "output_type": "stream",
     "text": [
      "(4228000, 16) (4228000,)\n"
     ]
    }
   ],
   "source": [
    "inizio=0\n",
    "#len_data=810000 #192 secondi\n",
    "len_data=len(readings)\n",
    "prova=readings.iloc[inizio:len_data, 10:27]\n",
    "prova=prova.drop([b'Ref'],axis=1)\n",
    "ref=readings[b'Ref']\n",
    "ref=ref[inizio:len_data]\n",
    "\n",
    "print(prova.shape,ref.shape)"
   ]
  },
  {
   "cell_type": "code",
   "execution_count": 5,
   "id": "f6cd53a4",
   "metadata": {},
   "outputs": [
    {
     "data": {
      "application/vnd.jupyter.widget-view+json": {
       "model_id": "362ce2bdb5664704bc10ab7b951c2d1a",
       "version_major": 2,
       "version_minor": 0
      },
      "text/plain": [
       "  0%|          | 0/16 [00:00<?, ?it/s]"
      ]
     },
     "metadata": {},
     "output_type": "display_data"
    },
    {
     "data": {
      "text/plain": [
       "(4228000, 16)"
      ]
     },
     "execution_count": 5,
     "metadata": {},
     "output_type": "execute_result"
    }
   ],
   "source": [
    "prova_rows = range(prova.shape[0])\n",
    "filt_prova = pd.DataFrame(data = 0, columns=prova.columns, index=prova_rows, dtype = \"float32\")\n",
    "lowcut = 300\n",
    "highcut = 3000\n",
    "fs=10000\n",
    "order=8\n",
    "b,a=butter_bandpass(lowcut,highcut,fs,order=order)\n",
    "filt_ref=filtfilt(b,a,ref)\n",
    "#ref_df = pd.DataFrame({b'Ref': filt_ref})\n",
    "for x in tqdm(range(prova.shape[1])):\n",
    "    filt_prova.values[:,x] = scipy.signal.filtfilt(b, a, prova.values[:,x])\n",
    "for electrode in prova.columns:\n",
    "    filt_prova[electrode] = filt_prova[electrode] - filt_ref\n",
    "#filt_prova = pd.concat([filt_prova, ref_df], axis=1)\n",
    "prova=filt_prova\n",
    "prova.shape"
   ]
  },
  {
   "cell_type": "code",
   "execution_count": null,
   "id": "d216ef31",
   "metadata": {},
   "outputs": [],
   "source": []
  },
  {
   "cell_type": "markdown",
   "id": "eed210bb",
   "metadata": {},
   "source": [
    "# Spike detection"
   ]
  },
  {
   "cell_type": "code",
   "execution_count": 14,
   "id": "1f1574e9",
   "metadata": {},
   "outputs": [
    {
     "data": {
      "application/vnd.jupyter.widget-view+json": {
       "model_id": "ae5efa4d6e5b43aeb76d76db54885b95",
       "version_major": 2,
       "version_minor": 0
      },
      "text/plain": [
       "0it [00:00, ?it/s]"
      ]
     },
     "metadata": {},
     "output_type": "display_data"
    }
   ],
   "source": [
    "threshold=[]\n",
    "for i,electrode in tqdm(enumerate(prova.columns)):\n",
    "    threshold.append(4*(scipy.stats.median_abs_deviation(prova[electrode].values)))\n",
    "    "
   ]
  },
  {
   "cell_type": "code",
   "execution_count": 18,
   "id": "d0fc7b3d",
   "metadata": {},
   "outputs": [
    {
     "data": {
      "text/plain": [
       "111.1728190488953"
      ]
     },
     "execution_count": 18,
     "metadata": {},
     "output_type": "execute_result"
    }
   ],
   "source": [
    "threshold[0]"
   ]
  },
  {
   "cell_type": "code",
   "execution_count": 23,
   "id": "e035fe5d",
   "metadata": {},
   "outputs": [
    {
     "data": {
      "application/vnd.jupyter.widget-view+json": {
       "model_id": "61db24630d9c4b538fff49d06269fe4c",
       "version_major": 2,
       "version_minor": 0
      },
      "text/plain": [
       "0it [00:00, ?it/s]"
      ]
     },
     "metadata": {},
     "output_type": "display_data"
    },
    {
     "name": "stdout",
     "output_type": "stream",
     "text": [
      "positive spikes 37132 negative spikes 2592 detected spikes: 39724 firing rate:  93.95458845789972\n",
      "positive spikes 37560 negative spikes 2506 detected spikes: 40066 firing rate:  94.76348155156103\n",
      "positive spikes 36325 negative spikes 2711 detected spikes: 39036 firing rate:  92.32734153263955\n",
      "positive spikes 36347 negative spikes 2669 detected spikes: 39016 firing rate:  92.28003784295176\n",
      "positive spikes 33056 negative spikes 3533 detected spikes: 36589 firing rate:  86.53973509933775\n",
      "positive spikes 34767 negative spikes 2951 detected spikes: 37718 firing rate:  89.2100283822138\n",
      "positive spikes 35663 negative spikes 2764 detected spikes: 38427 firing rate:  90.88694418164617\n",
      "positive spikes 34637 negative spikes 2953 detected spikes: 37590 firing rate:  88.90728476821192\n",
      "positive spikes 36057 negative spikes 2704 detected spikes: 38761 firing rate:  91.67691579943235\n",
      "positive spikes 34217 negative spikes 3255 detected spikes: 37472 firing rate:  88.62819299905392\n",
      "positive spikes 36021 negative spikes 2855 detected spikes: 38876 firing rate:  91.94891201513718\n",
      "positive spikes 36182 negative spikes 2804 detected spikes: 38986 firing rate:  92.20908230842005\n",
      "positive spikes 36319 negative spikes 2739 detected spikes: 39058 firing rate:  92.37937559129612\n",
      "positive spikes 36766 negative spikes 2803 detected spikes: 39569 firing rate:  93.5879848628193\n",
      "positive spikes 39666 negative spikes 2283 detected spikes: 41949 firing rate:  99.21712393566698\n",
      "positive spikes 39861 negative spikes 2303 detected spikes: 42164 firing rate:  99.72563859981078\n"
     ]
    }
   ],
   "source": [
    "pos_ind=[]\n",
    "neg_ind=[]\n",
    "for i,electrode in tqdm(enumerate(prova.columns)):\n",
    "    channel=prova[electrode]\n",
    "    thresh=threshold[i]\n",
    "    pos,neg=new_find_all_spikes(channel,thresh)\n",
    "    pos_ind.append(pos)\n",
    "    neg_ind.append(neg)"
   ]
  },
  {
   "cell_type": "markdown",
   "id": "785d46b7",
   "metadata": {
    "scrolled": true
   },
   "source": [
    "pos_ind=[]\n",
    "neg_ind=[]\n",
    "for electrode in tqdm(prova.columns):\n",
    "    channel=prova[electrode]\n",
    "    pos, neg=find_all_spikes(channel)\n",
    "    pos_ind.append(pos)\n",
    "    neg_ind.append(neg)"
   ]
  },
  {
   "cell_type": "code",
   "execution_count": null,
   "id": "ac758d63",
   "metadata": {},
   "outputs": [],
   "source": []
  },
  {
   "cell_type": "markdown",
   "id": "7b565d61",
   "metadata": {},
   "source": [
    "BL: window 3000 (threshold 4 MAD) firing 18    \n",
    "BL: window 300 (thresh 3), firing 89    \n",
    "KA: window 3000 (thresh 3), firing 94    \n",
    "KA: window 3000 (thresh 4), firing 29    \n",
    "KA: window 300, (thresh 4) firing 39   \n",
    "KA: window 300, (thresh 3) firing 108   "
   ]
  },
  {
   "cell_type": "markdown",
   "id": "19ec8cc4",
   "metadata": {},
   "source": [
    "plt.figure(figsize=(30, 15))\n",
    "plt.plot(prova, label='Signal Data')\n",
    "plt.scatter(pos, [prova[i] for i in pos], c='red', marker='o', label='Local Maxima')\n",
    "plt.scatter(neg, [prova[i] for i in neg], c='green', marker='o', label='Local Minima')\n",
    "plt.xlabel('Sample Index')\n",
    "plt.ylabel('Signal Value')\n",
    "plt.legend()\n",
    "plt.grid(True)\n",
    "plt.title('Signal Data with Detected Spikes')\n",
    "#plt.axis([0,3000,-5,5])\n",
    "#plt.savefig('spikes1.jpg')\n",
    "plt.show()"
   ]
  },
  {
   "cell_type": "code",
   "execution_count": null,
   "id": "6ddba0cf",
   "metadata": {},
   "outputs": [],
   "source": []
  },
  {
   "cell_type": "markdown",
   "id": "b355436f",
   "metadata": {},
   "source": [
    "minima,maxima=RMM(prova)\n",
    "print(len(maxima))\n",
    "#segnale BASELINE: firing rate=70 (spikes 26148)\n",
    "#segnale Stimulation: firing rate=69 (spikes 32980)\n",
    "#segnale KA stimulation: firing rate=81 (spikes 47860)"
   ]
  },
  {
   "cell_type": "markdown",
   "id": "018a7067",
   "metadata": {},
   "source": [
    "minima,maxima=find_spikes(prova)\n",
    "len(maxima)\n",
    "#segnale BASELINE: firing rate=27 (spikes 10276)\n",
    "#segnale Stimulation: firing rate=27 (spikes 13198)\n",
    "#segnale KA stimulation: firing rate=32 (spikes 19178)"
   ]
  },
  {
   "cell_type": "markdown",
   "id": "5256bf0b",
   "metadata": {},
   "source": [
    "minima,maxima=find_spikes_with_memory(prova)\n",
    "len(maxima)\n",
    "#segnale BASELINE: firing rate=25 (spikes 9270)\n",
    "#segnale Stimulation: firing rate=22 (spikes 10579)\n",
    "#segnale KA stimulation: firing rate=8 (spikes 5054)"
   ]
  },
  {
   "cell_type": "markdown",
   "id": "76991121",
   "metadata": {},
   "source": [
    "plt.figure(figsize=(30, 15))\n",
    "plt.plot(prova, label='Signal Data')\n",
    "plt.scatter(minima, [prova[i] for i in minima], c='red', marker='o', label='Local Minima')\n",
    "plt.scatter(maxima, [prova[i] for i in maxima], c='green', marker='x', label='Local maxima')\n",
    "plt.xlabel('Sample Index')\n",
    "plt.ylabel('Signal Value')\n",
    "plt.legend()\n",
    "plt.grid(True)\n",
    "plt.title('Signal Data with Detected Spikes')\n",
    "#plt.axis([0,30000,-5,5])\n",
    "#plt.savefig('spikes2.jpg')\n",
    "plt.show()"
   ]
  },
  {
   "cell_type": "code",
   "execution_count": null,
   "id": "8a8f5432",
   "metadata": {},
   "outputs": [],
   "source": []
  },
  {
   "cell_type": "markdown",
   "id": "dc55e4f8",
   "metadata": {},
   "source": [
    "# Cutouts"
   ]
  },
  {
   "cell_type": "code",
   "execution_count": null,
   "id": "4ead6842",
   "metadata": {
    "scrolled": false
   },
   "outputs": [],
   "source": [
    "pos_cut=[]\n",
    "neg_cut=[]\n",
    "n_pos=[]\n",
    "n_neg=[]\n",
    "\n",
    "for i,electrode in enumerate(tqdm(prova.columns)):\n",
    "    pos=pos_ind[i]\n",
    "    neg=neg_ind[i]\n",
    "    channel=prova[electrode]\n",
    "    pos_cut1,n_pos1, neg_cut1,n_neg1 = cut(pos,neg,channel)\n",
    "    pos_cut.append(pos_cut1)\n",
    "    neg_cut.append(neg_cut1)\n",
    "    n_pos.append(n_pos1)\n",
    "    n_neg.append(n_neg1)\n",
    "#savedp = copy.deepcopy(pos_cut)\n",
    "#savedn = copy.deepcopy(neg_cut)"
   ]
  },
  {
   "cell_type": "code",
   "execution_count": null,
   "id": "15977543",
   "metadata": {},
   "outputs": [],
   "source": [
    "for i in (tqdm(range(len(pos_cut)))):\n",
    "    pos_cut[i]=mask_cuts(pos_cut[i])\n",
    "    neg_cut[i]= mask_cuts(neg_cut[i])"
   ]
  },
  {
   "cell_type": "markdown",
   "id": "6e396dc0",
   "metadata": {
    "scrolled": true
   },
   "source": [
    "x=randint(1,len(pos_cut)-1)\n",
    "y=randint(1,len(pos_cut[x])-1)\n",
    "\n",
    "plt.plot(savedp[x][y])\n",
    "plt.plot(pos_cut[x][y])\n",
    "plt.show()\n",
    "#plt.plot(savedn[x])\n",
    "#plt.plot(neg_cut[x])\n",
    "#plt.show()"
   ]
  },
  {
   "cell_type": "code",
   "execution_count": null,
   "id": "38fa2e99",
   "metadata": {},
   "outputs": [],
   "source": []
  },
  {
   "cell_type": "code",
   "execution_count": null,
   "id": "aaabeff3",
   "metadata": {},
   "outputs": [],
   "source": []
  },
  {
   "cell_type": "markdown",
   "id": "0dba03b7",
   "metadata": {},
   "source": [
    "import pandas as pd\n",
    "pca = PCA()\n",
    "pca.fit(pos_cut)\n",
    "explained_variances = pca.explained_variance_ratio_\n",
    "explained_variance_df = pd.DataFrame(data={'Explained Variance': explained_variances},\n",
    "                                     index=range(1, len(explained_variances) + 1))\n",
    "explained_variance_df.transpose()"
   ]
  },
  {
   "cell_type": "markdown",
   "id": "e67be79a",
   "metadata": {},
   "source": [
    "cumulative_explained_variance = np.cumsum(explained_variances)\n",
    "cumulative_explained_variance_df = pd.DataFrame(data={'Cumulative Explained Variance': cumulative_explained_variance},\n",
    "                                                index=range(1, len(cumulative_explained_variance) + 1))\n",
    "cumulative_explained_variance_df.transpose()\n"
   ]
  },
  {
   "cell_type": "code",
   "execution_count": null,
   "id": "e72ef327",
   "metadata": {},
   "outputs": [],
   "source": []
  },
  {
   "cell_type": "markdown",
   "id": "cd0ea887",
   "metadata": {},
   "source": [
    "# Clustering"
   ]
  },
  {
   "cell_type": "markdown",
   "id": "cba86cd0",
   "metadata": {
    "scrolled": true
   },
   "source": [
    "final_data_pos=[]\n",
    "for channel in (tqdm(range(len(pos_cut)))):\n",
    "    channel_clusters= hdbscan_clustering(pos_cut[channel],n_pos[channel],prova.iloc[:,channel])\n",
    "    final_data_pos.append(channel_clusters)\n",
    "    "
   ]
  },
  {
   "cell_type": "markdown",
   "id": "1668da9d",
   "metadata": {},
   "source": [
    "BL (window 3000, thresh 4) (less function) fuzzy (1.8, 4, 3.99)   \n",
    "BL (window 300) (less function) fuzzy (19, 18, 9)   \n",
    "BL (window 300) (less function) dbscan (30, 9)   \n",
    "BL (window 300) (bit less function std) fuzzy (8.9, 18.2, 17.8)   \n",
    "BL (window 300) (more cut function) fuzzy (8.9, 17.7, 18.3)   \n",
    "BL (window 300) (more cut function) dbscan (29, 6)   \n",
    "BL (less cut function) fuzzy: (15, 8 ,15)   \n",
    "\n",
    "KA (window 300, thresh 4) (less function) fuzzy (3.8, 4, 1.9)   \n",
    "KA (window 3000, thresh 4) (less function) fuzzy (2.6, 1.2, 2.8)   \n",
    "KA stimualtion 3 clusters fuzzy: (13, 6, 12)   \n",
    "KA stim (window 300) (new cut function) (1.17,2.55,2.37)   \n",
    "\n",
    "firing rate between 0.16 and 2 Hz\n",
    "fr=len(cluster)*10000/len(alldata)=0.16-:2\n",
    "len(cluster)=len(spike_list)/n_clusters\n",
    "len(spike_list)*10.000/n_clusters*len(alldata)=0.16-2\n",
    "n_min=10.000*len(spike_list)/2*len(alldata)\n",
    "n_max=10.000*len(spike_list)/0.16*len(alldata)"
   ]
  },
  {
   "cell_type": "markdown",
   "id": "1bb7976b",
   "metadata": {
    "scrolled": true
   },
   "source": [
    "\n",
    "final_data_neg=[]\n",
    "for channel in (tqdm(range(len(neg_cut)))):\n",
    "    channel_clusters= hdbscan_clustering(neg_cut[channel],n_neg[channel],data)\n",
    "    final_data_neg.append(channel_clusters)"
   ]
  },
  {
   "cell_type": "code",
   "execution_count": null,
   "id": "2da37f83",
   "metadata": {},
   "outputs": [],
   "source": [
    "# togliere dal best score il DB score e usare solo il silhouette score ma su 15 prove\n",
    "# fare scrematura una volta formati i clusters, togliendo gli spike con distanza DTW sopra soglia\n",
    "# provare anche DTW tra medie di cluster"
   ]
  },
  {
   "cell_type": "code",
   "execution_count": null,
   "id": "9e5882bb",
   "metadata": {
    "scrolled": true
   },
   "outputs": [],
   "source": [
    "final_data_pos=[]\n",
    "for channel in (tqdm(range(len(pos_cut)))):\n",
    "    channel_clusters=nested_clus(pos_cut[channel],'fuzzy',n_pos[channel],prova.iloc[:,channel])\n",
    "    final_data_pos.append(channel_clusters)"
   ]
  },
  {
   "cell_type": "code",
   "execution_count": null,
   "id": "e9ab0c17",
   "metadata": {
    "scrolled": true
   },
   "outputs": [],
   "source": [
    "final_data_neg=[]\n",
    "print(name_data)\n",
    "for channel in (tqdm(range(len(neg_cut)))):\n",
    "    channel_clusters=nested_clus(neg_cut[channel],'fuzzy',n_neg[channel],prova.iloc[:,channel])\n",
    "    final_data_neg.append(channel_clusters)"
   ]
  },
  {
   "cell_type": "markdown",
   "id": "9b2b9409",
   "metadata": {},
   "source": [
    "BL (less cut function) (window 3000, thresh4) fuzzy: (3.5, 3.5, 1.6) silhouette: 0.231    \n",
    "BL (less cut function) (window 300) fuzzy: (17, 15, 6) silhouette: 0.215    \n",
    "BL (more cut function) (window 300) fuzzy: (15, 16, 7) silhouette: 0.218    \n",
    "BL (less cut function) fuzzy: (13, 13, 6) silhouette: 0.226    \n",
    "\n",
    "KA (less cut function) (window 300, thresh4) fuzzy: (1.9, 1.12, 1.9) silhouette: 0.229   \n",
    "KA (less cut function) (window 3000, thresh4) fuzzy: (1.4, 0.89, 1.4) silhouette: 0.223    \n",
    "KA stimulation 3 clusters fuzzy: (3.9, 3.7, 2) silhouette: 0.214    \n",
    "KA stimulation (more cut function) (window 3000) fuzzy: (2, 3.9, 3.7) silhouette: 0.214    \n",
    "KA stimulation (more cut function) (window 300) fuzzy (4.5, 4.4, 2.2) silhouette: 0.204    \n",
    "KA stimulation (more cut function) (window 300) dbscan (10.8,10.8)    "
   ]
  },
  {
   "cell_type": "markdown",
   "id": "d998427b",
   "metadata": {},
   "source": [
    "# Save"
   ]
  },
  {
   "cell_type": "code",
   "execution_count": null,
   "id": "886561c1",
   "metadata": {},
   "outputs": [],
   "source": [
    "len(final_data_pos[0][0])"
   ]
  },
  {
   "cell_type": "code",
   "execution_count": null,
   "id": "85a86cad",
   "metadata": {},
   "outputs": [],
   "source": [
    "final_data_neg"
   ]
  },
  {
   "cell_type": "code",
   "execution_count": null,
   "id": "366384fb",
   "metadata": {
    "scrolled": true
   },
   "outputs": [],
   "source": [
    "neurons=[]\n",
    "#min_len=len(final_data_pos[0][0])\n",
    "for electrode in final_data_pos:\n",
    "    for neuron in electrode:\n",
    "        #if len(neuron)>1000:\n",
    "        #min_len=min(min_len,len(neuron))\n",
    "        neurons.append(neuron)\n",
    "        #print(len(neuron))\n",
    "print('positive neurons:',len(neurons))\n"
   ]
  },
  {
   "cell_type": "code",
   "execution_count": null,
   "id": "fd16f094",
   "metadata": {},
   "outputs": [],
   "source": [
    "for electrode in final_data_neg:\n",
    "    for neuron in electrode:\n",
    "        #if len(neuron)>1000:\n",
    "        neurons.append(neuron)\n",
    "        min_len=min(min_len,len(neuron))\n",
    "        print(len(neuron))\n",
    "print('negative neurons: ',len(neurons))"
   ]
  },
  {
   "cell_type": "code",
   "execution_count": null,
   "id": "1ddb7f62",
   "metadata": {},
   "outputs": [],
   "source": [
    "len(neurons[21])"
   ]
  },
  {
   "cell_type": "code",
   "execution_count": null,
   "id": "5a4c2f7b",
   "metadata": {},
   "outputs": [],
   "source": [
    "adj_neur=[]\n",
    "for neuron in neurons:\n",
    "    neu=neuron#[0:min_len]\n",
    "    adj_neur.append(neu)\n",
    "print(min_len,len(adj_neur))"
   ]
  },
  {
   "cell_type": "code",
   "execution_count": null,
   "id": "f2de168b",
   "metadata": {},
   "outputs": [],
   "source": []
  },
  {
   "cell_type": "markdown",
   "id": "24b9e1bc",
   "metadata": {},
   "source": [
    "neurons = []\n",
    "lens=[]\n",
    "for electrode in final_data_pos:\n",
    "    for neuron in electrode:\n",
    "        if len(neuron)>1000:\n",
    "            lens.append(len(neuron))\n",
    "for neuron in final_data_neg:\n",
    "    for neuron in electrode:\n",
    "        if len(neuron)>1000:\n",
    "            lens.append(len(neuron))\n",
    "\n",
    "avg_len=int(np.mean(lens))\n",
    "for electrode in final_data_pos:\n",
    "    for neuron in electrode:\n",
    "        if len(neuron)>1000:\n",
    "            print(len(neuron))\n",
    "            diff = avg_len-len(neuron)\n",
    "            if diff<0:\n",
    "                neurons.append(neuron[0:avg_len])\n",
    "            else:\n",
    "                neurons.append(np.concatenate((neuron,np.zeros([diff]))))\n",
    "print(len(neurons),avg_len)"
   ]
  },
  {
   "cell_type": "markdown",
   "id": "39b88805",
   "metadata": {},
   "source": [
    "for neuron in final_data_neg:\n",
    "    for neuron in electrode:\n",
    "        if len(neuron)>1000:\n",
    "            print(len(neuron))\n",
    "            diff = avg_len-len(neuron)\n",
    "            if diff<0:\n",
    "                neurons.append(neuron[0:avg_len])\n",
    "            else:\n",
    "                neurons.append(np.concatenate((neuron,np.zeros([diff]))))\n",
    "print(len(neurons),avg_len)"
   ]
  },
  {
   "cell_type": "code",
   "execution_count": null,
   "id": "2954bc90",
   "metadata": {},
   "outputs": [],
   "source": []
  },
  {
   "cell_type": "markdown",
   "id": "71c4d48b",
   "metadata": {
    "scrolled": true
   },
   "source": [
    "adj_neur=[]\n",
    "counter = 0\n",
    "max_len=0\n",
    "\n",
    "for neu in neurons:\n",
    "    print('counter: ',counter,neu.shape[0])\n",
    "    if neu.shape[0]>max_len:\n",
    "        max_len=neu.shape[0]\n",
    "    counter+=1\n",
    "for neuron in neurons:\n",
    "    if neuron.shape[0]<=max_len:\n",
    "        diff = max_len-neuron.shape[0]\n",
    "        adj_neur.append(np.concatenate((neuron,np.zeros([diff]))))\n",
    "print(max_len)"
   ]
  },
  {
   "cell_type": "code",
   "execution_count": null,
   "id": "2f37fb9e",
   "metadata": {},
   "outputs": [],
   "source": [
    "save_data = 'After'+name_data+'.txt'\n",
    "print(name_data)"
   ]
  },
  {
   "cell_type": "code",
   "execution_count": null,
   "id": "ac48f07e",
   "metadata": {},
   "outputs": [],
   "source": [
    "np.savetxt(\"/Users/Gaia_1/Desktop/tesi/Data after SS/%s.txt\" % save_data,adj_neur, delimiter=', ', fmt='%12.8f')"
   ]
  },
  {
   "cell_type": "markdown",
   "id": "9ac710f3",
   "metadata": {},
   "source": [
    "## Point Process"
   ]
  },
  {
   "cell_type": "code",
   "execution_count": null,
   "id": "d97aa178",
   "metadata": {},
   "outputs": [],
   "source": [
    "neurons=[]\n",
    "for neuron in final_data_pos:\n",
    "    neurons.append(neuron)\n",
    "for neuron in final_data_neg:\n",
    "    neurons.append(neuron)\n",
    "neurons"
   ]
  },
  {
   "cell_type": "code",
   "execution_count": null,
   "id": "2e80e211",
   "metadata": {},
   "outputs": [],
   "source": [
    "neurons[0]"
   ]
  },
  {
   "cell_type": "code",
   "execution_count": null,
   "id": "9bc889e4",
   "metadata": {},
   "outputs": [],
   "source": [
    "x=randint(0,len(neurons))\n",
    "#x=21\n",
    "print('neur: ',x)\n",
    "#if len(neurons[x])>1000:\n",
    "print('length: ',len(neurons[x]))\n",
    "data_healthy=neurons[x]\n",
    "ISI_healthy = np.diff(data_healthy)/10000\n",
    "#else:\n",
    "    #print('try again')"
   ]
  },
  {
   "cell_type": "code",
   "execution_count": null,
   "id": "a6508b49",
   "metadata": {
    "scrolled": true
   },
   "outputs": [],
   "source": [
    "locs_diff=np.diff(data_healthy)\n",
    "#plt.axis([-3,500,0,0.05])\n",
    "plt.hist(ISI_healthy, bins=50, density=False, alpha=0.5, color='blue', edgecolor='black')"
   ]
  },
  {
   "cell_type": "code",
   "execution_count": null,
   "id": "13893ea8",
   "metadata": {},
   "outputs": [],
   "source": [
    "map_estimate,ppc_trace = Bayesian_mixture_model(ISI_healthy)"
   ]
  },
  {
   "cell_type": "code",
   "execution_count": null,
   "id": "5f9528a8",
   "metadata": {
    "scrolled": true
   },
   "outputs": [],
   "source": [
    "plt.hist(ISI_healthy, bins=50, density=False, alpha=0.5, color='blue', edgecolor='black')\n",
    "#plt.plot(hist[0])"
   ]
  },
  {
   "cell_type": "code",
   "execution_count": null,
   "id": "64b973e1",
   "metadata": {
    "scrolled": true
   },
   "outputs": [],
   "source": [
    "plt.plot(hist[0]/max(hist[0]))"
   ]
  },
  {
   "cell_type": "code",
   "execution_count": null,
   "id": "0e18bec1",
   "metadata": {
    "scrolled": true
   },
   "outputs": [],
   "source": [
    "hist[1][:-1]"
   ]
  },
  {
   "cell_type": "code",
   "execution_count": null,
   "id": "b5a4541a",
   "metadata": {},
   "outputs": [],
   "source": [
    "max(ISI_healthy)"
   ]
  },
  {
   "cell_type": "code",
   "execution_count": null,
   "id": "8b7af302",
   "metadata": {
    "scrolled": true
   },
   "outputs": [],
   "source": [
    "ISI_healthy"
   ]
  },
  {
   "cell_type": "code",
   "execution_count": null,
   "id": "0db62586",
   "metadata": {},
   "outputs": [],
   "source": [
    "max(ISI_healthy/max(ISI_healthy))"
   ]
  },
  {
   "cell_type": "code",
   "execution_count": null,
   "id": "0627eed8",
   "metadata": {
    "scrolled": true
   },
   "outputs": [],
   "source": [
    "plt.hist(ISI_healthy/max(ISI_healthy),bins)"
   ]
  },
  {
   "cell_type": "code",
   "execution_count": null,
   "id": "0d7e1f21",
   "metadata": {},
   "outputs": [],
   "source": [
    "len(bins)"
   ]
  },
  {
   "cell_type": "code",
   "execution_count": null,
   "id": "8ed26b85",
   "metadata": {
    "scrolled": true
   },
   "outputs": [],
   "source": [
    "bins = np.arange(0, .5, 1e-3) \n",
    "plt.figure (figsize=(10,4))\n",
    "\n",
    "hist = np.histogram(ppc_trace['posterior_predictive']['like'].values,bins=bins)\n",
    "#plt.axis([0,0.3,0,160])\n",
    "a= plt.hist(ISI_healthy,bins)\n",
    "plt.plot(hist[1][:-1],hist[0]/1000,linewidth=3);"
   ]
  },
  {
   "cell_type": "code",
   "execution_count": null,
   "id": "90a815b8",
   "metadata": {},
   "outputs": [],
   "source": [
    "lista_samples=[]\n",
    "for i in list(ppc_trace['posterior_predictive']['like'].values):\n",
    "    lista_samples.extend(i)"
   ]
  },
  {
   "cell_type": "code",
   "execution_count": null,
   "id": "393dbbe2",
   "metadata": {},
   "outputs": [],
   "source": [
    "counts, _ = np.histogram(ISI_healthy, bins) \n",
    "prob_emp = counts / np.sum(counts)\n",
    "counts, _ = np.histogram(lista_samples, bins) \n",
    "prob_model = counts / np.sum(counts)\n",
    "\n",
    "Femp = np.cumsum(prob_emp)           \n",
    "Fmodel = np.cumsum(prob_model)          \n",
    "plt.figure()\n",
    "plt.plot(bins[:-1], Femp)                \n",
    "plt.plot(bins[:-1], Fmodel, 'r')       \n",
    "#plt.xlim([0, 0.2])                  \n",
    "plt.xlabel('Time [s]')\n",
    "plt.ylabel('CDF')\n",
    "plt.legend(['Empirical','Model'])\n",
    "plt.show()"
   ]
  },
  {
   "cell_type": "code",
   "execution_count": null,
   "id": "c8743c73",
   "metadata": {},
   "outputs": [],
   "source": [
    "plt.figure()\n",
    "Nlow = len(ISI_healthy)  \n",
    "# Plot the confidence bounds\n",
    "plt.plot([0, 1], [x + 1.36 / np.sqrt(Nlow) for x in [0, 1]], 'r:')\n",
    "plt.plot([0, 1], [x - 1.36 / np.sqrt(Nlow) for x in [0, 1]], 'r:')\n",
    "plt.plot(Femp, Fmodel)\n",
    "plt.axis([0, 1, 0, 1])         \n",
    "plt.xlabel('Model CDF')\n",
    "plt.ylabel('Empirical CDF')\n",
    "plt.show()"
   ]
  },
  {
   "cell_type": "code",
   "execution_count": null,
   "id": "5c8e8380",
   "metadata": {},
   "outputs": [],
   "source": []
  },
  {
   "cell_type": "code",
   "execution_count": null,
   "id": "fc962eb8",
   "metadata": {},
   "outputs": [],
   "source": []
  },
  {
   "cell_type": "code",
   "execution_count": null,
   "id": "cd6c40a8",
   "metadata": {},
   "outputs": [],
   "source": []
  },
  {
   "cell_type": "markdown",
   "id": "a6a2d399",
   "metadata": {},
   "source": [
    "# Multiple channel point process"
   ]
  },
  {
   "cell_type": "code",
   "execution_count": null,
   "id": "012ee18a",
   "metadata": {},
   "outputs": [],
   "source": [
    "dataframe = pd.DataFrame()\n",
    "list_neurons = neurons\n",
    "counter=0\n",
    "print('Original number of neurons: ',len(list_neurons))\n",
    "net=name_data\n",
    "for neuron in list_neurons:\n",
    "    neuron=neuron[neuron>0*10000]\n",
    "    neuron=neuron[neuron<200*10000]\n",
    "    print('  Neuron with ',neuron.shape[0],'spikes')\n",
    "    if neuron.shape[0]>1000:\n",
    "\n",
    "        counter+=1\n",
    "    else:\n",
    "        print('    Excluded neuron with n spikes = ',neuron.shape[0])\n",
    "        continue\n",
    "\n",
    "    ISI_healthy = np.diff(neuron)/10000\n",
    "\n",
    "\n",
    "    map_estimate = Bayesian_mixture_model(ISI_healthy)\n",
    "    if 'Healthy' in net:\n",
    "        print('target Healthy')\n",
    "        map_estimate['Target']=0\n",
    "\n",
    "    elif 'healthy' in net:\n",
    "        print('target healthy')\n",
    "        map_estimate['Target']=0\n",
    "\n",
    "    elif 'health' in net:\n",
    "        print('target health')\n",
    "        map_estimate['Target']=0\n",
    "\n",
    "    else:\n",
    "        print('target pathological')\n",
    "        map_estimate['Target']=1\n",
    "\n",
    "    if 'KA' in net:\n",
    "        map_estimate['Stimulation']=1\n",
    "\n",
    "    elif 'stimulation' in net:\n",
    "        map_estimate['Stimulation']=1\n",
    "    else:\n",
    "        map_estimate['Stimulation']=0\n",
    "\n",
    "    df = pd.DataFrame.from_dict(map_estimate,orient='index')\n",
    "    dataframe = pd.concat([dataframe,df],axis = 1)\n",
    "print('Final number of neurons: ',counter)\n",
    "print('Target = ',target)"
   ]
  },
  {
   "cell_type": "code",
   "execution_count": null,
   "id": "088dafb6",
   "metadata": {},
   "outputs": [],
   "source": [
    "final = dataframe.T\n",
    "final.to_csv('Data after PP/DataAfter')"
   ]
  },
  {
   "cell_type": "code",
   "execution_count": null,
   "id": "55f05783",
   "metadata": {},
   "outputs": [],
   "source": []
  },
  {
   "cell_type": "markdown",
   "id": "7d895b87",
   "metadata": {},
   "source": [
    "## Classification"
   ]
  },
  {
   "cell_type": "code",
   "execution_count": null,
   "id": "b9f67edf",
   "metadata": {},
   "outputs": [],
   "source": [
    "def performance_visualizer(trials_obj,n_models,choice=False,**choice_var):\n",
    "    \n",
    "    import pandas as pd\n",
    "    \n",
    "    performance = [1-t['result']['loss'] for t in trials_obj.trials]\n",
    "    \n",
    "    \n",
    "    hyperparam= list(trials_obj.trials[0]['misc']['vals'].keys())\n",
    "    \n",
    "    values_dict ={}\n",
    "    \n",
    "    for i in hyperparam:\n",
    "        \n",
    "        values_dict[i]=[]\n",
    "        \n",
    "        for j in trials_obj.trials:\n",
    "            \n",
    "            if(len(j['misc']['vals'][i])==0):\n",
    "                \n",
    "                values_dict[i].append(np.NaN)\n",
    "                \n",
    "            else:\n",
    "            \n",
    "                values_dict[i].append(j['misc']['vals'][i][0])\n",
    "                \n",
    "    out = pd.DataFrame.from_dict(values_dict)\n",
    "    \n",
    "    out['performance'] = performance\n",
    "    \n",
    "    out=out.sort_values(by=['performance'])\n",
    "    \n",
    "    \n",
    "    if choice:\n",
    "        \n",
    "        for i in list(choice_var.keys()):\n",
    "        \n",
    "            for j,_ in enumerate(choice_var[i]):\n",
    "        \n",
    "                out[i]=out[i].replace(j,choice_var[i][j])\n",
    "    \n",
    "    return out.tail(n_models)"
   ]
  },
  {
   "cell_type": "code",
   "execution_count": null,
   "id": "909b0dc2",
   "metadata": {},
   "outputs": [],
   "source": [
    "dataset = pd.read_csv('Data after PP/Data')\n",
    "dataset = dataset.drop(['Unnamed: 0'],axis=1)\n",
    "dataset"
   ]
  },
  {
   "cell_type": "code",
   "execution_count": null,
   "id": "13bee329",
   "metadata": {},
   "outputs": [],
   "source": []
  }
 ],
 "metadata": {
  "kernelspec": {
   "display_name": "Python 3 (ipykernel)",
   "language": "python",
   "name": "python3"
  },
  "language_info": {
   "codemirror_mode": {
    "name": "ipython",
    "version": 3
   },
   "file_extension": ".py",
   "mimetype": "text/x-python",
   "name": "python",
   "nbconvert_exporter": "python",
   "pygments_lexer": "ipython3",
   "version": "3.11.4"
  }
 },
 "nbformat": 4,
 "nbformat_minor": 5
}
